{
 "cells": [
  {
   "cell_type": "markdown",
   "id": "bb4f5554-efc9-460e-8254-995efb5f06ac",
   "metadata": {},
   "source": [
    "# Assignment Week02"
   ]
  },
  {
   "cell_type": "markdown",
   "id": "5b94ed9f-8513-43bb-8ad4-2eb2ac65fa1b",
   "metadata": {},
   "source": [
    "Just as a first note, there are many helpful resources for using Pandas.  The following may be useful starters if you need a place to start, or you can review the notebooks from class, or you can google just about any topic + \"pandas\" to find additional help\n",
    "* [10 minutes to Pandas](https://pandas.pydata.org/docs/user_guide/10min.html) (not 10 minutes really, but it is a short intro)\n",
    "* [pandas.DataFrame.plot documentation](https://pandas.pydata.org/docs/reference/api/pandas.DataFrame.plot.html#)\n",
    "* [Chart visualization user guide from Pandas](https://pandas.pydata.org/docs/user_guide/visualization.html)"
   ]
  },
  {
   "cell_type": "markdown",
   "id": "77df600c-5f4a-4e18-bd2d-88551a4f1cc6",
   "metadata": {},
   "source": [
    "## Pandas and plotting exercises"
   ]
  },
  {
   "cell_type": "code",
   "execution_count": 1,
   "id": "f5e83735-8845-4afc-b79a-b0efe963d305",
   "metadata": {},
   "outputs": [],
   "source": [
    "# Import the pandas library\n",
    "\n",
    "import pandas as pd \n",
    "import seaborn as sns\n",
    "import numpy as np"
   ]
  },
  {
   "cell_type": "markdown",
   "id": "c4fe53d9-5776-45c6-b47d-9465a2888808",
   "metadata": {},
   "source": [
    "We'll be working with one of the datasets that Tableau makes available as an intro training set.  (This way we can get accustomed to analyzing it with both Python and Tableau)"
   ]
  },
  {
   "cell_type": "code",
   "execution_count": 2,
   "id": "c5850ef7-07fb-456c-9943-ba9e87cc0784",
   "metadata": {},
   "outputs": [],
   "source": [
    "# Use pandas' read_excel function to import the Excel spreadsheet \n",
    "# data from 'TableauSuperstore.xls' into a dataframe variable\n",
    "\n",
    "data = pd.read_excel(\"TableauSuperstore.xls\")"
   ]
  },
  {
   "cell_type": "code",
   "execution_count": 3,
   "id": "ab04825f-f9ba-49ae-bf40-322f4e2554a9",
   "metadata": {},
   "outputs": [
    {
     "name": "stdout",
     "output_type": "stream",
     "text": [
      "Number of rows: 9994\n",
      "Number of columns: 21\n"
     ]
    }
   ],
   "source": [
    "# How many rows and columns does the dataframe have?\n",
    "\n",
    "print(f\"Number of rows: {data.shape[0]}\\nNumber of columns: {data.shape[1]}\")"
   ]
  },
  {
   "cell_type": "code",
   "execution_count": 4,
   "id": "e20a45fc-dfc0-4559-977b-d2b86e2f6534",
   "metadata": {},
   "outputs": [
    {
     "data": {
      "text/plain": [
       "Index(['Row ID', 'Order ID', 'Order Date', 'Ship Date', 'Ship Mode',\n",
       "       'Customer ID', 'Customer Name', 'Segment', 'Country/Region', 'City',\n",
       "       'State', 'Postal Code', 'Region', 'Product ID', 'Category',\n",
       "       'Sub-Category', 'Product Name', 'Sales', 'Quantity', 'Discount',\n",
       "       'Profit'],\n",
       "      dtype='object')"
      ]
     },
     "execution_count": 4,
     "metadata": {},
     "output_type": "execute_result"
    }
   ],
   "source": [
    "# What are the column names of the dataframe?\n",
    "\n",
    "data.columns "
   ]
  },
  {
   "cell_type": "code",
   "execution_count": 5,
   "id": "7a549f96-8e8e-456a-a219-096dcddb1fb8",
   "metadata": {},
   "outputs": [
    {
     "data": {
      "text/plain": [
       "Row ID                     int64\n",
       "Order ID                  object\n",
       "Order Date        datetime64[ns]\n",
       "Ship Date         datetime64[ns]\n",
       "Ship Mode                 object\n",
       "Customer ID               object\n",
       "Customer Name             object\n",
       "Segment                   object\n",
       "Country/Region            object\n",
       "City                      object\n",
       "State                     object\n",
       "Postal Code              float64\n",
       "Region                    object\n",
       "Product ID                object\n",
       "Category                  object\n",
       "Sub-Category              object\n",
       "Product Name              object\n",
       "Sales                    float64\n",
       "Quantity                   int64\n",
       "Discount                 float64\n",
       "Profit                   float64\n",
       "dtype: object"
      ]
     },
     "execution_count": 5,
     "metadata": {},
     "output_type": "execute_result"
    }
   ],
   "source": [
    "# What are the datatypes of each column?\n",
    "\n",
    "data.dtypes "
   ]
  },
  {
   "cell_type": "code",
   "execution_count": 6,
   "id": "51471321-443e-4b23-846e-54630d29af29",
   "metadata": {},
   "outputs": [
    {
     "data": {
      "text/html": [
       "<div>\n",
       "<style scoped>\n",
       "    .dataframe tbody tr th:only-of-type {\n",
       "        vertical-align: middle;\n",
       "    }\n",
       "\n",
       "    .dataframe tbody tr th {\n",
       "        vertical-align: top;\n",
       "    }\n",
       "\n",
       "    .dataframe thead th {\n",
       "        text-align: right;\n",
       "    }\n",
       "</style>\n",
       "<table border=\"1\" class=\"dataframe\">\n",
       "  <thead>\n",
       "    <tr style=\"text-align: right;\">\n",
       "      <th></th>\n",
       "      <th>Row ID</th>\n",
       "      <th>Order ID</th>\n",
       "      <th>Order Date</th>\n",
       "      <th>Ship Date</th>\n",
       "      <th>Ship Mode</th>\n",
       "      <th>Customer ID</th>\n",
       "      <th>Customer Name</th>\n",
       "      <th>Segment</th>\n",
       "      <th>Country/Region</th>\n",
       "      <th>City</th>\n",
       "      <th>...</th>\n",
       "      <th>Postal Code</th>\n",
       "      <th>Region</th>\n",
       "      <th>Product ID</th>\n",
       "      <th>Category</th>\n",
       "      <th>Sub-Category</th>\n",
       "      <th>Product Name</th>\n",
       "      <th>Sales</th>\n",
       "      <th>Quantity</th>\n",
       "      <th>Discount</th>\n",
       "      <th>Profit</th>\n",
       "    </tr>\n",
       "  </thead>\n",
       "  <tbody>\n",
       "    <tr>\n",
       "      <th>0</th>\n",
       "      <td>1</td>\n",
       "      <td>CA-2020-152156</td>\n",
       "      <td>2020-11-08</td>\n",
       "      <td>2020-11-11</td>\n",
       "      <td>Second Class</td>\n",
       "      <td>CG-12520</td>\n",
       "      <td>Claire Gute</td>\n",
       "      <td>Consumer</td>\n",
       "      <td>United States</td>\n",
       "      <td>Henderson</td>\n",
       "      <td>...</td>\n",
       "      <td>42420.0</td>\n",
       "      <td>South</td>\n",
       "      <td>FUR-BO-10001798</td>\n",
       "      <td>Furniture</td>\n",
       "      <td>Bookcases</td>\n",
       "      <td>Bush Somerset Collection Bookcase</td>\n",
       "      <td>261.96</td>\n",
       "      <td>2</td>\n",
       "      <td>0.0</td>\n",
       "      <td>41.9136</td>\n",
       "    </tr>\n",
       "    <tr>\n",
       "      <th>1</th>\n",
       "      <td>2</td>\n",
       "      <td>CA-2020-152156</td>\n",
       "      <td>2020-11-08</td>\n",
       "      <td>2020-11-11</td>\n",
       "      <td>Second Class</td>\n",
       "      <td>CG-12520</td>\n",
       "      <td>Claire Gute</td>\n",
       "      <td>Consumer</td>\n",
       "      <td>United States</td>\n",
       "      <td>Henderson</td>\n",
       "      <td>...</td>\n",
       "      <td>42420.0</td>\n",
       "      <td>South</td>\n",
       "      <td>FUR-CH-10000454</td>\n",
       "      <td>Furniture</td>\n",
       "      <td>Chairs</td>\n",
       "      <td>Hon Deluxe Fabric Upholstered Stacking Chairs,...</td>\n",
       "      <td>731.94</td>\n",
       "      <td>3</td>\n",
       "      <td>0.0</td>\n",
       "      <td>219.5820</td>\n",
       "    </tr>\n",
       "  </tbody>\n",
       "</table>\n",
       "<p>2 rows × 21 columns</p>\n",
       "</div>"
      ],
      "text/plain": [
       "   Row ID        Order ID Order Date  Ship Date     Ship Mode Customer ID  \\\n",
       "0       1  CA-2020-152156 2020-11-08 2020-11-11  Second Class    CG-12520   \n",
       "1       2  CA-2020-152156 2020-11-08 2020-11-11  Second Class    CG-12520   \n",
       "\n",
       "  Customer Name   Segment Country/Region       City  ... Postal Code  Region  \\\n",
       "0   Claire Gute  Consumer  United States  Henderson  ...     42420.0   South   \n",
       "1   Claire Gute  Consumer  United States  Henderson  ...     42420.0   South   \n",
       "\n",
       "        Product ID   Category Sub-Category  \\\n",
       "0  FUR-BO-10001798  Furniture    Bookcases   \n",
       "1  FUR-CH-10000454  Furniture       Chairs   \n",
       "\n",
       "                                        Product Name   Sales  Quantity  \\\n",
       "0                  Bush Somerset Collection Bookcase  261.96         2   \n",
       "1  Hon Deluxe Fabric Upholstered Stacking Chairs,...  731.94         3   \n",
       "\n",
       "   Discount    Profit  \n",
       "0       0.0   41.9136  \n",
       "1       0.0  219.5820  \n",
       "\n",
       "[2 rows x 21 columns]"
      ]
     },
     "execution_count": 6,
     "metadata": {},
     "output_type": "execute_result"
    }
   ],
   "source": [
    "# Look at the first 2 rows of the dataframe\n",
    "\n",
    "data.head(2)"
   ]
  },
  {
   "cell_type": "code",
   "execution_count": 7,
   "id": "f0206392-0e77-497c-8394-ad3e229a83ab",
   "metadata": {},
   "outputs": [
    {
     "data": {
      "text/html": [
       "<div>\n",
       "<style scoped>\n",
       "    .dataframe tbody tr th:only-of-type {\n",
       "        vertical-align: middle;\n",
       "    }\n",
       "\n",
       "    .dataframe tbody tr th {\n",
       "        vertical-align: top;\n",
       "    }\n",
       "\n",
       "    .dataframe thead th {\n",
       "        text-align: right;\n",
       "    }\n",
       "</style>\n",
       "<table border=\"1\" class=\"dataframe\">\n",
       "  <thead>\n",
       "    <tr style=\"text-align: right;\">\n",
       "      <th></th>\n",
       "      <th>Row ID</th>\n",
       "      <th>Order ID</th>\n",
       "      <th>Order Date</th>\n",
       "      <th>Ship Date</th>\n",
       "      <th>Ship Mode</th>\n",
       "      <th>Customer ID</th>\n",
       "      <th>Customer Name</th>\n",
       "      <th>Segment</th>\n",
       "      <th>Country/Region</th>\n",
       "      <th>City</th>\n",
       "      <th>...</th>\n",
       "      <th>Postal Code</th>\n",
       "      <th>Region</th>\n",
       "      <th>Product ID</th>\n",
       "      <th>Category</th>\n",
       "      <th>Sub-Category</th>\n",
       "      <th>Product Name</th>\n",
       "      <th>Sales</th>\n",
       "      <th>Quantity</th>\n",
       "      <th>Discount</th>\n",
       "      <th>Profit</th>\n",
       "    </tr>\n",
       "  </thead>\n",
       "  <tbody>\n",
       "    <tr>\n",
       "      <th>9992</th>\n",
       "      <td>9993</td>\n",
       "      <td>CA-2021-121258</td>\n",
       "      <td>2021-02-26</td>\n",
       "      <td>2021-03-03</td>\n",
       "      <td>Standard Class</td>\n",
       "      <td>DB-13060</td>\n",
       "      <td>Dave Brooks</td>\n",
       "      <td>Consumer</td>\n",
       "      <td>United States</td>\n",
       "      <td>Costa Mesa</td>\n",
       "      <td>...</td>\n",
       "      <td>92627.0</td>\n",
       "      <td>West</td>\n",
       "      <td>OFF-PA-10004041</td>\n",
       "      <td>Office Supplies</td>\n",
       "      <td>Paper</td>\n",
       "      <td>It's Hot Message Books with Stickers, 2 3/4\" x 5\"</td>\n",
       "      <td>29.60</td>\n",
       "      <td>4</td>\n",
       "      <td>0.0</td>\n",
       "      <td>13.320</td>\n",
       "    </tr>\n",
       "    <tr>\n",
       "      <th>9993</th>\n",
       "      <td>9994</td>\n",
       "      <td>CA-2021-119914</td>\n",
       "      <td>2021-05-04</td>\n",
       "      <td>2021-05-09</td>\n",
       "      <td>Second Class</td>\n",
       "      <td>CC-12220</td>\n",
       "      <td>Chris Cortes</td>\n",
       "      <td>Consumer</td>\n",
       "      <td>United States</td>\n",
       "      <td>Westminster</td>\n",
       "      <td>...</td>\n",
       "      <td>92683.0</td>\n",
       "      <td>West</td>\n",
       "      <td>OFF-AP-10002684</td>\n",
       "      <td>Office Supplies</td>\n",
       "      <td>Appliances</td>\n",
       "      <td>Acco 7-Outlet Masterpiece Power Center, Wihtou...</td>\n",
       "      <td>243.16</td>\n",
       "      <td>2</td>\n",
       "      <td>0.0</td>\n",
       "      <td>72.948</td>\n",
       "    </tr>\n",
       "  </tbody>\n",
       "</table>\n",
       "<p>2 rows × 21 columns</p>\n",
       "</div>"
      ],
      "text/plain": [
       "      Row ID        Order ID Order Date  Ship Date       Ship Mode  \\\n",
       "9992    9993  CA-2021-121258 2021-02-26 2021-03-03  Standard Class   \n",
       "9993    9994  CA-2021-119914 2021-05-04 2021-05-09    Second Class   \n",
       "\n",
       "     Customer ID Customer Name   Segment Country/Region         City  ...  \\\n",
       "9992    DB-13060   Dave Brooks  Consumer  United States   Costa Mesa  ...   \n",
       "9993    CC-12220  Chris Cortes  Consumer  United States  Westminster  ...   \n",
       "\n",
       "     Postal Code  Region       Product ID         Category Sub-Category  \\\n",
       "9992     92627.0    West  OFF-PA-10004041  Office Supplies        Paper   \n",
       "9993     92683.0    West  OFF-AP-10002684  Office Supplies   Appliances   \n",
       "\n",
       "                                           Product Name   Sales  Quantity  \\\n",
       "9992  It's Hot Message Books with Stickers, 2 3/4\" x 5\"   29.60         4   \n",
       "9993  Acco 7-Outlet Masterpiece Power Center, Wihtou...  243.16         2   \n",
       "\n",
       "      Discount  Profit  \n",
       "9992       0.0  13.320  \n",
       "9993       0.0  72.948  \n",
       "\n",
       "[2 rows x 21 columns]"
      ]
     },
     "execution_count": 7,
     "metadata": {},
     "output_type": "execute_result"
    }
   ],
   "source": [
    "# Look at the last 2 rows of the dataframe\n",
    "\n",
    "data.tail(2)"
   ]
  },
  {
   "cell_type": "code",
   "execution_count": 8,
   "id": "e87824ad-9ff4-487d-8506-00d940083ae0",
   "metadata": {},
   "outputs": [
    {
     "data": {
      "text/html": [
       "<div>\n",
       "<style scoped>\n",
       "    .dataframe tbody tr th:only-of-type {\n",
       "        vertical-align: middle;\n",
       "    }\n",
       "\n",
       "    .dataframe tbody tr th {\n",
       "        vertical-align: top;\n",
       "    }\n",
       "\n",
       "    .dataframe thead th {\n",
       "        text-align: right;\n",
       "    }\n",
       "</style>\n",
       "<table border=\"1\" class=\"dataframe\">\n",
       "  <thead>\n",
       "    <tr style=\"text-align: right;\">\n",
       "      <th></th>\n",
       "      <th>Row ID</th>\n",
       "      <th>Postal Code</th>\n",
       "      <th>Sales</th>\n",
       "      <th>Quantity</th>\n",
       "      <th>Discount</th>\n",
       "      <th>Profit</th>\n",
       "    </tr>\n",
       "  </thead>\n",
       "  <tbody>\n",
       "    <tr>\n",
       "      <th>count</th>\n",
       "      <td>9994.000000</td>\n",
       "      <td>9983.000000</td>\n",
       "      <td>9994.000000</td>\n",
       "      <td>9994.000000</td>\n",
       "      <td>9994.000000</td>\n",
       "      <td>9994.000000</td>\n",
       "    </tr>\n",
       "    <tr>\n",
       "      <th>mean</th>\n",
       "      <td>4997.500000</td>\n",
       "      <td>55245.233297</td>\n",
       "      <td>229.858001</td>\n",
       "      <td>3.789574</td>\n",
       "      <td>0.156203</td>\n",
       "      <td>28.656896</td>\n",
       "    </tr>\n",
       "    <tr>\n",
       "      <th>std</th>\n",
       "      <td>2885.163629</td>\n",
       "      <td>32038.715955</td>\n",
       "      <td>623.245101</td>\n",
       "      <td>2.225110</td>\n",
       "      <td>0.206452</td>\n",
       "      <td>234.260108</td>\n",
       "    </tr>\n",
       "    <tr>\n",
       "      <th>min</th>\n",
       "      <td>1.000000</td>\n",
       "      <td>1040.000000</td>\n",
       "      <td>0.444000</td>\n",
       "      <td>1.000000</td>\n",
       "      <td>0.000000</td>\n",
       "      <td>-6599.978000</td>\n",
       "    </tr>\n",
       "    <tr>\n",
       "      <th>25%</th>\n",
       "      <td>2499.250000</td>\n",
       "      <td>23223.000000</td>\n",
       "      <td>17.280000</td>\n",
       "      <td>2.000000</td>\n",
       "      <td>0.000000</td>\n",
       "      <td>1.728750</td>\n",
       "    </tr>\n",
       "    <tr>\n",
       "      <th>50%</th>\n",
       "      <td>4997.500000</td>\n",
       "      <td>57103.000000</td>\n",
       "      <td>54.490000</td>\n",
       "      <td>3.000000</td>\n",
       "      <td>0.200000</td>\n",
       "      <td>8.666500</td>\n",
       "    </tr>\n",
       "    <tr>\n",
       "      <th>75%</th>\n",
       "      <td>7495.750000</td>\n",
       "      <td>90008.000000</td>\n",
       "      <td>209.940000</td>\n",
       "      <td>5.000000</td>\n",
       "      <td>0.200000</td>\n",
       "      <td>29.364000</td>\n",
       "    </tr>\n",
       "    <tr>\n",
       "      <th>max</th>\n",
       "      <td>9994.000000</td>\n",
       "      <td>99301.000000</td>\n",
       "      <td>22638.480000</td>\n",
       "      <td>14.000000</td>\n",
       "      <td>0.800000</td>\n",
       "      <td>8399.976000</td>\n",
       "    </tr>\n",
       "  </tbody>\n",
       "</table>\n",
       "</div>"
      ],
      "text/plain": [
       "            Row ID   Postal Code         Sales     Quantity     Discount  \\\n",
       "count  9994.000000   9983.000000   9994.000000  9994.000000  9994.000000   \n",
       "mean   4997.500000  55245.233297    229.858001     3.789574     0.156203   \n",
       "std    2885.163629  32038.715955    623.245101     2.225110     0.206452   \n",
       "min       1.000000   1040.000000      0.444000     1.000000     0.000000   \n",
       "25%    2499.250000  23223.000000     17.280000     2.000000     0.000000   \n",
       "50%    4997.500000  57103.000000     54.490000     3.000000     0.200000   \n",
       "75%    7495.750000  90008.000000    209.940000     5.000000     0.200000   \n",
       "max    9994.000000  99301.000000  22638.480000    14.000000     0.800000   \n",
       "\n",
       "            Profit  \n",
       "count  9994.000000  \n",
       "mean     28.656896  \n",
       "std     234.260108  \n",
       "min   -6599.978000  \n",
       "25%       1.728750  \n",
       "50%       8.666500  \n",
       "75%      29.364000  \n",
       "max    8399.976000  "
      ]
     },
     "execution_count": 8,
     "metadata": {},
     "output_type": "execute_result"
    }
   ],
   "source": [
    "# Print out summary statistics about the dataframe\n",
    "\n",
    "data.describe() "
   ]
  },
  {
   "cell_type": "code",
   "execution_count": 9,
   "id": "9b5dfabd-61b3-4cda-80d4-7a20444afa25",
   "metadata": {},
   "outputs": [
    {
     "data": {
      "text/plain": [
       "0       261.9600\n",
       "1       731.9400\n",
       "2        14.6200\n",
       "3       957.5775\n",
       "4        22.3680\n",
       "          ...   \n",
       "9989     25.2480\n",
       "9990     91.9600\n",
       "9991    258.5760\n",
       "9992     29.6000\n",
       "9993    243.1600\n",
       "Name: Sales, Length: 9994, dtype: float64"
      ]
     },
     "execution_count": 9,
     "metadata": {},
     "output_type": "execute_result"
    }
   ],
   "source": [
    "# Print out the values in the 'Sales' column (it's ok if the output is abbreviated)\n",
    "\n",
    "data[\"Sales\"]"
   ]
  },
  {
   "cell_type": "code",
   "execution_count": 10,
   "id": "0c5e2c07-0dff-4e78-bbb7-8faef3fdf758",
   "metadata": {},
   "outputs": [
    {
     "data": {
      "text/plain": [
       "<AxesSubplot:>"
      ]
     },
     "execution_count": 10,
     "metadata": {},
     "output_type": "execute_result"
    },
    {
     "data": {
      "image/png": "[encoded data removed]",
      "text/plain": [
       "<Figure size 432x288 with 1 Axes>"
      ]
     },
     "metadata": {
      "needs_background": "light"
     },
     "output_type": "display_data"
    }
   ],
   "source": [
    "# Make a line plot of the values in the 'Sales' column\n",
    "\n",
    "data[\"Sales\"].plot.line()"
   ]
  },
  {
   "cell_type": "code",
   "execution_count": 11,
   "id": "06826d6d",
   "metadata": {},
   "outputs": [
    {
     "data": {
      "text/plain": [
       "<AxesSubplot:>"
      ]
     },
     "execution_count": 11,
     "metadata": {},
     "output_type": "execute_result"
    },
    {
     "data": {
      "image/png": "[encoded data removed]",
      "text/plain": [
       "<Figure size 432x288 with 1 Axes>"
      ]
     },
     "metadata": {
      "needs_background": "light"
     },
     "output_type": "display_data"
    }
   ],
   "source": [
    "# This doesn't look much like a line splot, so let's zoom in to the 50 first values to confirm\n",
    "\n",
    "data.head(50)[\"Sales\"].plot.line()\n",
    "\n",
    "# Ploting like this doesn't give much information since there's no\n",
    "# correlation from one sale to the other based on index"
   ]
  },
  {
   "cell_type": "code",
   "execution_count": 12,
   "id": "671f9d34-2bd6-4143-b5e1-66d246ce7ef0",
   "metadata": {},
   "outputs": [
    {
     "data": {
      "text/plain": [
       "<AxesSubplot:ylabel='Frequency'>"
      ]
     },
     "execution_count": 12,
     "metadata": {},
     "output_type": "execute_result"
    },
    {
     "data": {
      "image/png": "[encoded data removed]",
      "text/plain": [
       "<Figure size 432x288 with 1 Axes>"
      ]
     },
     "metadata": {
      "needs_background": "light"
     },
     "output_type": "display_data"
    }
   ],
   "source": [
    "# Make a histogram of the values in the 'Sales' column\n",
    "data[\"Sales\"].plot.hist()"
   ]
  },
  {
   "cell_type": "code",
   "execution_count": 13,
   "id": "0ca3a544",
   "metadata": {},
   "outputs": [
    {
     "data": {
      "text/plain": [
       "<AxesSubplot:xlabel='Sales', ylabel='Count'>"
      ]
     },
     "execution_count": 13,
     "metadata": {},
     "output_type": "execute_result"
    },
    {
     "data": {
      "image/png": "[encoded data removed]",
      "text/plain": [
       "<Figure size 432x288 with 1 Axes>"
      ]
     },
     "metadata": {
      "needs_background": "light"
     },
     "output_type": "display_data"
    }
   ],
   "source": [
    "# The base plot doesn't tell much of a story, so let's modify the binwidth\n",
    "\n",
    "sns.histplot(data=data, x=\"Sales\", binwidth=600)"
   ]
  },
  {
   "cell_type": "code",
   "execution_count": 14,
   "id": "0f0fb9f1",
   "metadata": {},
   "outputs": [
    {
     "data": {
      "text/plain": [
       "[Text(0.5, 1.0, 'Log price sales count')]"
      ]
     },
     "execution_count": 14,
     "metadata": {},
     "output_type": "execute_result"
    },
    {
     "data": {
      "image/png": "[encoded data removed]",
      "text/plain": [
       "<Figure size 432x288 with 1 Axes>"
      ]
     },
     "metadata": {
      "needs_background": "light"
     },
     "output_type": "display_data"
    }
   ],
   "source": [
    "# The vast majority of sales have been concluded for less that 600$\n",
    "# A log scale could fix that\n",
    "\n",
    "data[\"Log_Sales\"] = data[\"Sales\"].apply(\n",
    "    lambda price: np.log(price)\n",
    ")\n",
    "\n",
    "sns.histplot(data=data, x=\"Log_Sales\", kde=True).set(title=\"Log price sales count\")"
   ]
  },
  {
   "cell_type": "code",
   "execution_count": 72,
   "id": "1b18d2da",
   "metadata": {},
   "outputs": [
    {
     "data": {
      "text/plain": [
       "[Text(0.5, 1.0, 'Sales count')]"
      ]
     },
     "execution_count": 72,
     "metadata": {},
     "output_type": "execute_result"
    },
    {
     "data": {
      "image/png": "[encoded data removed]",
      "text/plain": [
       "<Figure size 432x288 with 1 Axes>"
      ]
     },
     "metadata": {
      "needs_background": "light"
     },
     "output_type": "display_data"
    }
   ],
   "source": [
    "# A similar result can be obtained by filtering out the minority of high-value sales\n",
    "# that biases the plot to the left and reducing bin size, since the 3rd quartile\n",
    "# is 209.940000$ and the max value over 20000$\n",
    "\n",
    "data_filtered_sales = data[data[\"Sales\"] < 209.94]\n",
    "\n",
    "sns.histplot(data=data_filtered_sales, x=\"Sales\", binwidth=4, kde=True).set(title=\"Sales count\")"
   ]
  },
  {
   "cell_type": "code",
   "execution_count": 75,
   "id": "6e7c7f92-3b6c-4cd0-a9ef-6356cb4c2ca5",
   "metadata": {},
   "outputs": [
    {
     "data": {
      "text/plain": [
       "0    261.9600\n",
       "1    731.9400\n",
       "2     14.6200\n",
       "3    957.5775\n",
       "4     22.3680\n",
       "5     48.8600\n",
       "6      7.2800\n",
       "7    907.1520\n",
       "8     18.5040\n",
       "9    114.9000\n",
       "Name: Sales, dtype: float64"
      ]
     },
     "execution_count": 75,
     "metadata": {},
     "output_type": "execute_result"
    }
   ],
   "source": [
    "# Use \"loc\" to print out the first 10 elements of the 'Sales' column\n",
    "\n",
    "data[\"Sales\"].loc[:9]"
   ]
  },
  {
   "cell_type": "code",
   "execution_count": 15,
   "id": "3a7b0251-f9e3-4f81-858d-d6c1c2b41e2d",
   "metadata": {},
   "outputs": [
    {
     "data": {
      "text/html": [
       "<div>\n",
       "<style scoped>\n",
       "    .dataframe tbody tr th:only-of-type {\n",
       "        vertical-align: middle;\n",
       "    }\n",
       "\n",
       "    .dataframe tbody tr th {\n",
       "        vertical-align: top;\n",
       "    }\n",
       "\n",
       "    .dataframe thead th {\n",
       "        text-align: right;\n",
       "    }\n",
       "</style>\n",
       "<table border=\"1\" class=\"dataframe\">\n",
       "  <thead>\n",
       "    <tr style=\"text-align: right;\">\n",
       "      <th></th>\n",
       "      <th>Sales</th>\n",
       "      <th>Sub-Category</th>\n",
       "    </tr>\n",
       "  </thead>\n",
       "  <tbody>\n",
       "    <tr>\n",
       "      <th>0</th>\n",
       "      <td>261.9600</td>\n",
       "      <td>Bookcases</td>\n",
       "    </tr>\n",
       "    <tr>\n",
       "      <th>1</th>\n",
       "      <td>731.9400</td>\n",
       "      <td>Chairs</td>\n",
       "    </tr>\n",
       "    <tr>\n",
       "      <th>2</th>\n",
       "      <td>14.6200</td>\n",
       "      <td>Labels</td>\n",
       "    </tr>\n",
       "    <tr>\n",
       "      <th>3</th>\n",
       "      <td>957.5775</td>\n",
       "      <td>Tables</td>\n",
       "    </tr>\n",
       "    <tr>\n",
       "      <th>4</th>\n",
       "      <td>22.3680</td>\n",
       "      <td>Storage</td>\n",
       "    </tr>\n",
       "    <tr>\n",
       "      <th>5</th>\n",
       "      <td>48.8600</td>\n",
       "      <td>Furnishings</td>\n",
       "    </tr>\n",
       "    <tr>\n",
       "      <th>6</th>\n",
       "      <td>7.2800</td>\n",
       "      <td>Art</td>\n",
       "    </tr>\n",
       "    <tr>\n",
       "      <th>7</th>\n",
       "      <td>907.1520</td>\n",
       "      <td>Phones</td>\n",
       "    </tr>\n",
       "    <tr>\n",
       "      <th>8</th>\n",
       "      <td>18.5040</td>\n",
       "      <td>Binders</td>\n",
       "    </tr>\n",
       "    <tr>\n",
       "      <th>9</th>\n",
       "      <td>114.9000</td>\n",
       "      <td>Appliances</td>\n",
       "    </tr>\n",
       "  </tbody>\n",
       "</table>\n",
       "</div>"
      ],
      "text/plain": [
       "      Sales Sub-Category\n",
       "0  261.9600    Bookcases\n",
       "1  731.9400       Chairs\n",
       "2   14.6200       Labels\n",
       "3  957.5775       Tables\n",
       "4   22.3680      Storage\n",
       "5   48.8600  Furnishings\n",
       "6    7.2800          Art\n",
       "7  907.1520       Phones\n",
       "8   18.5040      Binders\n",
       "9  114.9000   Appliances"
      ]
     },
     "execution_count": 15,
     "metadata": {},
     "output_type": "execute_result"
    }
   ],
   "source": [
    "# Use \"loc\" to print out the first 10 elements of \n",
    "# both the 'Sales' and 'Sub-Category' columns\n",
    "\n",
    "data[[\"Sales\", \"Sub-Category\"]].loc[:9]"
   ]
  },
  {
   "cell_type": "code",
   "execution_count": 16,
   "id": "e2b2a59b-4246-40cc-b5de-728bd678b832",
   "metadata": {},
   "outputs": [
    {
     "data": {
      "text/plain": [
       "[Text(0.5, 1.0, 'Sales by Sub-Category')]"
      ]
     },
     "execution_count": 16,
     "metadata": {},
     "output_type": "execute_result"
    },
    {
     "data": {
      "image/png": "[encoded data removed]",
      "text/plain": [
       "<Figure size 864x864 with 1 Axes>"
      ]
     },
     "metadata": {
      "needs_background": "light"
     },
     "output_type": "display_data"
    }
   ],
   "source": [
    "# Assign the dataframe values from the previous cell into a new dataframe variable\n",
    "# and make a bar plot with 'Sub-Category' values along the horizontal axis\n",
    "# and 'Sales' values along the vertical axis\n",
    "import matplotlib.pyplot as plt\n",
    "\n",
    "data_new = data[[\"Sales\", \"Sub-Category\"]].loc[:9]\n",
    "\n",
    "# Use matplotlib figsize parameter to prevent x_axis annotations from overlaping\n",
    "_, ax = plt.subplots(figsize=(12,12))\n",
    "sns.barplot(data=data_new, x=\"Sub-Category\", y=\"Sales\", ax=ax).set(title=\"Sales by Sub-Category\")"
   ]
  },
  {
   "cell_type": "code",
   "execution_count": 17,
   "id": "46120796-845a-49b3-997f-b44825e375ea",
   "metadata": {},
   "outputs": [
    {
     "data": {
      "text/plain": [
       "[Text(0.5, 1.0, 'Sales by Sub-Category')]"
      ]
     },
     "execution_count": 17,
     "metadata": {},
     "output_type": "execute_result"
    },
    {
     "data": {
      "image/png": "[encoded data removed]",
      "text/plain": [
       "<Figure size 864x864 with 1 Axes>"
      ]
     },
     "metadata": {
      "needs_background": "light"
     },
     "output_type": "display_data"
    }
   ],
   "source": [
    "# Re-do the plot from the previous cell as a horizontal bar plot\n",
    "\n",
    "_, ax = plt.subplots(figsize=(12,12))\n",
    "sns.barplot(data=data_new, x=\"Sales\", y=\"Sub-Category\", ax=ax).set(title=\"Sales by Sub-Category\")"
   ]
  },
  {
   "cell_type": "markdown",
   "id": "66503e37-f96a-4a25-aaf6-c7d8b9f8cbdd",
   "metadata": {},
   "source": [
    "**Make three other plots of your choosing with different features from the dataframe.**\n",
    "\n"
   ]
  },
  {
   "cell_type": "code",
   "execution_count": 18,
   "id": "3fa0ce73-b09e-46a6-b1e7-2d68f2696f8d",
   "metadata": {},
   "outputs": [
    {
     "data": {
      "text/plain": [
       "[Text(0.5, 1.0, 'Average Profit by Sub-Category')]"
      ]
     },
     "execution_count": 18,
     "metadata": {},
     "output_type": "execute_result"
    },
    {
     "data": {
      "image/png": "[encoded data removed]",
      "text/plain": [
       "<Figure size 1008x1008 with 1 Axes>"
      ]
     },
     "metadata": {
      "needs_background": "light"
     },
     "output_type": "display_data"
    }
   ],
   "source": [
    "# Barplot of average profit by sub-category\n",
    "\n",
    "data_grouped = data.groupby(\"Sub-Category\").mean()\n",
    "\n",
    "_, ax = plt.subplots(figsize=(14,14))\n",
    "sns.barplot(data=data_grouped, x=data_grouped.index, y=\"Profit\", ax=ax).set(title=\"Average Profit by Sub-Category\")"
   ]
  },
  {
   "cell_type": "code",
   "execution_count": 120,
   "id": "a7f8a299-664c-4db2-9ba5-962e2d743012",
   "metadata": {},
   "outputs": [
    {
     "data": {
      "text/plain": [
       "[Text(0.5, 1.0, 'Sales count per segment')]"
      ]
     },
     "execution_count": 120,
     "metadata": {},
     "output_type": "execute_result"
    },
    {
     "data": {
      "image/png": "[encoded data removed]",
      "text/plain": [
       "<Figure size 720x720 with 1 Axes>"
      ]
     },
     "metadata": {
      "needs_background": "light"
     },
     "output_type": "display_data"
    }
   ],
   "source": [
    "# Sales count per segment\n",
    "\n",
    "data_segment = data.groupby(\"Segment\").sum()\n",
    "\n",
    "_, ax = plt.subplots(figsize=(10,10))\n",
    "sns.barplot(data=data_segment, x=data_segment.index, y=\"Quantity\", ax=ax).set(title=\"Sales count per segment\")"
   ]
  },
  {
   "cell_type": "code",
   "execution_count": 144,
   "id": "3044a5fe-921a-410c-95f2-b1a5e77749a8",
   "metadata": {},
   "outputs": [
    {
     "data": {
      "text/plain": [
       "[Text(0.5, 1.0, 'Sales per Region')]"
      ]
     },
     "execution_count": 144,
     "metadata": {},
     "output_type": "execute_result"
    },
    {
     "data": {
      "image/png": "[encoded data removed]",
      "text/plain": [
       "<Figure size 720x720 with 1 Axes>"
      ]
     },
     "metadata": {},
     "output_type": "display_data"
    }
   ],
   "source": [
    "data_region = data[\"Region\"].value_counts()\n",
    "data_region.plot.pie(y=\"Region\", labels=data_region.index, autopct='%.1f%%', figsize=(10,10), legend=True).set(title=\"Sales per Region\")"
   ]
  },
  {
   "cell_type": "markdown",
   "id": "60f869ea-8753-4d50-bc0e-1c6868591d09",
   "metadata": {},
   "source": [
    "# End"
   ]
  }
 ],
 "metadata": {
  "kernelspec": {
   "display_name": "Python 3.9.7 ('base')",
   "language": "python",
   "name": "python3"
  },
  "language_info": {
   "codemirror_mode": {
    "name": "ipython",
    "version": 3
   },
   "file_extension": ".py",
   "mimetype": "text/x-python",
   "name": "python",
   "nbconvert_exporter": "python",
   "pygments_lexer": "ipython3",
   "version": "3.9.7"
  },
  "vscode": {
   "interpreter": {
    "hash": "ad2bdc8ecc057115af97d19610ffacc2b4e99fae6737bb82f5d7fb13d2f2c186"
   }
  }
 },
 "nbformat": 4,
 "nbformat_minor": 5
}
