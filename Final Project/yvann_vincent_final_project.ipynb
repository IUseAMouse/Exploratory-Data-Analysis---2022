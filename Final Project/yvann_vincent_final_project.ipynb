{
 "cells": [
  {
   "cell_type": "markdown",
   "metadata": {},
   "source": [
    "<center>\n",
    "<h1>Data Science salaries - Exploratory Data Visualization</h1>\n",
    "</center>"
   ]
  },
  {
   "cell_type": "code",
   "execution_count": 1,
   "metadata": {},
   "outputs": [],
   "source": [
    "# Lib imports\n",
    "\n",
    "import pandas as pd\n",
    "import seaborn as sns\n",
    "import matplotlib.pyplot as plt \n",
    "import matplotlib.patches as mpatches\n",
    "import plotly as ply"
   ]
  },
  {
   "cell_type": "markdown",
   "metadata": {},
   "source": [
    "# I - Set Up / Summary"
   ]
  },
  {
   "cell_type": "markdown",
   "metadata": {},
   "source": [
    "My interest in this dataset stems from my current situation. I'm a *french graduate student* that will get a Master's degree in Data Science and AI by the end of the academic year. However, *I don't know what a french degree is worth in the United States, or how it compares to a Master's degree from a local university like UCLA*. \n",
    "\n",
    "Therefore, when applying to a job, I would like to *understand the proper salary range I can expect* based on other variables like my experience level, company_size and employment type.\n",
    "\n",
    "Kaggle houses a dataset that can answer these questions. The **Data Science Job Salaries** dataset is an aggregate of 1332 observations based on the following 11 variables :"
   ]
  },
  {
   "cell_type": "markdown",
   "metadata": {},
   "source": [
    "<h7><center>\n",
    "\n",
    "| salary | The total gross salary amount paid (Response variable) |\n",
    "| --- | --- |\n",
    "| experience_level | The experience level in the job during the year with the following possible values: EN Entry-level / Junior MI Mid-level / Intermediate SE Senior-level / Expert EX Executive-level / Director |\n",
    "| --- | --- |\n",
    "| employment_type | The type of employement for the role: PT Part-time FT Full-time CT Contract FL Freelance |\n",
    "| --- | --- |\n",
    "| job_title | The role worked in during the year. |\n",
    "| --- | --- |\n",
    "| work_year | The year the salary was paid |\n",
    "| --- | --- |\n",
    "| salary_currency | The currency of the salary paid as an ISO 4217 currency code. |\n",
    "| --- | --- |\n",
    "| salary_in_usd | The salary in USD (FX rate divided by avg. USD rate for the respective year via fxdata.foorilla.com). |\n",
    "| --- | --- |\n",
    "| employee_residence | Employee's primary country of residence in during the work year as an ISO 3166 country code. |\n",
    "| --- | --- |\n",
    "| remote_ratio | The overall amount of work done remotely, possible values are as follows: 0 No remote work (less than 20%) 50 Partially remote 100 Fully remote (more than 80%) |\n",
    "| --- | --- |\n",
    "| company_location | The country of the employer's main office or contracting branch as an ISO 3166 country code. |\n",
    "| --- | --- |\n",
    "| company_size | The average number of people that worked for the company during the year: S less than 50 employees (small) M 50 to 250 employees (medium) L more than 250 employees (large) |\n",
    "\n",
    "\n",
    "</center></h7>"
   ]
  },
  {
   "cell_type": "code",
   "execution_count": 2,
   "metadata": {},
   "outputs": [],
   "source": [
    "data = pd.read_csv(\"./salaries.csv\")"
   ]
  },
  {
   "cell_type": "markdown",
   "metadata": {},
   "source": [
    "The data can be found here on Kaggle : https://www.kaggle.com/datasets/ruchi798/data-science-job-salaries\n",
    "\n",
    "PS: I think the original link I got the data from was taken down. This leads to the exact same dataset, but with only about 600 entries instead of 1332."
   ]
  },
  {
   "cell_type": "markdown",
   "metadata": {},
   "source": [
    "# II - Non Value Qualities of the data"
   ]
  },
  {
   "cell_type": "markdown",
   "metadata": {},
   "source": [
    "Let's start by looking at the **number of records** and the **number of variables** in the dataset, and see that *they indeed match the given description of the dataset*"
   ]
  },
  {
   "cell_type": "code",
   "execution_count": 3,
   "metadata": {},
   "outputs": [
    {
     "name": "stdout",
     "output_type": "stream",
     "text": [
      "Number of records : 1332\n",
      "Number of variables : 11\n"
     ]
    }
   ],
   "source": [
    "print(f\"Number of records : {len(data)}\")\n",
    "print(f\"Number of variables : {len(data.columns)}\")"
   ]
  },
  {
   "cell_type": "markdown",
   "metadata": {},
   "source": [
    "Let's also check that **variable names match the names in the table** in section I that comes from the source of the data"
   ]
  },
  {
   "cell_type": "code",
   "execution_count": 4,
   "metadata": {},
   "outputs": [
    {
     "name": "stdout",
     "output_type": "stream",
     "text": [
      "Variable 1: work_year\n",
      "Variable 2: experience_level\n",
      "Variable 3: employment_type\n",
      "Variable 4: job_title\n",
      "Variable 5: salary\n",
      "Variable 6: salary_currency\n",
      "Variable 7: salary_in_usd\n",
      "Variable 8: employee_residence\n",
      "Variable 9: remote_ratio\n",
      "Variable 10: company_location\n",
      "Variable 11: company_size\n"
     ]
    }
   ],
   "source": [
    "print(*(f\"Variable {index + 1}: {name}\" for index, name in enumerate(data.columns)), sep = \"\\n\")"
   ]
  },
  {
   "cell_type": "markdown",
   "metadata": {},
   "source": [
    "What about **datatypes** ? This will be essential to know **when it comes to making visuals** in order to choose the right one."
   ]
  },
  {
   "cell_type": "code",
   "execution_count": 5,
   "metadata": {},
   "outputs": [
    {
     "name": "stdout",
     "output_type": "stream",
     "text": [
      "<class 'pandas.core.frame.DataFrame'>\n",
      "RangeIndex: 1332 entries, 0 to 1331\n",
      "Data columns (total 11 columns):\n",
      " #   Column              Non-Null Count  Dtype \n",
      "---  ------              --------------  ----- \n",
      " 0   work_year           1332 non-null   int64 \n",
      " 1   experience_level    1332 non-null   object\n",
      " 2   employment_type     1332 non-null   object\n",
      " 3   job_title           1332 non-null   object\n",
      " 4   salary              1332 non-null   int64 \n",
      " 5   salary_currency     1332 non-null   object\n",
      " 6   salary_in_usd       1332 non-null   int64 \n",
      " 7   employee_residence  1332 non-null   object\n",
      " 8   remote_ratio        1332 non-null   int64 \n",
      " 9   company_location    1332 non-null   object\n",
      " 10  company_size        1332 non-null   object\n",
      "dtypes: int64(4), object(7)\n",
      "memory usage: 114.6+ KB\n"
     ]
    }
   ],
   "source": [
    "data.info()"
   ]
  },
  {
   "cell_type": "markdown",
   "metadata": {},
   "source": [
    "The info method shows **there are no null entries** in this dataset.\n",
    "\n",
    "However, it **doesn't give enough information** about the specific data types for each variable because of the object type. The object type must be understood as text (str) or mixed numeric and non-numeric values. However, from the names of the variables, it is safe to assume that every variable marked with type object is a categorical variable, which we will check right below with the number of unique values."
   ]
  },
  {
   "cell_type": "code",
   "execution_count": 6,
   "metadata": {},
   "outputs": [
    {
     "name": "stdout",
     "output_type": "stream",
     "text": [
      "experience_level : {'SE', 'EX', 'EN', 'MI'}, 4 unique values________\n",
      "employment_type : {'FL', 'FT', 'PT', 'CT'}, 4 unique values________\n",
      "job_title : {'Applied Data Scientist', 'Applied Machine Learning Scientist', 'Machine Learning Developer', 'BI Analyst', 'Data Engineering Manager', 'Machine Learning Scientist', 'Product Data Analyst', 'Principal Data Engineer', 'Data Manager', 'Cloud Data Architect', 'Principal Data Scientist', 'Data Analytics Engineer', '3D Computer Vision Researcher', 'Applied Scientist', 'Product Data Scientist', 'Business Data Analyst', 'Lead Machine Learning Engineer', 'NLP Engineer', 'Data Engineer', 'Machine Learning Infrastructure Engineer', 'Data Operations Analyst', 'Data Science Engineer', 'Head of Data', 'Big Data Engineer', 'Machine Learning Engineer', 'ETL Developer', 'Principal Data Architect', 'Lead Data Engineer', 'Lead Data Analyst', 'Cloud Data Engineer', 'Director of Data Engineering', 'Data Analytics Lead', 'Data Architect', 'ML Engineer', 'Staff Data Scientist', 'Analytics Engineer', 'Research Scientist', 'Data Science Manager', 'Head of Data Science', 'Data Science Lead', 'Computer Vision Software Engineer', 'Data Scientist Lead', 'Research Engineer', 'Head of Machine Learning', 'Machine Learning Research Engineer', 'Data Analytics Consultant', 'Data Analyst', 'Data Analytics Manager', 'Computer Vision Engineer', 'Lead Data Scientist', 'Marketing Data Analyst', 'Machine Learning Manager', 'Finance Data Analyst', 'BI Data Analyst', 'Data Operations Engineer', 'Data Scientist', 'Power BI Developer', 'Director of Data Science', 'Data Science Consultant', 'Big Data Architect', 'Principal Data Analyst', 'AI Scientist', 'Financial Data Analyst', 'Data Specialist'}, 64 unique values________\n",
      "salary_currency : {'MXN', 'CAD', 'SGD', 'CZK', 'CHF', 'EUR', 'JPY', 'PLN', 'HUF', 'GBP', 'INR', 'BRL', 'DKK', 'TRY', 'CLP', 'USD', 'AUD', 'CNY'}, 18 unique values________\n",
      "employee_residence : {'HR', 'MX', 'CZ', 'TH', 'DZ', 'SI', 'GB', 'PR', 'CR', 'NG', 'AR', 'KE', 'EE', 'LU', 'US', 'TN', 'AU', 'FR', 'BR', 'VN', 'MD', 'GR', 'NL', 'PT', 'IQ', 'BE', 'IR', 'AT', 'RS', 'SG', 'UA', 'EG', 'FI', 'AE', 'ES', 'MY', 'BG', 'ID', 'BO', 'RU', 'DO', 'CN', 'JP', 'JE', 'PK', 'MT', 'IE', 'PL', 'AX', 'RO', 'TR', 'CH', 'IN', 'CA', 'HU', 'NZ', 'HK', 'HN', 'CO', 'IT', 'PH', 'DE', 'CL', 'DK'}, 64 unique values________\n",
      "company_location : {'HR', 'MX', 'CZ', 'TH', 'DZ', 'SI', 'GB', 'PR', 'AR', 'NG', 'KE', 'EE', 'LU', 'US', 'AU', 'FR', 'BR', 'MD', 'VN', 'GR', 'NL', 'PT', 'IQ', 'BE', 'IL', 'IR', 'AT', 'SG', 'UA', 'EG', 'FI', 'AE', 'ES', 'AL', 'MY', 'ID', 'BO', 'RU', 'CN', 'JP', 'PK', 'MT', 'IE', 'PL', 'RO', 'AS', 'TR', 'CH', 'IN', 'CA', 'HU', 'NZ', 'HN', 'CO', 'IT', 'PH', 'DE', 'CL', 'DK'}, 59 unique values________\n",
      "company_size : {'M', 'L', 'S'}, 3 unique values\n"
     ]
    }
   ],
   "source": [
    "# The object datatype here indeed refers to categorical variables\n",
    "\n",
    "print(\n",
    "    *(f\"{var} : {set(data[var])}, {len(set(data[var]))} unique values\" for var in data.select_dtypes(include = \"object\").columns), sep = \"________\\n\"\n",
    ")"
   ]
  },
  {
   "cell_type": "markdown",
   "metadata": {},
   "source": [
    "For the remaining columns of integers, let's figure out whether variables are **Discrete or Continuous**"
   ]
  },
  {
   "cell_type": "code",
   "execution_count": 7,
   "metadata": {},
   "outputs": [
    {
     "data": {
      "text/html": [
       "<div>\n",
       "<style scoped>\n",
       "    .dataframe tbody tr th:only-of-type {\n",
       "        vertical-align: middle;\n",
       "    }\n",
       "\n",
       "    .dataframe tbody tr th {\n",
       "        vertical-align: top;\n",
       "    }\n",
       "\n",
       "    .dataframe thead th {\n",
       "        text-align: right;\n",
       "    }\n",
       "</style>\n",
       "<table border=\"1\" class=\"dataframe\">\n",
       "  <thead>\n",
       "    <tr style=\"text-align: right;\">\n",
       "      <th></th>\n",
       "      <th>work_year</th>\n",
       "      <th>salary</th>\n",
       "      <th>salary_in_usd</th>\n",
       "      <th>remote_ratio</th>\n",
       "    </tr>\n",
       "  </thead>\n",
       "  <tbody>\n",
       "    <tr>\n",
       "      <th>0</th>\n",
       "      <td>2022</td>\n",
       "      <td>130000</td>\n",
       "      <td>130000</td>\n",
       "      <td>0</td>\n",
       "    </tr>\n",
       "    <tr>\n",
       "      <th>1</th>\n",
       "      <td>2022</td>\n",
       "      <td>90000</td>\n",
       "      <td>90000</td>\n",
       "      <td>0</td>\n",
       "    </tr>\n",
       "    <tr>\n",
       "      <th>2</th>\n",
       "      <td>2022</td>\n",
       "      <td>120000</td>\n",
       "      <td>120000</td>\n",
       "      <td>100</td>\n",
       "    </tr>\n",
       "    <tr>\n",
       "      <th>3</th>\n",
       "      <td>2022</td>\n",
       "      <td>100000</td>\n",
       "      <td>100000</td>\n",
       "      <td>100</td>\n",
       "    </tr>\n",
       "    <tr>\n",
       "      <th>4</th>\n",
       "      <td>2022</td>\n",
       "      <td>85000</td>\n",
       "      <td>85000</td>\n",
       "      <td>100</td>\n",
       "    </tr>\n",
       "    <tr>\n",
       "      <th>...</th>\n",
       "      <td>...</td>\n",
       "      <td>...</td>\n",
       "      <td>...</td>\n",
       "      <td>...</td>\n",
       "    </tr>\n",
       "    <tr>\n",
       "      <th>1327</th>\n",
       "      <td>2020</td>\n",
       "      <td>412000</td>\n",
       "      <td>412000</td>\n",
       "      <td>100</td>\n",
       "    </tr>\n",
       "    <tr>\n",
       "      <th>1328</th>\n",
       "      <td>2021</td>\n",
       "      <td>151000</td>\n",
       "      <td>151000</td>\n",
       "      <td>100</td>\n",
       "    </tr>\n",
       "    <tr>\n",
       "      <th>1329</th>\n",
       "      <td>2020</td>\n",
       "      <td>105000</td>\n",
       "      <td>105000</td>\n",
       "      <td>100</td>\n",
       "    </tr>\n",
       "    <tr>\n",
       "      <th>1330</th>\n",
       "      <td>2020</td>\n",
       "      <td>100000</td>\n",
       "      <td>100000</td>\n",
       "      <td>100</td>\n",
       "    </tr>\n",
       "    <tr>\n",
       "      <th>1331</th>\n",
       "      <td>2021</td>\n",
       "      <td>7000000</td>\n",
       "      <td>94665</td>\n",
       "      <td>50</td>\n",
       "    </tr>\n",
       "  </tbody>\n",
       "</table>\n",
       "<p>1332 rows × 4 columns</p>\n",
       "</div>"
      ],
      "text/plain": [
       "      work_year   salary  salary_in_usd  remote_ratio\n",
       "0          2022   130000         130000             0\n",
       "1          2022    90000          90000             0\n",
       "2          2022   120000         120000           100\n",
       "3          2022   100000         100000           100\n",
       "4          2022    85000          85000           100\n",
       "...         ...      ...            ...           ...\n",
       "1327       2020   412000         412000           100\n",
       "1328       2021   151000         151000           100\n",
       "1329       2020   105000         105000           100\n",
       "1330       2020   100000         100000           100\n",
       "1331       2021  7000000          94665            50\n",
       "\n",
       "[1332 rows x 4 columns]"
      ]
     },
     "execution_count": 7,
     "metadata": {},
     "output_type": "execute_result"
    }
   ],
   "source": [
    "# Let's split data into numerical and categorical for practical purposes later on\n",
    "numerical = data.select_dtypes(include=\"int64\")\n",
    "categorical = data.select_dtypes(include=\"object\")\n",
    "\n",
    "numerical"
   ]
  },
  {
   "cell_type": "code",
   "execution_count": 8,
   "metadata": {},
   "outputs": [
    {
     "name": "stdout",
     "output_type": "stream",
     "text": [
      "{2020, 2021, 2022}\n",
      "{0, 50, 100}\n"
     ]
    }
   ],
   "source": [
    "print(set(data[\"work_year\"]))\n",
    "print(set(data[\"remote_ratio\"]))"
   ]
  },
  {
   "cell_type": "markdown",
   "metadata": {},
   "source": [
    "**Work Year** and **Remote Ratio** are discrete variables:\n",
    "* Work years takes values in 2020, 2021 and 2022.\n",
    "* Remote ratio (as described) takes value in 0, 50 and 100 for no remote work, hybrid work and fully remote work. It is a percentage. Even though the information is encoded as an integer, this variable **could be considered categorical** because of the nature of the information.\n",
    "\n",
    "**Salary** and **Salary in USD** are continuous variables, because observations of these variables can seemingly take any value in the range of what has been observed"
   ]
  },
  {
   "cell_type": "markdown",
   "metadata": {},
   "source": [
    "<h4><center> Does it make sense ? </center></h4>"
   ]
  },
  {
   "cell_type": "markdown",
   "metadata": {},
   "source": [
    "<center>It does</center>\n",
    "\n",
    "You expect variables such as salary (and converted to USD) to be continuous. Simple mechanisms such as the ability to negotiate as salary or offer/demand for each company create variability in salary for the same job.\n",
    "\n",
    "In similar fashion, things such as experience level are not considered continuous in the field of software. Even though it would be possible to affect someone a number based on their experience and skills like a sports rating system, the affected would be highly abstract. In short, there would be no guarantee that an employee with experience score 1.78 would be actually be more experienced that a 1.77. \n",
    "Therefore, using a categorical variable for Entry Level, Intermediate, Senior and Executive to split workers in different pools makes more sense."
   ]
  },
  {
   "cell_type": "markdown",
   "metadata": {},
   "source": [
    "<h4><center> Is it consistent with data documentation ? </center></h4>"
   ]
  },
  {
   "cell_type": "markdown",
   "metadata": {},
   "source": [
    "<center>It is</center>\n",
    "\n",
    "The table at the top of the notebook comes from the Kaggle datasource. Nothing that has been observed in the data currently contradicts what has been promised from the data."
   ]
  },
  {
   "cell_type": "markdown",
   "metadata": {},
   "source": [
    "# III - Thorough Exploration of Data Values"
   ]
  },
  {
   "cell_type": "markdown",
   "metadata": {},
   "source": [
    "<center>Summary statistics for the data:</center>"
   ]
  },
  {
   "cell_type": "code",
   "execution_count": 9,
   "metadata": {},
   "outputs": [
    {
     "data": {
      "text/html": [
       "<div>\n",
       "<style scoped>\n",
       "    .dataframe tbody tr th:only-of-type {\n",
       "        vertical-align: middle;\n",
       "    }\n",
       "\n",
       "    .dataframe tbody tr th {\n",
       "        vertical-align: top;\n",
       "    }\n",
       "\n",
       "    .dataframe thead th {\n",
       "        text-align: right;\n",
       "    }\n",
       "</style>\n",
       "<table border=\"1\" class=\"dataframe\">\n",
       "  <thead>\n",
       "    <tr style=\"text-align: right;\">\n",
       "      <th></th>\n",
       "      <th>work_year</th>\n",
       "      <th>salary</th>\n",
       "      <th>salary_in_usd</th>\n",
       "      <th>remote_ratio</th>\n",
       "    </tr>\n",
       "  </thead>\n",
       "  <tbody>\n",
       "    <tr>\n",
       "      <th>count</th>\n",
       "      <td>1332.000000</td>\n",
       "      <td>1.332000e+03</td>\n",
       "      <td>1332.000000</td>\n",
       "      <td>1332.000000</td>\n",
       "    </tr>\n",
       "    <tr>\n",
       "      <th>mean</th>\n",
       "      <td>2021.716216</td>\n",
       "      <td>2.377124e+05</td>\n",
       "      <td>123374.658408</td>\n",
       "      <td>63.851351</td>\n",
       "    </tr>\n",
       "    <tr>\n",
       "      <th>std</th>\n",
       "      <td>0.562228</td>\n",
       "      <td>1.077369e+06</td>\n",
       "      <td>65945.872172</td>\n",
       "      <td>45.263587</td>\n",
       "    </tr>\n",
       "    <tr>\n",
       "      <th>min</th>\n",
       "      <td>2020.000000</td>\n",
       "      <td>2.324000e+03</td>\n",
       "      <td>2324.000000</td>\n",
       "      <td>0.000000</td>\n",
       "    </tr>\n",
       "    <tr>\n",
       "      <th>25%</th>\n",
       "      <td>2022.000000</td>\n",
       "      <td>8.000000e+04</td>\n",
       "      <td>75593.000000</td>\n",
       "      <td>0.000000</td>\n",
       "    </tr>\n",
       "    <tr>\n",
       "      <th>50%</th>\n",
       "      <td>2022.000000</td>\n",
       "      <td>1.300000e+05</td>\n",
       "      <td>120000.000000</td>\n",
       "      <td>100.000000</td>\n",
       "    </tr>\n",
       "    <tr>\n",
       "      <th>75%</th>\n",
       "      <td>2022.000000</td>\n",
       "      <td>1.751000e+05</td>\n",
       "      <td>164997.000000</td>\n",
       "      <td>100.000000</td>\n",
       "    </tr>\n",
       "    <tr>\n",
       "      <th>max</th>\n",
       "      <td>2022.000000</td>\n",
       "      <td>3.040000e+07</td>\n",
       "      <td>600000.000000</td>\n",
       "      <td>100.000000</td>\n",
       "    </tr>\n",
       "  </tbody>\n",
       "</table>\n",
       "</div>"
      ],
      "text/plain": [
       "         work_year        salary  salary_in_usd  remote_ratio\n",
       "count  1332.000000  1.332000e+03    1332.000000   1332.000000\n",
       "mean   2021.716216  2.377124e+05  123374.658408     63.851351\n",
       "std       0.562228  1.077369e+06   65945.872172     45.263587\n",
       "min    2020.000000  2.324000e+03    2324.000000      0.000000\n",
       "25%    2022.000000  8.000000e+04   75593.000000      0.000000\n",
       "50%    2022.000000  1.300000e+05  120000.000000    100.000000\n",
       "75%    2022.000000  1.751000e+05  164997.000000    100.000000\n",
       "max    2022.000000  3.040000e+07  600000.000000    100.000000"
      ]
     },
     "execution_count": 9,
     "metadata": {},
     "output_type": "execute_result"
    }
   ],
   "source": [
    "data.describe()"
   ]
  },
  {
   "cell_type": "markdown",
   "metadata": {},
   "source": [
    "Here are the main takeaways from looking at this data summary:\n",
    "\n",
    "* Most of the observations are very recent. By looking at the values of the quartiles for work_year, the 25% quartile's value is 2022. This implies that at least 75% of the observations have been made in 2022, and that 2020-2021 are a minor part of this dataset. Therefore the data can be viewed as extremely recent, and relevant to make salary estimations in the current state of the job market. This is also hinted at by the mean of ~2021.71, very close to 2022.\n",
    "* Median value of usd salary is 120k$/year, and mean is 123k$/year. This is consistent with the average range of salaries advertised for data science jobs in the industry.\n",
    "* The mean of remote ratio leans more towards the 100% side by 13.85 points. This suggests that for data science jobs people tend to more remote more than in-office. Considering the nature of the job this isn't surprising."
   ]
  },
  {
   "cell_type": "markdown",
   "metadata": {},
   "source": [
    "<center>Now, what about the range for numerical variables ?</center>"
   ]
  },
  {
   "cell_type": "code",
   "execution_count": 10,
   "metadata": {},
   "outputs": [
    {
     "name": "stdout",
     "output_type": "stream",
     "text": [
      "work_year : 2020 <==============> 2022\n",
      "salary : 2324 <==============> 30400000\n",
      "salary_in_usd : 2324 <==============> 600000\n",
      "remote_ratio : 0 <==============> 100\n"
     ]
    }
   ],
   "source": [
    "print(\n",
    "    *(f\"{val} : {min(data[val])} <==============> {max(data[val])}\" for val in numerical.columns), sep = \"\\n\"\n",
    ")"
   ]
  },
  {
   "cell_type": "markdown",
   "metadata": {},
   "source": [
    "Some ranges are **expected**:\n",
    "* Observations for this dataset start in 2020, so a range of [2020, 2022] is expected for the work year\n",
    "* The range of [0, 100] represents the range of people either working in full remote on full on-site (also remember that this variable is somewhat encoded categorically)\n",
    "\n",
    "Some are **unexpected**:\n",
    "* Salary in USD can be as low as 2324$/year, and as high as 600k$/year. This is probably explained by the difference in pay from one country to another, but nonetheless surprising.\n",
    "\n",
    "**Some should not be considered**:\n",
    "* The salary column should be considered in pair with the currency column. The maximum value of about 30M is in another currency not as valued as the $. The lack of a common currency for this variable hints at ignoring this variable range."
   ]
  },
  {
   "cell_type": "markdown",
   "metadata": {},
   "source": [
    "<center>Search for outliers :</center>\n",
    "\n",
    "We have seen before that this data doesn't have any null values of infinite values. However the presence of outlier values is definetly possible and should be explored:\n",
    "* Converted to USD, salaries range from 2324$ to 600k$ per year. Very lower and higher end values can be big outliers and the data and should be investigated\n",
    "* Outliers could exist in the form of jobs that are very underrepresented in the dataset. Checking for the count of each unique job title in the dataset can answer that question.\n",
    "* The same reasoning can any other categorical variables, where really underrepresented classes could be considered outliers if their influence on other variables is also very strong.\n"
   ]
  },
  {
   "cell_type": "markdown",
   "metadata": {},
   "source": [
    "**Outliers based on salary :**"
   ]
  },
  {
   "cell_type": "code",
   "execution_count": 11,
   "metadata": {},
   "outputs": [
    {
     "data": {
      "text/html": [
       "<div>\n",
       "<style scoped>\n",
       "    .dataframe tbody tr th:only-of-type {\n",
       "        vertical-align: middle;\n",
       "    }\n",
       "\n",
       "    .dataframe tbody tr th {\n",
       "        vertical-align: top;\n",
       "    }\n",
       "\n",
       "    .dataframe thead th {\n",
       "        text-align: right;\n",
       "    }\n",
       "</style>\n",
       "<table border=\"1\" class=\"dataframe\">\n",
       "  <thead>\n",
       "    <tr style=\"text-align: right;\">\n",
       "      <th></th>\n",
       "      <th>work_year</th>\n",
       "      <th>experience_level</th>\n",
       "      <th>employment_type</th>\n",
       "      <th>job_title</th>\n",
       "      <th>salary</th>\n",
       "      <th>salary_currency</th>\n",
       "      <th>salary_in_usd</th>\n",
       "      <th>employee_residence</th>\n",
       "      <th>remote_ratio</th>\n",
       "      <th>company_location</th>\n",
       "      <th>company_size</th>\n",
       "    </tr>\n",
       "  </thead>\n",
       "  <tbody>\n",
       "    <tr>\n",
       "      <th>1278</th>\n",
       "      <td>2021</td>\n",
       "      <td>EX</td>\n",
       "      <td>FT</td>\n",
       "      <td>Principal Data Engineer</td>\n",
       "      <td>600000</td>\n",
       "      <td>USD</td>\n",
       "      <td>600000</td>\n",
       "      <td>US</td>\n",
       "      <td>100</td>\n",
       "      <td>US</td>\n",
       "      <td>L</td>\n",
       "    </tr>\n",
       "    <tr>\n",
       "      <th>1093</th>\n",
       "      <td>2020</td>\n",
       "      <td>MI</td>\n",
       "      <td>FT</td>\n",
       "      <td>Research Scientist</td>\n",
       "      <td>450000</td>\n",
       "      <td>USD</td>\n",
       "      <td>450000</td>\n",
       "      <td>US</td>\n",
       "      <td>0</td>\n",
       "      <td>US</td>\n",
       "      <td>M</td>\n",
       "    </tr>\n",
       "    <tr>\n",
       "      <th>1150</th>\n",
       "      <td>2021</td>\n",
       "      <td>MI</td>\n",
       "      <td>FT</td>\n",
       "      <td>Financial Data Analyst</td>\n",
       "      <td>450000</td>\n",
       "      <td>USD</td>\n",
       "      <td>450000</td>\n",
       "      <td>US</td>\n",
       "      <td>100</td>\n",
       "      <td>US</td>\n",
       "      <td>L</td>\n",
       "    </tr>\n",
       "    <tr>\n",
       "      <th>1324</th>\n",
       "      <td>2021</td>\n",
       "      <td>MI</td>\n",
       "      <td>FT</td>\n",
       "      <td>Applied Machine Learning Scientist</td>\n",
       "      <td>423000</td>\n",
       "      <td>USD</td>\n",
       "      <td>423000</td>\n",
       "      <td>US</td>\n",
       "      <td>50</td>\n",
       "      <td>US</td>\n",
       "      <td>L</td>\n",
       "    </tr>\n",
       "    <tr>\n",
       "      <th>1249</th>\n",
       "      <td>2021</td>\n",
       "      <td>EX</td>\n",
       "      <td>CT</td>\n",
       "      <td>Principal Data Scientist</td>\n",
       "      <td>416000</td>\n",
       "      <td>USD</td>\n",
       "      <td>416000</td>\n",
       "      <td>US</td>\n",
       "      <td>100</td>\n",
       "      <td>US</td>\n",
       "      <td>S</td>\n",
       "    </tr>\n",
       "    <tr>\n",
       "      <th>1327</th>\n",
       "      <td>2020</td>\n",
       "      <td>SE</td>\n",
       "      <td>FT</td>\n",
       "      <td>Data Scientist</td>\n",
       "      <td>412000</td>\n",
       "      <td>USD</td>\n",
       "      <td>412000</td>\n",
       "      <td>US</td>\n",
       "      <td>100</td>\n",
       "      <td>US</td>\n",
       "      <td>L</td>\n",
       "    </tr>\n",
       "    <tr>\n",
       "      <th>1034</th>\n",
       "      <td>2022</td>\n",
       "      <td>SE</td>\n",
       "      <td>FT</td>\n",
       "      <td>Data Analytics Lead</td>\n",
       "      <td>405000</td>\n",
       "      <td>USD</td>\n",
       "      <td>405000</td>\n",
       "      <td>US</td>\n",
       "      <td>100</td>\n",
       "      <td>US</td>\n",
       "      <td>L</td>\n",
       "    </tr>\n",
       "    <tr>\n",
       "      <th>1039</th>\n",
       "      <td>2022</td>\n",
       "      <td>SE</td>\n",
       "      <td>FT</td>\n",
       "      <td>Applied Data Scientist</td>\n",
       "      <td>380000</td>\n",
       "      <td>USD</td>\n",
       "      <td>380000</td>\n",
       "      <td>US</td>\n",
       "      <td>100</td>\n",
       "      <td>US</td>\n",
       "      <td>L</td>\n",
       "    </tr>\n",
       "    <tr>\n",
       "      <th>122</th>\n",
       "      <td>2022</td>\n",
       "      <td>SE</td>\n",
       "      <td>FT</td>\n",
       "      <td>Data Architect</td>\n",
       "      <td>345600</td>\n",
       "      <td>USD</td>\n",
       "      <td>345600</td>\n",
       "      <td>US</td>\n",
       "      <td>0</td>\n",
       "      <td>US</td>\n",
       "      <td>M</td>\n",
       "    </tr>\n",
       "    <tr>\n",
       "      <th>1272</th>\n",
       "      <td>2020</td>\n",
       "      <td>EX</td>\n",
       "      <td>FT</td>\n",
       "      <td>Director of Data Science</td>\n",
       "      <td>325000</td>\n",
       "      <td>USD</td>\n",
       "      <td>325000</td>\n",
       "      <td>US</td>\n",
       "      <td>100</td>\n",
       "      <td>US</td>\n",
       "      <td>L</td>\n",
       "    </tr>\n",
       "    <tr>\n",
       "      <th>980</th>\n",
       "      <td>2022</td>\n",
       "      <td>EX</td>\n",
       "      <td>FT</td>\n",
       "      <td>Data Engineer</td>\n",
       "      <td>324000</td>\n",
       "      <td>USD</td>\n",
       "      <td>324000</td>\n",
       "      <td>US</td>\n",
       "      <td>100</td>\n",
       "      <td>US</td>\n",
       "      <td>M</td>\n",
       "    </tr>\n",
       "    <tr>\n",
       "      <th>237</th>\n",
       "      <td>2022</td>\n",
       "      <td>SE</td>\n",
       "      <td>FT</td>\n",
       "      <td>Data Engineer</td>\n",
       "      <td>300000</td>\n",
       "      <td>USD</td>\n",
       "      <td>300000</td>\n",
       "      <td>US</td>\n",
       "      <td>0</td>\n",
       "      <td>US</td>\n",
       "      <td>M</td>\n",
       "    </tr>\n",
       "    <tr>\n",
       "      <th>68</th>\n",
       "      <td>2022</td>\n",
       "      <td>SE</td>\n",
       "      <td>FT</td>\n",
       "      <td>Data Engineer</td>\n",
       "      <td>300000</td>\n",
       "      <td>USD</td>\n",
       "      <td>300000</td>\n",
       "      <td>US</td>\n",
       "      <td>0</td>\n",
       "      <td>US</td>\n",
       "      <td>M</td>\n",
       "    </tr>\n",
       "    <tr>\n",
       "      <th>423</th>\n",
       "      <td>2022</td>\n",
       "      <td>SE</td>\n",
       "      <td>FT</td>\n",
       "      <td>Data Engineer</td>\n",
       "      <td>300000</td>\n",
       "      <td>USD</td>\n",
       "      <td>300000</td>\n",
       "      <td>US</td>\n",
       "      <td>0</td>\n",
       "      <td>US</td>\n",
       "      <td>M</td>\n",
       "    </tr>\n",
       "    <tr>\n",
       "      <th>722</th>\n",
       "      <td>2022</td>\n",
       "      <td>SE</td>\n",
       "      <td>FT</td>\n",
       "      <td>Data Science Manager</td>\n",
       "      <td>300000</td>\n",
       "      <td>USD</td>\n",
       "      <td>300000</td>\n",
       "      <td>US</td>\n",
       "      <td>100</td>\n",
       "      <td>US</td>\n",
       "      <td>M</td>\n",
       "    </tr>\n",
       "  </tbody>\n",
       "</table>\n",
       "</div>"
      ],
      "text/plain": [
       "      work_year experience_level employment_type  \\\n",
       "1278       2021               EX              FT   \n",
       "1093       2020               MI              FT   \n",
       "1150       2021               MI              FT   \n",
       "1324       2021               MI              FT   \n",
       "1249       2021               EX              CT   \n",
       "1327       2020               SE              FT   \n",
       "1034       2022               SE              FT   \n",
       "1039       2022               SE              FT   \n",
       "122        2022               SE              FT   \n",
       "1272       2020               EX              FT   \n",
       "980        2022               EX              FT   \n",
       "237        2022               SE              FT   \n",
       "68         2022               SE              FT   \n",
       "423        2022               SE              FT   \n",
       "722        2022               SE              FT   \n",
       "\n",
       "                               job_title  salary salary_currency  \\\n",
       "1278             Principal Data Engineer  600000             USD   \n",
       "1093                  Research Scientist  450000             USD   \n",
       "1150              Financial Data Analyst  450000             USD   \n",
       "1324  Applied Machine Learning Scientist  423000             USD   \n",
       "1249            Principal Data Scientist  416000             USD   \n",
       "1327                      Data Scientist  412000             USD   \n",
       "1034                 Data Analytics Lead  405000             USD   \n",
       "1039              Applied Data Scientist  380000             USD   \n",
       "122                       Data Architect  345600             USD   \n",
       "1272            Director of Data Science  325000             USD   \n",
       "980                        Data Engineer  324000             USD   \n",
       "237                        Data Engineer  300000             USD   \n",
       "68                         Data Engineer  300000             USD   \n",
       "423                        Data Engineer  300000             USD   \n",
       "722                 Data Science Manager  300000             USD   \n",
       "\n",
       "      salary_in_usd employee_residence  remote_ratio company_location  \\\n",
       "1278         600000                 US           100               US   \n",
       "1093         450000                 US             0               US   \n",
       "1150         450000                 US           100               US   \n",
       "1324         423000                 US            50               US   \n",
       "1249         416000                 US           100               US   \n",
       "1327         412000                 US           100               US   \n",
       "1034         405000                 US           100               US   \n",
       "1039         380000                 US           100               US   \n",
       "122          345600                 US             0               US   \n",
       "1272         325000                 US           100               US   \n",
       "980          324000                 US           100               US   \n",
       "237          300000                 US             0               US   \n",
       "68           300000                 US             0               US   \n",
       "423          300000                 US             0               US   \n",
       "722          300000                 US           100               US   \n",
       "\n",
       "     company_size  \n",
       "1278            L  \n",
       "1093            M  \n",
       "1150            L  \n",
       "1324            L  \n",
       "1249            S  \n",
       "1327            L  \n",
       "1034            L  \n",
       "1039            L  \n",
       "122             M  \n",
       "1272            L  \n",
       "980             M  \n",
       "237             M  \n",
       "68              M  \n",
       "423             M  \n",
       "722             M  "
      ]
     },
     "execution_count": 11,
     "metadata": {},
     "output_type": "execute_result"
    }
   ],
   "source": [
    "data.sort_values(by = \"salary_in_usd\", ascending = False).head(15)"
   ]
  },
  {
   "cell_type": "markdown",
   "metadata": {},
   "source": [
    "* The 600k$/year is an outlier based on salary itself, with the closest yearly salary being 450k$ per year (index 1278)\n",
    "* Interestingly, among the 15 best paid positions in the dataset, all are full-time jobs (FT) except one that is labeled as a contracted third party (CT) but with the status of an executive (index 1249). The seemingly contradictory nature of this entry should make it an outlier"
   ]
  },
  {
   "cell_type": "markdown",
   "metadata": {},
   "source": [
    "Outliers based on categorical variables:"
   ]
  },
  {
   "cell_type": "code",
   "execution_count": 12,
   "metadata": {},
   "outputs": [
    {
     "name": "stdout",
     "output_type": "stream",
     "text": [
      "EX     45\n",
      "EN    147\n",
      "MI    337\n",
      "SE    803\n",
      "Name: experience_level, dtype: int64\n",
      "\n",
      " ____________________ \n",
      "\n",
      "FL       5\n",
      "CT       8\n",
      "PT      13\n",
      "FT    1306\n",
      "Name: employment_type, dtype: int64\n",
      "\n",
      " ____________________ \n",
      "\n",
      "Finance Data Analyst           1\n",
      "Big Data Architect             1\n",
      "Data Analytics Lead            1\n",
      "Staff Data Scientist           1\n",
      "Research Engineer              1\n",
      "                            ... \n",
      "Analytics Engineer            43\n",
      "Machine Learning Engineer     86\n",
      "Data Analyst                 190\n",
      "Data Engineer                320\n",
      "Data Scientist               344\n",
      "Name: job_title, Length: 64, dtype: int64\n",
      "\n",
      " ____________________ \n",
      "\n",
      "CLP       1\n",
      "CHF       1\n",
      "CZK       1\n",
      "MXN       2\n",
      "HUF       2\n",
      "CNY       2\n",
      "DKK       3\n",
      "SGD       3\n",
      "JPY       3\n",
      "TRY       3\n",
      "PLN       3\n",
      "BRL       5\n",
      "AUD       8\n",
      "CAD      21\n",
      "INR      40\n",
      "GBP      81\n",
      "EUR     134\n",
      "USD    1019\n",
      "Name: salary_currency, dtype: int64\n",
      "\n",
      " ____________________ \n",
      "\n",
      "MT      1\n",
      "NZ      1\n",
      "HR      1\n",
      "CO      1\n",
      "KE      1\n",
      "     ... \n",
      "DE     31\n",
      "CA     38\n",
      "IN     45\n",
      "GB     83\n",
      "US    910\n",
      "Name: employee_residence, Length: 64, dtype: int64\n",
      "\n",
      " ____________________ \n",
      "\n",
      "MT      1\n",
      "HU      1\n",
      "KE      1\n",
      "VN      1\n",
      "CO      1\n",
      "NZ      1\n",
      "IR      1\n",
      "CL      1\n",
      "MD      1\n",
      "HR      1\n",
      "IL      1\n",
      "EG      1\n",
      "UA      1\n",
      "RO      1\n",
      "DZ      1\n",
      "HN      1\n",
      "EE      1\n",
      "MY      1\n",
      "IE      1\n",
      "AR      1\n",
      "AL      1\n",
      "PH      1\n",
      "BO      1\n",
      "TH      1\n",
      "IQ      1\n",
      "FI      1\n",
      "RU      2\n",
      "SI      2\n",
      "CN      2\n",
      "CH      2\n",
      "AS      2\n",
      "IT      2\n",
      "ID      2\n",
      "CZ      3\n",
      "PK      3\n",
      "AE      3\n",
      "SG      3\n",
      "NG      3\n",
      "LU      3\n",
      "MX      4\n",
      "PR      4\n",
      "BE      4\n",
      "PL      4\n",
      "DK      4\n",
      "AT      5\n",
      "TR      5\n",
      "JP      6\n",
      "PT      9\n",
      "AU      9\n",
      "NL      9\n",
      "GR     13\n",
      "BR     14\n",
      "FR     20\n",
      "ES     28\n",
      "DE     35\n",
      "IN     36\n",
      "CA     39\n",
      "GB     87\n",
      "US    939\n",
      "Name: company_location, dtype: int64\n",
      "\n",
      " ____________________ \n",
      "\n",
      "S    112\n",
      "L    322\n",
      "M    898\n",
      "Name: company_size, dtype: int64\n",
      "\n",
      " ____________________ \n",
      "\n"
     ]
    }
   ],
   "source": [
    "for name in categorical.columns:\n",
    "    print(categorical[name].value_counts().sort_values())\n",
    "    print(\"\\n ____________________ \\n\")"
   ]
  },
  {
   "cell_type": "markdown",
   "metadata": {},
   "source": [
    "Interesting insights can be taken from the output:\n",
    "* Freelance, Part-Time and Third-party contracts are severely underrepresented in the dataset, with respectively 5, 8 and 13 entries, compared to 1306 for Full-Time work. The below code shows that these are complete outliers in terms of salary in every way imaginable."
   ]
  },
  {
   "cell_type": "code",
   "execution_count": 13,
   "metadata": {},
   "outputs": [
    {
     "name": "stdout",
     "output_type": "stream",
     "text": [
      "Mean salary of non full-time workers :  72488.0 $ per year\n",
      "___________\n",
      "Mean salary of full-time workers :  124387.7 $ per year\n",
      "___________\n",
      "Non full-time job representation in the dataset, % :\n",
      " Staff Data Scientist                  100.000000\n",
      "3D Computer Vision Researcher          33.333333\n",
      "Computer Vision Engineer               33.333333\n",
      "NLP Engineer                           33.333333\n",
      "Computer Vision Software Engineer      25.000000\n",
      "Applied Machine Learning Scientist     22.222222\n",
      "AI Scientist                           16.666667\n",
      "Principal Data Scientist               14.285714\n",
      "Business Data Analyst                  12.500000\n",
      "ML Engineer                            12.500000\n",
      "Machine Learning Scientist              6.666667\n",
      "Analytics Engineer                      2.325581\n",
      "Data Analyst                            1.578947\n",
      "Data Scientist                          1.162791\n",
      "Data Engineer                           0.937500\n",
      "Name: job_title, dtype: float64\n"
     ]
    }
   ],
   "source": [
    "print(\n",
    "    \"Mean salary of non full-time workers : \", round(data[data.employment_type != \"FT\"].salary_in_usd.mean(), 1), \"$ per year\",\n",
    "    end = \"\\n___________\\n\"\n",
    ")\n",
    "print(\n",
    "    \"Mean salary of full-time workers : \", round(data[data.employment_type == \"FT\"].salary_in_usd.mean(), 1), \"$ per year\",\n",
    "    end = \"\\n___________\\n\"\n",
    ")\n",
    "\n",
    "non_ft_job_titles = data[data.employment_type != \"FT\"].job_title.unique()\n",
    "non_ft_job_counts = data[data.employment_type != \"FT\"].job_title.value_counts()\n",
    "non_ft_positions = data[data.job_title.isin(non_ft_job_titles)].job_title.value_counts()\n",
    "\n",
    "print(\n",
    "    \"Non full-time job representation in the dataset, % :\\n\",\n",
    "    100*(non_ft_job_counts / non_ft_positions).sort_values(ascending = False)\n",
    ")"
   ]
  },
  {
   "cell_type": "markdown",
   "metadata": {},
   "source": [
    "The above analysis shows that non full-time workers are **severely underrepresented**, **earn significantly less on average than full-time workers**, and **tend to work in positions that are not typically offered to full-time employees**. There is an important disbalance between the proportion of non full-time workers in the dataset (1.9%) and the representation of their part in representing their jobs in the dataset.\n",
    "\n",
    "This undeniably makes them an outlying cluster that will probably be observed later on in the EDA section.\n",
    "\n",
    "In the same fashion, **a lot of job_titles, company locations and employee residence appear to be non-recurrent in the data**, therefore outlier behavior can be expected from the corresponding entries.\n",
    "\n",
    "The same can be said about salary currencies, as 98.95% of salaries are paid in US dollars, Canadian dollars, Euros, UK pounds or Indian Rupees."
   ]
  },
  {
   "cell_type": "code",
   "execution_count": 14,
   "metadata": {},
   "outputs": [
    {
     "name": "stdout",
     "output_type": "stream",
     "text": [
      "Percentage of salaries in the 5 most represented currencies in the dataset : 98.95128272852574%"
     ]
    }
   ],
   "source": [
    "# Percentage of salaries in the 5 most represented currencies in the dataset\n",
    "print(\n",
    "    \"Percentage of salaries in the 5 most represented currencies in the dataset :\",\n",
    "    data[data.salary_currency.isin([\"USD\", \"EUR\", \"GBP\", \"CAD\", \"INR\"])].salary_in_usd.sum() / data.salary_in_usd.sum() * 100,\n",
    "    end = \"%\"\n",
    ")\n"
   ]
  },
  {
   "cell_type": "markdown",
   "metadata": {},
   "source": [
    "<center>Variable correlations</center>"
   ]
  },
  {
   "cell_type": "markdown",
   "metadata": {},
   "source": [
    "Since our categorical variables are marked as objects by pandas, let's explicitly convert them to a categorical type"
   ]
  },
  {
   "cell_type": "code",
   "execution_count": 15,
   "metadata": {},
   "outputs": [],
   "source": [
    "data = data.apply(\n",
    "    lambda entry: entry.astype(\"category\") if entry.dtype == \"O\" else entry\n",
    ")"
   ]
  },
  {
   "cell_type": "markdown",
   "metadata": {},
   "source": [
    "The below correlation matrix shows the following:\n",
    "* Working remote or from office is not correlated to salary whatsoever\n",
    "* The working year is somewhat linked to the value of the salary, probably based on external factors such as inflation"
   ]
  },
  {
   "cell_type": "code",
   "execution_count": 16,
   "metadata": {},
   "outputs": [
    {
     "data": {
      "text/html": [
       "<div>\n",
       "<style scoped>\n",
       "    .dataframe tbody tr th:only-of-type {\n",
       "        vertical-align: middle;\n",
       "    }\n",
       "\n",
       "    .dataframe tbody tr th {\n",
       "        vertical-align: top;\n",
       "    }\n",
       "\n",
       "    .dataframe thead th {\n",
       "        text-align: right;\n",
       "    }\n",
       "</style>\n",
       "<table border=\"1\" class=\"dataframe\">\n",
       "  <thead>\n",
       "    <tr style=\"text-align: right;\">\n",
       "      <th></th>\n",
       "      <th>work_year</th>\n",
       "      <th>salary</th>\n",
       "      <th>salary_in_usd</th>\n",
       "      <th>remote_ratio</th>\n",
       "    </tr>\n",
       "  </thead>\n",
       "  <tbody>\n",
       "    <tr>\n",
       "      <th>work_year</th>\n",
       "      <td>1.000000</td>\n",
       "      <td>-0.111416</td>\n",
       "      <td>0.213410</td>\n",
       "      <td>-0.044703</td>\n",
       "    </tr>\n",
       "    <tr>\n",
       "      <th>salary</th>\n",
       "      <td>-0.111416</td>\n",
       "      <td>1.000000</td>\n",
       "      <td>-0.063502</td>\n",
       "      <td>0.007635</td>\n",
       "    </tr>\n",
       "    <tr>\n",
       "      <th>salary_in_usd</th>\n",
       "      <td>0.213410</td>\n",
       "      <td>-0.063502</td>\n",
       "      <td>1.000000</td>\n",
       "      <td>0.002075</td>\n",
       "    </tr>\n",
       "    <tr>\n",
       "      <th>remote_ratio</th>\n",
       "      <td>-0.044703</td>\n",
       "      <td>0.007635</td>\n",
       "      <td>0.002075</td>\n",
       "      <td>1.000000</td>\n",
       "    </tr>\n",
       "  </tbody>\n",
       "</table>\n",
       "</div>"
      ],
      "text/plain": [
       "               work_year    salary  salary_in_usd  remote_ratio\n",
       "work_year       1.000000 -0.111416       0.213410     -0.044703\n",
       "salary         -0.111416  1.000000      -0.063502      0.007635\n",
       "salary_in_usd   0.213410 -0.063502       1.000000      0.002075\n",
       "remote_ratio   -0.044703  0.007635       0.002075      1.000000"
      ]
     },
     "execution_count": 16,
     "metadata": {},
     "output_type": "execute_result"
    }
   ],
   "source": [
    "data.corr(method = \"pearson\")"
   ]
  },
  {
   "cell_type": "markdown",
   "metadata": {},
   "source": [
    "Also note that:\n",
    "* There are no missing values in this dataset so no need to remove observations for the dataframe\n",
    "* The values have been checked to be consistent with expectations in section II"
   ]
  },
  {
   "cell_type": "markdown",
   "metadata": {},
   "source": [
    "<center>Data transformation</center>\n",
    "\n",
    "As discussed in section II, the remote_ratio variable would work better as a categorical variable because it only takes 3 values : 0, 50 and 100.\n",
    "\n",
    "Work year should be converted to integer.\n",
    "\n",
    "Also, salary in USD could be binned based on the quantile values to create a new categorical variable: low, below average, average, above average, high"
   ]
  },
  {
   "cell_type": "code",
   "execution_count": 47,
   "metadata": {},
   "outputs": [],
   "source": [
    "remote_ratio_translator = {\n",
    "    0: \"In-Person\",\n",
    "    50: \"Hybrid\",\n",
    "    100: \"Remote\"\n",
    "}\n",
    "\n",
    "data[\"remote\"] = data[\"remote_ratio\"].apply(\n",
    "    lambda ratio: remote_ratio_translator[ratio]\n",
    ")\n",
    "\n",
    "# These are labeled based on their position in the total range of salaries\n",
    "data[\"salary_range\"] = pd.cut(data[\"salary_in_usd\"], 20, labels = [f\"First {100-(i+1) * 5}% range\" for i in range(20)])\n",
    "data[\"work_year_cat\"] = data[\"work_year\"].apply(\n",
    "    lambda year: str(year)\n",
    ")\n",
    "data[\"work_year\"] = data[\"work_year\"].apply(\n",
    "    lambda year: int(year)\n",
    ")\n"
   ]
  },
  {
   "cell_type": "markdown",
   "metadata": {},
   "source": [
    "Now salary range has 5 bins :"
   ]
  },
  {
   "cell_type": "code",
   "execution_count": 48,
   "metadata": {},
   "outputs": [
    {
     "data": {
      "text/plain": [
       "First 95% range     95\n",
       "First 90% range    153\n",
       "First 85% range    204\n",
       "First 80% range    222\n",
       "First 75% range    249\n",
       "First 70% range    164\n",
       "First 65% range    149\n",
       "First 60% range     46\n",
       "First 55% range     32\n",
       "First 50% range      7\n",
       "First 45% range      2\n",
       "First 40% range      1\n",
       "First 35% range      1\n",
       "First 30% range      3\n",
       "First 25% range      3\n",
       "First 20% range      0\n",
       "First 15% range      0\n",
       "First 10% range      0\n",
       "First 5% range       0\n",
       "First 0% range       1\n",
       "Name: salary_range, dtype: int64"
      ]
     },
     "execution_count": 48,
     "metadata": {},
     "output_type": "execute_result"
    }
   ],
   "source": [
    "data[\"salary_range\"].value_counts().sort_index()"
   ]
  },
  {
   "cell_type": "markdown",
   "metadata": {},
   "source": [
    "For readability, also change the experience level variable from EN, EX, MI, SE to Entry, Executive, Intermediate, Senior:"
   ]
  },
  {
   "cell_type": "code",
   "execution_count": 19,
   "metadata": {},
   "outputs": [],
   "source": [
    "experience_translator = {\n",
    "    \"EN\" : \"Entry\",\n",
    "    \"EX\" : \"Executive\",\n",
    "    \"MI\" : \"Intermediate\",\n",
    "    \"SE\" : \"Senior\"\n",
    "}\n",
    "\n",
    "data[\"experience_level\"] = data[\"experience_level\"].apply(\n",
    "    lambda xp: experience_translator[xp]\n",
    ")"
   ]
  },
  {
   "cell_type": "markdown",
   "metadata": {},
   "source": [
    "# IV - Data Visualizations"
   ]
  },
  {
   "cell_type": "markdown",
   "metadata": {},
   "source": [
    "To do :\n",
    "\n",
    "Left to do:"
   ]
  },
  {
   "cell_type": "markdown",
   "metadata": {},
   "source": [
    "<center>Let's start with two univariate plots to see how data is distributed:</center>"
   ]
  },
  {
   "cell_type": "code",
   "execution_count": 20,
   "metadata": {},
   "outputs": [
    {
     "data": {
      "text/plain": [
       "[Text(0.5, 1.0, 'Years of registered data'), Text(0, 0.5, 'Work Year')]"
      ]
     },
     "execution_count": 20,
     "metadata": {},
     "output_type": "execute_result"
    },
    {
     "data": {
      "image/png": "[encoded data removed]",
      "text/plain": [
       "<Figure size 864x864 with 2 Axes>"
      ]
     },
     "metadata": {
      "needs_background": "light"
     },
     "output_type": "display_data"
    }
   ],
   "source": [
    "fig, ax = plt.subplots(2, figsize = (12,12))\n",
    "\n",
    "sns.boxplot(data=data, x=\"salary_in_usd\", ax = ax[0]).set(\n",
    "    title = \"Distribution of salaries in USD\",\n",
    "    xlabel = \"Salary in USD\"\n",
    ")\n",
    "sns.histplot(data=data, y=\"work_year_cat\", ax = ax[1]).set(\n",
    "    title = \"Years of registered data\",\n",
    "    ylabel = \"Work Year\"\n",
    ")"
   ]
  },
  {
   "cell_type": "markdown",
   "metadata": {},
   "source": [
    "The same idea can be applied, but this time not using a boxplot, but a barplot using the bined salary data:"
   ]
  },
  {
   "cell_type": "code",
   "execution_count": 49,
   "metadata": {},
   "outputs": [
    {
     "data": {
      "text/plain": [
       "(array([ 0,  1,  2,  3,  4,  5,  6,  7,  8,  9, 10, 11, 12, 13, 14, 15, 16,\n",
       "        17, 18, 19]),\n",
       " [Text(0, 0, 'First 95% range'),\n",
       "  Text(1, 0, 'First 90% range'),\n",
       "  Text(2, 0, 'First 85% range'),\n",
       "  Text(3, 0, 'First 80% range'),\n",
       "  Text(4, 0, 'First 75% range'),\n",
       "  Text(5, 0, 'First 70% range'),\n",
       "  Text(6, 0, 'First 65% range'),\n",
       "  Text(7, 0, 'First 60% range'),\n",
       "  Text(8, 0, 'First 55% range'),\n",
       "  Text(9, 0, 'First 50% range'),\n",
       "  Text(10, 0, 'First 45% range'),\n",
       "  Text(11, 0, 'First 40% range'),\n",
       "  Text(12, 0, 'First 35% range'),\n",
       "  Text(13, 0, 'First 30% range'),\n",
       "  Text(14, 0, 'First 25% range'),\n",
       "  Text(15, 0, 'First 20% range'),\n",
       "  Text(16, 0, 'First 15% range'),\n",
       "  Text(17, 0, 'First 10% range'),\n",
       "  Text(18, 0, 'First 5% range'),\n",
       "  Text(19, 0, 'First 0% range')])"
      ]
     },
     "execution_count": 49,
     "metadata": {},
     "output_type": "execute_result"
    },
    {
     "data": {
      "image/png": "[encoded data removed]",
      "text/plain": [
       "<Figure size 864x432 with 1 Axes>"
      ]
     },
     "metadata": {
      "needs_background": "light"
     },
     "output_type": "display_data"
    }
   ],
   "source": [
    "fig, ax = plt.subplots(figsize = (12,6))\n",
    "\n",
    "sns.countplot(data=data, x=\"salary_range\", ax = ax).set(\n",
    "    title = \"Distribution of salaries in USD\",\n",
    "    xlabel = \"Salary in USD\"\n",
    ")\n",
    "plt.xticks(rotation=45, ha=\"left\")\n"
   ]
  },
  {
   "cell_type": "markdown",
   "metadata": {},
   "source": [
    "<center>How does the median salary change from one country to another for the best paying ones ?</center>"
   ]
  },
  {
   "cell_type": "code",
   "execution_count": 21,
   "metadata": {},
   "outputs": [
    {
     "data": {
      "text/plain": [
       "<AxesSubplot:xlabel='employee_residence', ylabel='salary_in_usd'>"
      ]
     },
     "execution_count": 21,
     "metadata": {},
     "output_type": "execute_result"
    },
    {
     "data": {
      "image/png": "[encoded data removed]",
      "text/plain": [
       "<Figure size 1008x1008 with 1 Axes>"
      ]
     },
     "metadata": {
      "needs_background": "light"
     },
     "output_type": "display_data"
    }
   ],
   "source": [
    "fig, ax = plt.subplots(figsize = (14,14))\n",
    "\n",
    "median_sal = data.groupby(\"employee_residence\").median()\n",
    "plt.xticks(rotation=45, ha=\"left\")\n",
    "sns.barplot(data = median_sal.sort_values(by = \"salary_in_usd\"), x=median_sal.index, y=\"salary_in_usd\")"
   ]
  },
  {
   "cell_type": "markdown",
   "metadata": {},
   "source": [
    "<center> How did the mean salary evolve in the US year after year ?</center>"
   ]
  },
  {
   "cell_type": "code",
   "execution_count": 22,
   "metadata": {},
   "outputs": [
    {
     "data": {
      "text/plain": [
       "[Text(0.5, 1.0, 'Evolution of mean data jobs salary in the US from 2020 to 2022'),\n",
       " Text(0.5, 0, 'Year worked'),\n",
       " Text(0, 0.5, 'Salary in US$')]"
      ]
     },
     "execution_count": 22,
     "metadata": {},
     "output_type": "execute_result"
    },
    {
     "data": {
      "image/png": "[encoded data removed]",
      "text/plain": [
       "<Figure size 432x288 with 1 Axes>"
      ]
     },
     "metadata": {
      "needs_background": "light"
     },
     "output_type": "display_data"
    }
   ],
   "source": [
    "fig, ax = plt.subplots()\n",
    "\n",
    "sns.lineplot(\n",
    "    data = data[data.employee_residence == \"US\"].groupby(\"work_year_cat\").mean(),\n",
    "    x = \"work_year_cat\",\n",
    "    y = \"salary_in_usd\"\n",
    ").set(\n",
    "    title = \"Evolution of mean data jobs salary in the US from 2020 to 2022\",\n",
    "    xlabel = \"Year worked\",\n",
    "    ylabel = \"Salary in US$\"\n",
    ")\n",
    "\n"
   ]
  },
  {
   "cell_type": "markdown",
   "metadata": {},
   "source": [
    "<center> Then how about the UK, India and Canada ?</center>"
   ]
  },
  {
   "cell_type": "code",
   "execution_count": 31,
   "metadata": {},
   "outputs": [
    {
     "data": {
      "text/plain": [
       "<matplotlib.legend.Legend at 0x11726ac0ac0>"
      ]
     },
     "execution_count": 31,
     "metadata": {},
     "output_type": "execute_result"
    },
    {
     "data": {
      "image/png": "[encoded data removed]",
      "text/plain": [
       "<Figure size 432x288 with 1 Axes>"
      ]
     },
     "metadata": {
      "needs_background": "light"
     },
     "output_type": "display_data"
    }
   ],
   "source": [
    "fig, ax = plt.subplots()\n",
    "gb_india_canada = data[data.employee_residence.isin([\"GB\", \"IN\", \"CA\", \"CN\"])].groupby([\"work_year_cat\", \"employee_residence\"]).mean()\n",
    "\n",
    "sns.lineplot(\n",
    "    data = gb_india_canada,\n",
    "    x = \"work_year_cat\",\n",
    "    y = \"salary_in_usd\",\n",
    "    hue = \"employee_residence\",\n",
    ").set(\n",
    "    title = \"Evolution of mean data jobs salary in the US from 2020 to 2022\",\n",
    "    xlabel = \"Year worked\",\n",
    "    ylabel = \"Salary in US$\"\n",
    ")\n",
    "\n",
    "# This is just to show I can make a custom legend because why not\n",
    "canada = mpatches.Patch(color='orange', label='Canada')\n",
    "gb = mpatches.Patch(color = 'green', label=\"UK\")\n",
    "ind = mpatches.Patch(color = 'purple', label=\"India\")\n",
    "china = mpatches.Patch(color = \"olive\", label=\"China\")\n",
    "plt.legend(handles=[canada, gb, ind, china])"
   ]
  },
  {
   "cell_type": "markdown",
   "metadata": {},
   "source": [
    "<center>Time for some mathematics with a scatterplot</center>"
   ]
  },
  {
   "cell_type": "code",
   "execution_count": 24,
   "metadata": {},
   "outputs": [
    {
     "data": {
      "text/plain": [
       "<AxesSubplot:xlabel='salary_in_usd', ylabel='salary'>"
      ]
     },
     "execution_count": 24,
     "metadata": {},
     "output_type": "execute_result"
    },
    {
     "data": {
      "image/png": "[encoded data removed]",
      "text/plain": [
       "<Figure size 432x288 with 1 Axes>"
      ]
     },
     "metadata": {
      "needs_background": "light"
     },
     "output_type": "display_data"
    }
   ],
   "source": [
    "# Remove extreme salary outliers for visibility\n",
    "data_no_extreme_sal = data[data.salary < 800000]\n",
    "\n",
    "# I haven't colored it on purpose for my point below\n",
    "sns.scatterplot(data=data_no_extreme_sal, x=\"salary_in_usd\", y=\"salary\")"
   ]
  },
  {
   "cell_type": "markdown",
   "metadata": {},
   "source": [
    "In the above plot, it is easy to see how straight lines come out of the origin of the plot with various leading coefficients. This is because salaries augment linearly based on different conversion coefficients, here based on the US dollar whose values act as an y=x line.\n",
    "\n",
    "We are going to confirm that each apparent line correspond to a specific currency.\n",
    "\n",
    "Since every salary is reported in USD : $ salary = k * usdsalary, k=1 \\hspace{0.15cm}for \\hspace{0.15cm}USD $\n",
    "\n",
    "With k the line coefficient for any currency, the conversion rate from USD to any other present enough on the plot currency can be found from the angle difference equation between the two lines :\n",
    "$$\n",
    "...\n",
    "$$\n",
    "\n",
    "Angle difference : $$ \\alpha = \\arctan(k) - \\arctan(1) $$\n",
    "\n",
    "Or : $$ k = \\tan(\\alpha + \\arctan(1)) $$\n",
    "\n",
    "Therefore we expect that **currency conversion rates determine the angle of the salary line from the origin** :\n",
    "\n"
   ]
  },
  {
   "cell_type": "code",
   "execution_count": 25,
   "metadata": {},
   "outputs": [
    {
     "data": {
      "text/plain": [
       "<matplotlib.legend.Legend at 0x117261bf550>"
      ]
     },
     "execution_count": 25,
     "metadata": {},
     "output_type": "execute_result"
    },
    {
     "data": {
      "image/png": "[encoded data removed]",
      "text/plain": [
       "<Figure size 432x288 with 1 Axes>"
      ]
     },
     "metadata": {
      "needs_background": "light"
     },
     "output_type": "display_data"
    }
   ],
   "source": [
    "# Remove extreme salary outliers for visibility\n",
    "data_no_extreme_sal = data[data.salary < 800000]\n",
    "\n",
    "# I haven't colored it on purpose for my point below\n",
    "sns.scatterplot(data=data_no_extreme_sal, x=\"salary_in_usd\", y=\"salary\", hue = \"employee_residence\").set(\n",
    "    title = \"Salaries angled by currency conversion rates\",\n",
    "    xlabel = \"Salary in USD\",\n",
    "    ylabel = \"Salary in any currency\"\n",
    ")\n",
    "plt.legend(handles=[])"
   ]
  },
  {
   "cell_type": "markdown",
   "metadata": {},
   "source": [
    "<center>Salary by experience in the USA</center>\n",
    "\n",
    "Knowing how much you can expect based on your previous experious is also a plus, so how does it work in the United States ?"
   ]
  },
  {
   "cell_type": "code",
   "execution_count": 26,
   "metadata": {},
   "outputs": [
    {
     "data": {
      "text/plain": [
       "[Text(0.5, 1.0, 'Expected salary by experience level'),\n",
       " Text(0.5, 0, 'Experience'),\n",
       " Text(0, 0.5, 'Salary in USD')]"
      ]
     },
     "execution_count": 26,
     "metadata": {},
     "output_type": "execute_result"
    },
    {
     "data": {
      "image/png": "[encoded data removed]",
      "text/plain": [
       "<Figure size 432x288 with 1 Axes>"
      ]
     },
     "metadata": {
      "needs_background": "light"
     },
     "output_type": "display_data"
    }
   ],
   "source": [
    "fig, ax = plt.subplots()\n",
    "\n",
    "sns.barplot(data = data[data.employee_residence == \"US\"], x = \"experience_level\", y = \"salary_in_usd\").set(\n",
    "    title = \"Expected salary by experience level\",\n",
    "    xlabel = \"Experience\",\n",
    "    ylabel = \"Salary in USD\"\n",
    ")"
   ]
  },
  {
   "cell_type": "markdown",
   "metadata": {},
   "source": [
    "# V - Wrap up"
   ]
  },
  {
   "cell_type": "markdown",
   "metadata": {},
   "source": [
    "Here are some key takeaways from this data exploration:\n",
    "\n",
    "As the data shows, most of the observations come from 2022. Data Science is becoming more and more popular, and thus attractive.\n",
    "\n",
    "Therefore, on top of budget restrictions created by the pandemic, salaries in data science tend to get lower because of the now higher demand of employment for lower offer in western countries. However, the trend is the opposite in countries dominated by lower and middle class populations like China and India, and salaries skyrocket to attract technical talent from these places.\n",
    "\n",
    "Naturally, salaries increases with responsabilities by experience, but even baseline entry-level salaries are attractive, with the mean standing around 100k$ per year for entry level jobs. Data Science still being a relatively new trend based on when it started to become popular, the 150k$ per year senior level salaries are reachable with time and effort."
   ]
  },
  {
   "cell_type": "markdown",
   "metadata": {},
   "source": [
    "<h1><center> What to do with more time ? </center><h1>"
   ]
  },
  {
   "cell_type": "markdown",
   "metadata": {},
   "source": [
    "With more time, these would be the questions to explore:\n",
    "\n",
    "* How to build an accurate model to estimate salaries based on the predictor variables in the dataset ? I would want to know how much I can ask for when negociating a deal based on my previous experiences and the company in question.\n",
    "* Understand how company size affects experience level in employees as well as salaries. I only worked internships in startups, and I would be curious to know where I should apply to in order to work with very experienced people.\n",
    "* Which countries prefer in-office and remote work in data science. I personally need to physically go to work to dissociate my personal space from my work space, thus working in a country where that is the norm would be pleasant.\n"
   ]
  },
  {
   "cell_type": "code",
   "execution_count": null,
   "metadata": {},
   "outputs": [],
   "source": []
  }
 ],
 "metadata": {
  "kernelspec": {
   "display_name": "Python 3.9.7 ('base')",
   "language": "python",
   "name": "python3"
  },
  "language_info": {
   "codemirror_mode": {
    "name": "ipython",
    "version": 3
   },
   "file_extension": ".py",
   "mimetype": "text/x-python",
   "name": "python",
   "nbconvert_exporter": "python",
   "pygments_lexer": "ipython3",
   "version": "3.9.7"
  },
  "orig_nbformat": 4,
  "vscode": {
   "interpreter": {
    "hash": "ad2bdc8ecc057115af97d19610ffacc2b4e99fae6737bb82f5d7fb13d2f2c186"
   }
  }
 },
 "nbformat": 4,
 "nbformat_minor": 2
}
