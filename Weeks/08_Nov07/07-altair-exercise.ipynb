{
  "cells": [
    {
      "cell_type": "markdown",
      "id": "9359d5e3",
      "metadata": {},
      "source": "Please execute the following to make sure relevant packages are installed before proceeding."
    },
    {
      "cell_type": "code",
      "execution_count": null,
      "id": "dd0597ce",
      "metadata": {
        "trusted": true
      },
      "outputs": [],
      "source": "!pip install altair pandas ipywidgets vega_datasets"
    },
    {
      "cell_type": "markdown",
      "id": "60a49733",
      "metadata": {},
      "source": "Import the libraries:"
    },
    {
      "cell_type": "code",
      "execution_count": null,
      "id": "70a5e8fe",
      "metadata": {
        "trusted": true
      },
      "outputs": [],
      "source": "import altair as alt\nimport pandas as pd\nimport ipywidgets as widgets"
    },
    {
      "cell_type": "markdown",
      "id": "d1af8446",
      "metadata": {},
      "source": "Import an example dataset about cars:"
    },
    {
      "cell_type": "code",
      "execution_count": null,
      "id": "673fccc5",
      "metadata": {
        "trusted": true
      },
      "outputs": [],
      "source": "from vega_datasets import data\ncars = data.cars()"
    },
    {
      "cell_type": "markdown",
      "id": "94c0b6cd",
      "metadata": {},
      "source": "Look at the first rows of the dataframe:"
    },
    {
      "cell_type": "code",
      "execution_count": null,
      "id": "1a6e1930",
      "metadata": {
        "trusted": true
      },
      "outputs": [],
      "source": "cars.head()"
    },
    {
      "cell_type": "markdown",
      "id": "8d0c574a",
      "metadata": {},
      "source": "Here we make a scatter plot of horsepower vs mpg, with the color corresponding to country of origin:"
    },
    {
      "cell_type": "code",
      "execution_count": null,
      "id": "38b4d089",
      "metadata": {
        "trusted": true
      },
      "outputs": [],
      "source": "alt.Chart(cars).mark_point().encode(\n    x='Horsepower',\n    y='Miles_per_Gallon',\n    color='Origin'\n)"
    },
    {
      "cell_type": "markdown",
      "id": "6e6940d1",
      "metadata": {},
      "source": "Here we make a bar plot showing the number of car records from each country of origin:"
    },
    {
      "cell_type": "code",
      "execution_count": null,
      "id": "11d5611a",
      "metadata": {
        "trusted": true
      },
      "outputs": [],
      "source": "alt.Chart(cars).mark_bar().encode(\n    x='count(Origin)',\n    y='Origin',\n    color='Origin'\n)"
    },
    {
      "cell_type": "markdown",
      "id": "a0b6463c",
      "metadata": {},
      "source": "We can plot the two plots above together with the `&` notation:"
    },
    {
      "cell_type": "code",
      "execution_count": null,
      "id": "68791321",
      "metadata": {
        "trusted": true
      },
      "outputs": [],
      "source": "points = alt.Chart(cars).mark_point().encode(\n    x='Horsepower',\n    y='Miles_per_Gallon',\n    color='Origin'\n)\n\nbars = alt.Chart(cars).mark_bar().encode(\n    x='count(Origin)',\n    y='Origin',\n    color='Origin'\n)\n\npoints & bars"
    },
    {
      "cell_type": "markdown",
      "id": "9186a3e9",
      "metadata": {},
      "source": "Make a selection interval object and use it in such a way that the bar plot is transformed based on how a user selects an interval in the scatter plot"
    },
    {
      "cell_type": "code",
      "execution_count": null,
      "id": "561b090d",
      "metadata": {
        "trusted": true
      },
      "outputs": [],
      "source": ""
    }
  ],
  "metadata": {
    "kernelspec": {
      "display_name": "Python 3 (ipykernel)",
      "language": "python",
      "name": "python3"
    },
    "language_info": {
      "codemirror_mode": {
        "name": "ipython",
        "version": 3
      },
      "file_extension": ".py",
      "mimetype": "text/x-python",
      "name": "python",
      "nbconvert_exporter": "python",
      "pygments_lexer": "ipython3",
      "version": "3.8.6"
    }
  },
  "nbformat": 4,
  "nbformat_minor": 5
}