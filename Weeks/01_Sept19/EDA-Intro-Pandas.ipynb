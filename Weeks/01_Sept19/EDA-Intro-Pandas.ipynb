{
 "cells": [
  {
   "attachments": {
    "2db1e92a-ed3a-4f7b-8737-c08469c9dd22.png": {
     "image/png": "[encoded data removed]"
    }
   },
   "cell_type": "markdown",
   "id": "d69b24ea-0653-43fc-8209-cab6f00e7151",
   "metadata": {},
   "source": [
    "![image.png](attachment:2db1e92a-ed3a-4f7b-8737-c08469c9dd22.png)"
   ]
  },
  {
   "cell_type": "markdown",
   "id": "8edbdca8-6c25-4d7e-8e54-b54bb7d0157f",
   "metadata": {},
   "source": [
    "https://pandas.pydata.org/\n",
    "\n",
    "Pandas data-manipulation capabilities are built on top of NumPy, utilizing its fast array processing, and its graphing capabilities are built on top of Matplotlib.\n",
    "\n",
    "* \"pandas is a fast, powerful, flexible and easy to use open source data analysis and manipulation tool, built on top of the Python programming language.\"\n",
    "\n",
    "* It may be one of the most widely used tools for data munging\n",
    "\n",
    "  * present data in nice formats\n",
    "  * multiple convenient methods for filtering data\n",
    "  * work with a variety of data formats (CSV, Excel, …)\n",
    "  * convenient functions for quickly plotting data\n",
    "\n",
    "* The name comes from panel data (and is also a play on python data analysis)"
   ]
  },
  {
   "cell_type": "markdown",
   "id": "5759e593-0627-4812-80b6-a7ce78feaf57",
   "metadata": {},
   "source": [
    "## EDA with Pandas\n",
    "\n",
    "First:  import pandas so we can use all of its data structures and functions"
   ]
  },
  {
   "cell_type": "code",
   "execution_count": null,
   "id": "b90674cf-3ae4-42e6-8f23-0d67ff5db775",
   "metadata": {},
   "outputs": [],
   "source": [
    "import pandas as pd"
   ]
  },
  {
   "cell_type": "markdown",
   "id": "0ff42961-ce87-4f3b-be1b-85472807cab1",
   "metadata": {},
   "source": [
    "Use pandas to import the data from 'anscombe.csv' into a dataframe variable"
   ]
  },
  {
   "cell_type": "code",
   "execution_count": null,
   "id": "dc65c899-2024-4713-b538-0a40d98a1190",
   "metadata": {},
   "outputs": [],
   "source": [
    "df = pd.read_csv('data/anscombe.csv')"
   ]
  },
  {
   "cell_type": "markdown",
   "id": "ab128069-16cd-413f-b83c-2ecf81166b1a",
   "metadata": {},
   "source": [
    "There are several useful dataframe attributes and methods that will allow you to get summary info:\n",
    "* `head(n)` : get the first n rows\n",
    "* `tail(n)` : get the last n rows\n",
    "* `columns` : column names\n",
    "* `dtypes` : data types of the columns (dataframes can hold different datatypes in different columns\n",
    "* `index` : information about the row indices (they don't have to be numerical)\n",
    "* `shape` : the size of the dataframe in each dimension\n",
    "* `info()` : a range of summary info that includes the above\n",
    "* `describe()` : basic statistics about the data columns"
   ]
  },
  {
   "cell_type": "markdown",
   "id": "dc4cc6ca-ab24-4adb-aa38-eb5c198852c6",
   "metadata": {},
   "source": [
    "Print the first 2 rows of the dataframe:"
   ]
  },
  {
   "cell_type": "code",
   "execution_count": null,
   "id": "8f98c098-13b8-4346-9dcc-5fc59f5d7107",
   "metadata": {},
   "outputs": [],
   "source": [
    "df.head(2)"
   ]
  },
  {
   "cell_type": "markdown",
   "id": "88b8894f-6615-4774-8974-dedbe6848f17",
   "metadata": {},
   "source": [
    "Print the last 2 rows of the dataframe:"
   ]
  },
  {
   "cell_type": "code",
   "execution_count": null,
   "id": "78f07a51-a818-4332-b855-33063859ecb1",
   "metadata": {},
   "outputs": [],
   "source": [
    "df.tail(2)"
   ]
  },
  {
   "cell_type": "markdown",
   "id": "afdc1500-d4d6-47da-8df6-bb3f06bc843a",
   "metadata": {},
   "source": [
    "Print the number of rows and columns of the dataframe:"
   ]
  },
  {
   "cell_type": "code",
   "execution_count": null,
   "id": "91d1f623-c04b-4ab1-9e51-fb5ef5669a25",
   "metadata": {},
   "outputs": [],
   "source": [
    "df.shape"
   ]
  },
  {
   "cell_type": "markdown",
   "id": "7b955a2b-c95a-4364-97ac-d5331ba14356",
   "metadata": {},
   "source": [
    "Print the column names of the dataframe:"
   ]
  },
  {
   "cell_type": "code",
   "execution_count": null,
   "id": "65ec0b1f-6d63-47d9-b9ac-1ee6836c8520",
   "metadata": {},
   "outputs": [],
   "source": [
    "df.columns"
   ]
  },
  {
   "cell_type": "markdown",
   "id": "8b7942f0-fb03-4cf6-844d-713a71a2f66f",
   "metadata": {},
   "source": [
    "Print the datatypes of each column:"
   ]
  },
  {
   "cell_type": "code",
   "execution_count": null,
   "id": "a5674126-dd97-421c-b1ee-ea08d0184f1a",
   "metadata": {},
   "outputs": [],
   "source": [
    "df.dtypes"
   ]
  },
  {
   "cell_type": "markdown",
   "id": "68a404af-4109-4f85-b441-f80e967d0618",
   "metadata": {
    "slideshow": {
     "slide_type": "slide"
    }
   },
   "source": [
    "Pandas datatypes are slightly different from the raw python datatypes. Check out the datatype table again:"
   ]
  },
  {
   "cell_type": "markdown",
   "id": "46d56071-9b53-4ed7-b5fb-6ae864c41205",
   "metadata": {
    "slideshow": {
     "slide_type": "fragment"
    }
   },
   "source": [
    "<table class=\"table table-striped\">\n",
    "  <thead>\n",
    "    <tr>\n",
    "      <th>Pandas Type</th>\n",
    "      <th>Native Python Type</th>\n",
    "      <th>Description</th>\n",
    "    </tr>\n",
    "  </thead>\n",
    "  <tbody>\n",
    "    <tr>\n",
    "      <td>object</td>\n",
    "      <td>string</td>\n",
    "      <td>The most general dtype. Will be assigned to your column if column has mixed types (numbers and strings).</td>\n",
    "    </tr>\n",
    "    <tr>\n",
    "      <td>int64</td>\n",
    "      <td>int</td>\n",
    "      <td>Numeric characters. 64 refers to the memory allocated to hold this character.</td>\n",
    "    </tr>\n",
    "    <tr>\n",
    "      <td>float64</td>\n",
    "      <td>float</td>\n",
    "      <td>Numeric characters with decimals. If a column contains numbers and NaNs, pandas will default to float64, in case your missing value has a decimal.</td>\n",
    "    </tr>\n",
    "    <tr>\n",
    "      <td>datetime64, timedelta[ns]</td>\n",
    "      <td>N/A (but see the <a href=\"http://doc.python.org/2/library/datetime.html\">datetime</a> module in Python’s standard library)</td>\n",
    "      <td>Values meant to hold time data. Look into these for time series experiments.</td>\n",
    "    </tr>\n",
    "  </tbody>\n",
    "</table>"
   ]
  },
  {
   "cell_type": "markdown",
   "id": "6dd693ca-4f0d-4c92-ae5c-b72d234ccac3",
   "metadata": {},
   "source": [
    "Print summary statistics about the dataframe:"
   ]
  },
  {
   "cell_type": "code",
   "execution_count": null,
   "id": "fc529176-5544-4e9e-a8b7-2e13200acf59",
   "metadata": {},
   "outputs": [],
   "source": [
    "df.describe()"
   ]
  },
  {
   "cell_type": "code",
   "execution_count": null,
   "id": "ecb7482e-905d-4d3b-ae2d-f55e3208b53e",
   "metadata": {},
   "outputs": [],
   "source": [
    "df.describe(include='all')"
   ]
  },
  {
   "cell_type": "markdown",
   "id": "751514a3-5162-4060-8f1e-44bdde186cba",
   "metadata": {},
   "source": [
    "Print the values that are in the 'dataset' column:"
   ]
  },
  {
   "cell_type": "code",
   "execution_count": null,
   "id": "4a289bad-d9dc-41e7-aa07-c1be6847fee5",
   "metadata": {},
   "outputs": [],
   "source": [
    "df['dataset']"
   ]
  },
  {
   "cell_type": "markdown",
   "id": "9be6be4d-e946-4f8e-adbb-506e6c3dfde0",
   "metadata": {},
   "source": [
    "Use \"loc\" to print the first 10 rows:"
   ]
  },
  {
   "cell_type": "code",
   "execution_count": null,
   "id": "06bc4354-09be-4afe-a96a-399c2aa46d45",
   "metadata": {},
   "outputs": [],
   "source": [
    "df.loc[0:9]"
   ]
  },
  {
   "cell_type": "markdown",
   "id": "6e067c90-ac8f-423b-b832-65c0f720ec8d",
   "metadata": {},
   "source": [
    "Use \"loc\" to print the values from the first 10 rows of the 'x' column:"
   ]
  },
  {
   "cell_type": "code",
   "execution_count": null,
   "id": "86b2ecc3-19a1-433a-b431-869a90db97b8",
   "metadata": {},
   "outputs": [],
   "source": [
    "df.loc[0:9, 'x']"
   ]
  },
  {
   "cell_type": "markdown",
   "id": "fb3a164d-430c-4691-acb9-6a0843bc03c4",
   "metadata": {},
   "source": [
    "Use \"loc\" to print the rows for which `dataset` is equal to `III`:"
   ]
  },
  {
   "cell_type": "code",
   "execution_count": null,
   "id": "72d7dbd8-407b-466b-886e-253cdeec3d30",
   "metadata": {},
   "outputs": [],
   "source": [
    "df.loc[df['dataset'] == 'III']"
   ]
  },
  {
   "cell_type": "markdown",
   "id": "93587587-c328-4612-b833-31b1a783fef2",
   "metadata": {},
   "source": [
    "Make a line plot of y against x for dataset III:"
   ]
  },
  {
   "cell_type": "code",
   "execution_count": null,
   "id": "eff6cde5-66e7-450b-9121-b222c49a0537",
   "metadata": {},
   "outputs": [],
   "source": [
    "df.loc[df['dataset'] == 'III'].plot(x='x', y='y')"
   ]
  },
  {
   "cell_type": "markdown",
   "id": "de6c39ca-475e-4c65-8e26-8523900a13eb",
   "metadata": {},
   "source": [
    "Make a scatter plot of y against x for dataset III:"
   ]
  },
  {
   "cell_type": "code",
   "execution_count": null,
   "id": "8dd034d2-86f0-48de-8db4-df1b46c19893",
   "metadata": {},
   "outputs": [],
   "source": [
    "df.loc[df['dataset'] == 'III'].plot(x='x', y='y', kind='scatter')"
   ]
  },
  {
   "cell_type": "markdown",
   "id": "4b0497e3-0f0b-425b-b829-176c2f72ed8a",
   "metadata": {},
   "source": [
    "Make scatter plots for the other 3 datasets:"
   ]
  },
  {
   "cell_type": "code",
   "execution_count": null,
   "id": "333a9abd-ec34-448f-9439-d1cf6a956602",
   "metadata": {},
   "outputs": [],
   "source": [
    "df.loc[df['dataset'] == 'I'].plot(x='x', y='y', kind='scatter')\n",
    "df.loc[df['dataset'] == 'II'].plot(x='x', y='y', kind='scatter')\n",
    "df.loc[df['dataset'] == 'IV'].plot(x='x', y='y', kind='scatter')"
   ]
  },
  {
   "cell_type": "markdown",
   "id": "43153b55-9e0b-4bf8-9fdd-4ee29fb92f74",
   "metadata": {},
   "source": [
    "We're working with the datasets from Anscombe's quartet.  You can read about it [here](https://en.wikipedia.org/wiki/Anscombe%27s_quartet).\n",
    "\n",
    "As a hint of some additional Python plotting capabilities, we're going to plot:\n",
    "* a scatter plot of dataset I \n",
    "* a line plot of the linear regression line using the numpy and matplotlib packages\n",
    "* add in some interactivity to cycle between all four datasets and additionally calculate summary statistics and plot histograms of each variable"
   ]
  },
  {
   "cell_type": "code",
   "execution_count": null,
   "id": "d03452f2-9d76-4043-a32a-161b12c5317b",
   "metadata": {},
   "outputs": [],
   "source": [
    "import numpy as np\n",
    "import matplotlib.pyplot as plt\n",
    "import ipywidgets\n",
    "\n",
    "df.loc[df['dataset'] == 'I'].plot(x='x', y='y', kind='scatter', color='black')\n",
    "\n",
    "x = np.linspace(4,14,100)\n",
    "y = 3 + 0.5*x\n",
    "\n",
    "plt.plot(x,y,color='blue')\n",
    "plt.xlabel('x',fontsize=16)\n",
    "plt.ylabel('y',fontsize=16)\n",
    "plt.title(\"Anscombe's data I\",fontsize=16)"
   ]
  },
  {
   "cell_type": "code",
   "execution_count": null,
   "id": "c3a10a16-571c-4792-94c9-bbe831b8601c",
   "metadata": {},
   "outputs": [],
   "source": [
    "def widgetanscombe(dataset='III'):\n",
    "    fig,ax = plt.subplots(2,2,figsize=(8,8))\n",
    "\n",
    "    x = df[df.dataset==dataset].x\n",
    "    y = df[df.dataset==dataset].y\n",
    "\n",
    "    ax[1,0].scatter(x, y)\n",
    "\n",
    "    ax[0,0].hist(x, bins=10, rwidth=0.9)\n",
    "    ax[1,1].hist(y, bins=10, rwidth=0.9, orientation='horizontal')\n",
    "\n",
    "    ax[0,1].text(0.2,0.8,'x_mean = {:.2f}'.format(x.mean()))\n",
    "    ax[0,1].text(0.2,0.7,'x_stddev = {:.2f}'.format(x.std()))\n",
    "    ax[0,1].text(0.2,0.6,'y_mean = {:.2f}'.format(y.mean()))\n",
    "    ax[0,1].text(0.2,0.5,'y_stddev = {:.2f}'.format(y.std()))\n",
    "    ax[0,1].text(0.2,0.4,'corr = {:.2f}'.format(x.corr(y)))\n",
    "\n",
    "    fig.show()\n",
    "    \n",
    "ipywidgets.interact(widgetanscombe, dataset=df.dataset.unique());"
   ]
  },
  {
   "cell_type": "markdown",
   "id": "398e2409-6f32-4f29-a757-05b5675b6ff3",
   "metadata": {},
   "source": [
    "# End"
   ]
  }
 ],
 "metadata": {
  "kernelspec": {
   "display_name": "Python 3 (ipykernel)",
   "language": "python",
   "name": "python3"
  },
  "language_info": {
   "codemirror_mode": {
    "name": "ipython",
    "version": 3
   },
   "file_extension": ".py",
   "mimetype": "text/x-python",
   "name": "python",
   "nbconvert_exporter": "python",
   "pygments_lexer": "ipython3",
   "version": "3.10.6"
  }
 },
 "nbformat": 4,
 "nbformat_minor": 5
}
