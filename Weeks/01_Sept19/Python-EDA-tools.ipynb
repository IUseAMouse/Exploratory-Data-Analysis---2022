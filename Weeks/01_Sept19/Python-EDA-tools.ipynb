{
 "cells": [
  {
   "cell_type": "markdown",
   "id": "2b4b54d5-bff6-4074-9679-d5c938d4a927",
   "metadata": {},
   "source": [
    "# Tools to automate EDA\n",
    "\n",
    "* https://builtin.com/data-science/EDA-python"
   ]
  },
  {
   "cell_type": "markdown",
   "id": "37e3acc9-0c43-4ea7-a471-282cee88f673",
   "metadata": {},
   "source": [
    "# DataPrep\n",
    "\n",
    "* Documentation: https://docs.dataprep.ai/"
   ]
  },
  {
   "cell_type": "code",
   "execution_count": null,
   "id": "1428e19d-b877-4539-99c3-2f8521476e8b",
   "metadata": {},
   "outputs": [],
   "source": [
    "# !pip install dataprep"
   ]
  },
  {
   "cell_type": "code",
   "execution_count": null,
   "id": "0e080c75-7833-4c38-b5bd-a4eaeda88bc8",
   "metadata": {},
   "outputs": [],
   "source": [
    "from dataprep.eda import create_report\n",
    "import pandas as pd\n",
    "\n",
    "df = pd.read_csv(\"data/titanic.csv\")\n",
    "\n",
    "create_report(df)"
   ]
  },
  {
   "cell_type": "markdown",
   "id": "c0926b6b-4d0f-4428-b192-d28609feadb7",
   "metadata": {},
   "source": [
    "# Pandas Profiling\n",
    "\n",
    "* Documentation: https://pandas-profiling.ydata.ai/docs/master/\n",
    "* GitHub repository: https://github.com/ydataai/pandas-profiling"
   ]
  },
  {
   "cell_type": "code",
   "execution_count": null,
   "id": "eae50702-1aa1-4c13-b79d-84e6d7ab8bb8",
   "metadata": {},
   "outputs": [],
   "source": [
    "# !pip install pandas-profiling[notebook]"
   ]
  },
  {
   "cell_type": "code",
   "execution_count": null,
   "id": "6eb26cd3-4209-475e-851e-c3c8f72e4710",
   "metadata": {},
   "outputs": [],
   "source": [
    "from pandas_profiling import ProfileReport\n",
    "import pandas as pd\n",
    "\n",
    "df = pd.read_csv(\"data/titanic.csv\")\n",
    "\n",
    "profile = ProfileReport(df, title=\"Report\")\n",
    "profile"
   ]
  },
  {
   "cell_type": "markdown",
   "id": "eed2fe4d-0332-4270-9580-8367cb0d356f",
   "metadata": {},
   "source": [
    "# SweetViz\n",
    "\n",
    "* GitHub repository: https://github.com/fbdesignpro/sweetviz"
   ]
  },
  {
   "cell_type": "code",
   "execution_count": null,
   "id": "8a6a3093-d929-456b-8a41-1da8a90018c6",
   "metadata": {},
   "outputs": [],
   "source": [
    "# !pip install sweetviz"
   ]
  },
  {
   "cell_type": "code",
   "execution_count": null,
   "id": "d86e680e-1639-4997-8e69-a15a1210f638",
   "metadata": {},
   "outputs": [],
   "source": [
    "import sweetviz as sv\n",
    "import pandas as pd\n",
    "\n",
    "df = pd.read_csv(\"data/titanic.csv\")\n",
    "\n",
    "analyze_report = sv.analyze(df)\n",
    "analyze_report.show_html('report.html', open_browser=False)"
   ]
  },
  {
   "cell_type": "markdown",
   "id": "dcb329b4-4036-40ac-854e-37e5bc2b10ae",
   "metadata": {},
   "source": [
    "# AutoViz\n",
    "\n",
    "* GitHub repository: https://github.com/AutoViML/AutoViz\n",
    "* Medium article on usage: https://towardsdatascience.com/autoviz-a-new-tool-for-automated-visualization-ec9c1744a6ad"
   ]
  },
  {
   "cell_type": "code",
   "execution_count": null,
   "id": "bd61a8af-4e8d-4b43-adab-744cc9d73b5b",
   "metadata": {},
   "outputs": [],
   "source": [
    "# !pip install autoviz"
   ]
  },
  {
   "cell_type": "code",
   "execution_count": null,
   "id": "811803c8-cdff-4d0a-8f75-7a5bef454619",
   "metadata": {},
   "outputs": [],
   "source": [
    "# note that you don't need Pandas \n",
    "from autoviz.AutoViz_Class import AutoViz_Class\n",
    "\n",
    "AV = AutoViz_Class()\n",
    "df_av = AV.AutoViz('data/titanic.csv')"
   ]
  },
  {
   "cell_type": "code",
   "execution_count": null,
   "id": "31f45514-1d39-48eb-99cc-6dbaa5f0a74a",
   "metadata": {},
   "outputs": [],
   "source": [
    "df_av = AV.AutoViz('data/titanic.csv', chart_format='bokeh')"
   ]
  }
 ],
 "metadata": {
  "kernelspec": {
   "display_name": "Python 3 (ipykernel)",
   "language": "python",
   "name": "python3"
  },
  "language_info": {
   "codemirror_mode": {
    "name": "ipython",
    "version": 3
   },
   "file_extension": ".py",
   "mimetype": "text/x-python",
   "name": "python",
   "nbconvert_exporter": "python",
   "pygments_lexer": "ipython3",
   "version": "3.10.6"
  }
 },
 "nbformat": 4,
 "nbformat_minor": 5
}
