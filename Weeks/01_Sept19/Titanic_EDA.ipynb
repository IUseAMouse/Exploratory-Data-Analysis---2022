{
 "cells": [
  {
   "cell_type": "markdown",
   "id": "0df8dd28-4f1d-4f25-b707-bf91adfa539c",
   "metadata": {},
   "source": [
    "# Exploratory Data Analysis with the Titanic Dataset\n",
    "\n",
    "This dataset is the training dataset from Kaggle's [\"Titanic - Machine Learning from Disaster\"](https://www.kaggle.com/c/titanic)"
   ]
  },
  {
   "cell_type": "markdown",
   "id": "8ee3984c-b7ae-466f-9b76-e6e0c08f1912",
   "metadata": {},
   "source": [
    "## Import module"
   ]
  },
  {
   "cell_type": "code",
   "execution_count": null,
   "id": "f5f032ad-7e1d-479d-a27d-bec9570b3467",
   "metadata": {},
   "outputs": [],
   "source": [
    "# import the pandas module and give it the alias \"pd\"\n",
    "\n"
   ]
  },
  {
   "cell_type": "markdown",
   "id": "9884cdec-0352-4c04-bf32-96f397abdd71",
   "metadata": {},
   "source": [
    "## Import the data"
   ]
  },
  {
   "cell_type": "code",
   "execution_count": null,
   "id": "873d972f-7cb3-4672-828a-b894727d4c37",
   "metadata": {},
   "outputs": [],
   "source": [
    "# The dataset is contained in a CSV file, \"data/titanic.csv\".\n",
    "# Use pandas read_csv function to import the data into a dataframe.\n",
    "\n"
   ]
  },
  {
   "cell_type": "markdown",
   "id": "b6858774-051b-4bc0-8db0-64dd9750fddf",
   "metadata": {},
   "source": [
    "## Look at the data\n",
    "\n",
    "* look at snapshots of the dataframe\n",
    "  * `df`, `df.head()`, `df.tail()`, `df.sample()`\n",
    "* look at the sizes\n",
    "  * `df.shape`: look at the size of the data\n",
    "* look at column names\n",
    "  * `df.columns`: look at column names\n",
    "* look at summary information\n",
    "  * `df.describe()`: statistical summary info\n",
    "  * `df.info()`: data types, sizes, column labels, null values"
   ]
  },
  {
   "cell_type": "code",
   "execution_count": null,
   "id": "37bb6448-ea16-4def-bb05-a595b22822a5",
   "metadata": {
    "tags": []
   },
   "outputs": [],
   "source": [
    "# Put the dataframe variable by itself on a line and execute the cell\n",
    "# You should see an abbreviated output of the dataframe contents\n",
    "\n"
   ]
  },
  {
   "cell_type": "code",
   "execution_count": null,
   "id": "44563cb1-2612-4c5b-ac53-2331edb8ff5d",
   "metadata": {},
   "outputs": [],
   "source": [
    "# What happens when you print the dataframe with the print function?\n",
    "\n"
   ]
  },
  {
   "cell_type": "code",
   "execution_count": null,
   "id": "fca7461e-1140-4f1d-b85c-fc49dc7f812d",
   "metadata": {
    "tags": []
   },
   "outputs": [],
   "source": [
    "# Look at the first 5 rows\n",
    "\n"
   ]
  },
  {
   "cell_type": "code",
   "execution_count": null,
   "id": "cd4c2c14-9b3f-46d4-af9a-22e069973bca",
   "metadata": {
    "tags": []
   },
   "outputs": [],
   "source": [
    "# Look at the last 5 rows\n",
    "\n"
   ]
  },
  {
   "cell_type": "code",
   "execution_count": null,
   "id": "ced9f858-6725-4bde-ac3b-acddba16959a",
   "metadata": {
    "tags": []
   },
   "outputs": [],
   "source": [
    "# Look at 5 sample rows\n",
    "\n"
   ]
  },
  {
   "cell_type": "code",
   "execution_count": null,
   "id": "bc0a94b9-f7a2-4c37-a43e-e3b0249d9f48",
   "metadata": {},
   "outputs": [],
   "source": [
    "# Look at the number of rows and columns\n",
    "\n"
   ]
  },
  {
   "cell_type": "markdown",
   "id": "36bc7c18-eb65-4fce-8fbe-bb09354b5ff3",
   "metadata": {},
   "source": [
    "Look at the description and details of the training data on the data page:\n",
    "https://www.kaggle.com/competitions/titanic/data?select=train.csv\n",
    "\n",
    "Do your number of rows and columns match with the description/details?"
   ]
  },
  {
   "cell_type": "code",
   "execution_count": null,
   "id": "082d86be-b910-40ed-8b86-321a07e74e7e",
   "metadata": {},
   "outputs": [],
   "source": [
    "# Look at the column names\n",
    "# Do these match your expectations based on the documentation? (included below)\n",
    "\n"
   ]
  },
  {
   "cell_type": "markdown",
   "id": "ecdf92d5-9b8e-4faf-8171-05f072843443",
   "metadata": {},
   "source": [
    "Let's consult information from the Kaggle site to get more information."
   ]
  },
  {
   "cell_type": "markdown",
   "id": "3ef174eb-3a41-4705-b9d6-1ebfc8d58219",
   "metadata": {
    "tags": []
   },
   "source": [
    "| Variable | Definition | Key| \n",
    "| :-- | :-- | :-- |\n",
    "| survival | Survival | 0 = No, 1 = Yes| \n",
    "| pclass | Ticket class | 1 = 1st, 2 = 2nd, 3 = 3rd| \n",
    "| sex | Sex | | \n",
    "| Age | Age in years | | \n",
    "| sibsp | # of siblings / spouses aboard the Titanic | | \n",
    "| parch | # of parents / children aboard the Titanic | | \n",
    "| ticket | Ticket number | | \n",
    "| fare | Passenger fare | | \n",
    "| cabin | Cabin number | | \n",
    "| embarked | Port of Embarkation | C = Cherbourg, Q = Queenstown, S = Southampton| "
   ]
  },
  {
   "cell_type": "markdown",
   "id": "b2da4e26-d542-4500-82b2-365d921553d2",
   "metadata": {
    "tags": []
   },
   "source": [
    "**Variable Notes**\n",
    "\n",
    "pclass: A proxy for socio-economic status (SES)\n",
    "* 1st = Upper\n",
    "* 2nd = Middle\n",
    "* 3rd = Lower\n",
    "\n",
    "age: Age is fractional if less than 1. If the age is estimated, is it in the form of xx.5\n",
    "\n",
    "sibsp: The dataset defines family relations in this way...\n",
    "* Sibling = brother, sister, stepbrother, stepsister\n",
    "* Spouse = husband, wife (mistresses and fiancés were ignored)\n",
    "\n",
    "parch: The dataset defines family relations in this way...\n",
    "* Parent = mother, father\n",
    "* Child = daughter, son, stepdaughter, stepson\n",
    "* Some children travelled only with a nanny, therefore parch=0 for them."
   ]
  },
  {
   "cell_type": "code",
   "execution_count": null,
   "id": "6170cb7e-f77b-4229-a39f-2c6d45632e3a",
   "metadata": {},
   "outputs": [],
   "source": [
    "# Use the \"describe()\" method to get summary statistical information about the quantitative data\n",
    "\n"
   ]
  },
  {
   "cell_type": "markdown",
   "id": "d5367773-8eb4-4b7e-a58d-9d642791bc11",
   "metadata": {},
   "source": [
    "* What information does this show?\n",
    "  * What is the average survival rate?\n",
    "  * What is the age range?\n",
    "  * What is the mean age?\n",
    "  * How many have siblings or spounses?\n",
    "  * How does the standard deviaton of the fare compare with its mean value?\n",
    "\n",
    "Are the answers to the above reasonable?"
   ]
  },
  {
   "cell_type": "code",
   "execution_count": null,
   "id": "32b7a769-e88e-4bb0-95b1-886624cb8a09",
   "metadata": {},
   "outputs": [],
   "source": [
    "# Use the \"info()\" method to get a summary description of the dataframe's contents.\n",
    "\n"
   ]
  },
  {
   "cell_type": "markdown",
   "id": "447a0a09-cd76-49c6-ae5e-4927ae705b3b",
   "metadata": {},
   "source": [
    "-> Which columns have null values?  And what is the percentage of nulls for those that do?\n",
    "\n",
    "-> Do the data types make sense? (The below table describes data types for reference)"
   ]
  },
  {
   "cell_type": "markdown",
   "id": "f8cc6648-2713-4108-a776-64872eea4038",
   "metadata": {},
   "source": [
    "<table class=\"table table-striped\">\n",
    "  <thead>\n",
    "    <tr>\n",
    "      <th>Pandas Type</th>\n",
    "      <th>Native Python Type</th>\n",
    "      <th>Description</th>\n",
    "    </tr>\n",
    "  </thead>\n",
    "  <tbody>\n",
    "    <tr>\n",
    "      <td>object</td>\n",
    "      <td>string</td>\n",
    "      <td>The most general dtype. Will be assigned to your column if column has mixed types (numbers and strings).</td>\n",
    "    </tr>\n",
    "    <tr>\n",
    "      <td>int64</td>\n",
    "      <td>int</td>\n",
    "      <td>Numeric characters. 64 refers to the memory allocated to hold this character.</td>\n",
    "    </tr>\n",
    "    <tr>\n",
    "      <td>float64</td>\n",
    "      <td>float</td>\n",
    "      <td>Numeric characters with decimals. If a column contains numbers and NaNs (see below), pandas will default to float64, in case your missing value has a decimal.</td>\n",
    "    </tr>\n",
    "    <tr>\n",
    "      <td>datetime64, timedelta[ns]</td>\n",
    "      <td>N/A (but see the <a href=\"http://doc.python.org/2/library/datetime.html\">datetime</a> module in Python’s standard library)</td>\n",
    "      <td>Values meant to hold time data. Look into these for time series experiments.</td>\n",
    "    </tr>\n",
    "  </tbody>\n",
    "</table>"
   ]
  },
  {
   "cell_type": "markdown",
   "id": "bff6420e-3323-4fa2-bc69-5bbd221707e2",
   "metadata": {},
   "source": [
    "Let's change a column's datatype from int to string (which becomes an object to pandas):"
   ]
  },
  {
   "cell_type": "code",
   "execution_count": null,
   "id": "1f706d44-244c-427f-b640-8d24db5be561",
   "metadata": {},
   "outputs": [],
   "source": [
    "# Execute the following\n",
    "df['Survived'].astype(str)"
   ]
  },
  {
   "cell_type": "code",
   "execution_count": null,
   "id": "6df076ba-ee4c-4c08-856d-55791c71409a",
   "metadata": {},
   "outputs": [],
   "source": [
    "# Use \"info()\" again to see whether that changed anything\n",
    "\n"
   ]
  },
  {
   "cell_type": "markdown",
   "id": "95c172f5-eb31-4704-8e1e-48859611e093",
   "metadata": {},
   "source": [
    "Whoops!  The astype function returned a view, but it didn't change the underlying dataframe.  To do that, we need to explicitly assign the returned dataframe column back into the `df['Survived']` column."
   ]
  },
  {
   "cell_type": "code",
   "execution_count": null,
   "id": "217aec76-545c-4a91-964d-7f05bc619db5",
   "metadata": {},
   "outputs": [],
   "source": [
    "df['Survived'] = df['Survived'].astype(str)"
   ]
  },
  {
   "cell_type": "code",
   "execution_count": null,
   "id": "b01eefa7-ad89-4e95-82e9-b1524eb3afb0",
   "metadata": {},
   "outputs": [],
   "source": [
    "# Let's look again\n",
    "df.info()"
   ]
  },
  {
   "cell_type": "code",
   "execution_count": null,
   "id": "2cfdbcf2-863c-445a-bf8c-b7203eaac1b3",
   "metadata": {},
   "outputs": [],
   "source": [
    "# We'll change two other columns too\n",
    "df['PassengerId'] = df['PassengerId'].astype(str)\n",
    "df['Pclass'] = df['Pclass'].astype(str)"
   ]
  },
  {
   "cell_type": "markdown",
   "id": "a8f090d6-9e8f-4512-8654-3e42f22871d7",
   "metadata": {},
   "source": [
    "## Visualization\n",
    "\n",
    "Now for some fun stuff.  Let's try to make some simple plots to see what observations we can make."
   ]
  },
  {
   "cell_type": "code",
   "execution_count": null,
   "id": "8afe475c-0fe2-44ef-8ea3-b6fe75b4ef8e",
   "metadata": {},
   "outputs": [],
   "source": [
    "# List the values of the \"Fare\" column\n",
    "# It's ok if the output is abbreviated\n",
    "\n"
   ]
  },
  {
   "cell_type": "code",
   "execution_count": null,
   "id": "d2301a82-ddb7-40cc-94d7-41d852d7a1bf",
   "metadata": {},
   "outputs": [],
   "source": [
    "# Use the \"plot()\" method to generate the default plot of \"Fare\" values\n",
    "\n"
   ]
  },
  {
   "cell_type": "markdown",
   "id": "d216e0ef-2ed9-48c6-abd0-6903033df0d7",
   "metadata": {},
   "source": [
    "This shows Index vs Fare, i.e., what the value of every Fare was.  We can get a sense of what all the fares were from this, but really we probably want to see a distribution of values."
   ]
  },
  {
   "cell_type": "code",
   "execution_count": null,
   "id": "c4f8e25c-cacf-42d2-a7f3-9f549c02fa43",
   "metadata": {},
   "outputs": [],
   "source": [
    "# Use the \"plot()\" method again, but now set the \"kind\" input parameter of plot to be equal to \"hist\"\n",
    "# This should generate a histogram of Fare values.\n",
    "\n"
   ]
  },
  {
   "cell_type": "markdown",
   "id": "a15086e4-aae9-4cf8-a1d2-d23b56476acd",
   "metadata": {},
   "source": [
    "It looks like there are a bunch of low cost tickets, or maybe just a few very *very* expensive tickets.\n",
    "\n",
    "**Our first look at potentially suspicious values:**  Are there any 0 values?"
   ]
  },
  {
   "cell_type": "code",
   "execution_count": null,
   "id": "c78fbba7-dda6-4128-96ba-eccf10e4ff6d",
   "metadata": {},
   "outputs": [],
   "source": [
    "# Use \"loc\" and a boolean conditon to output those rows that have a 0 value for Fare\n",
    "\n"
   ]
  },
  {
   "cell_type": "markdown",
   "id": "1902cd12-80c3-4749-b067-c0eb103db3b7",
   "metadata": {},
   "source": [
    "A brief search of some names will show that Mr Lionel Leonard, William Cahoone Johnson Jr., Alfred Johnson, and William Henry Tornquist were American Line employees.  It may make sense that they would have traveled on complementary fare.\n",
    "\n",
    "... more investigation may be warranted...  But let's looks at the columns that have 'NaN'."
   ]
  },
  {
   "cell_type": "code",
   "execution_count": null,
   "id": "618be5dc-cbb6-40f5-b1d9-96bcd644f7ea",
   "metadata": {},
   "outputs": [],
   "source": [
    "# if you use the \"isna()\" method of the dataframe, what does that output?\n",
    "\n"
   ]
  },
  {
   "cell_type": "code",
   "execution_count": null,
   "id": "fcfb8ec8-12de-4015-9892-ff197262ef0a",
   "metadata": {},
   "outputs": [],
   "source": [
    "# you can get the count of null values for any column by taking the sum of the True/False values of isna\n",
    "# That is, look at the output of the following:\n",
    "\n",
    "df.isna().sum()"
   ]
  },
  {
   "cell_type": "code",
   "execution_count": null,
   "id": "f4a1930f-7d4a-447f-8a9a-9b9396601df6",
   "metadata": {},
   "outputs": [],
   "source": [
    "# Use the shape attribute and a list index to get the number of rows\n",
    "\n"
   ]
  },
  {
   "cell_type": "code",
   "execution_count": null,
   "id": "439d436d-d116-4f7c-8a15-c5a01b11155b",
   "metadata": {},
   "outputs": [],
   "source": [
    "# Divide df.isna().sum() by the number of rows to find the percent null values for all columns\n",
    "\n"
   ]
  },
  {
   "cell_type": "markdown",
   "id": "15ec57a8-a223-4c7c-a748-8820b11314fa",
   "metadata": {},
   "source": [
    "* What percentage of age data is missing?\n",
    "* What percentage of cabin data is missing?\n",
    "* What percentage of embarked data is missing?"
   ]
  },
  {
   "cell_type": "markdown",
   "id": "530b4be3-85b5-418d-81dc-8a5944cccf10",
   "metadata": {},
   "source": [
    "If we want to use those data columns, we would potentially stop here and try to figure out how we need/want to deal with the values that are missing.  For example, we could:\n",
    "* drop the column completely\n",
    "* drop the rows with NaNs\n",
    "* fill the NaNs with other values (a useful value like mean or median, the previous or next row's value, a constant, or the result of an operation)"
   ]
  },
  {
   "cell_type": "markdown",
   "id": "c4178e71-0fda-49ae-998c-4ea0d5c4fc12",
   "metadata": {},
   "source": [
    "Further analysis: let's see how Age is related to Survived."
   ]
  },
  {
   "cell_type": "markdown",
   "id": "da762627-9356-4914-a98d-b941fcaf4aed",
   "metadata": {},
   "source": [
    "Here are the variables we might like to look at:\n",
    "* `df.loc[df['Survived'] == '0', 'Age']`: the Age values of those who did not survive\n",
    "* `df.loc[df['Survived'] == '1', 'Age']`: the Age values of those who did survive\n",
    "\n",
    "Let's use matplotlib to do a histogram of these."
   ]
  },
  {
   "cell_type": "code",
   "execution_count": null,
   "id": "96702391-2aea-401d-a5c8-ca81d7e82055",
   "metadata": {},
   "outputs": [],
   "source": [
    "# Use the \"hist()\" method of dataframes to make a histogram plot of Age values for those who survived\n",
    "\n"
   ]
  },
  {
   "cell_type": "code",
   "execution_count": null,
   "id": "449e859b-32b0-414d-9f75-eacbcc2e993e",
   "metadata": {},
   "outputs": [],
   "source": [
    "# Make another histogram plot of Age values for those who did not survive\n",
    "\n"
   ]
  },
  {
   "cell_type": "code",
   "execution_count": null,
   "id": "0265f5e1-2d50-4d20-8fa7-2438a7543885",
   "metadata": {},
   "outputs": [],
   "source": [
    "# What happens if you put the commands to make both histograms here and execute the cell?\n",
    "\n"
   ]
  },
  {
   "cell_type": "markdown",
   "id": "08cf4a1a-cef8-4571-a556-8deda29920ae",
   "metadata": {},
   "source": [
    "It would be nice to plot the bars next to each other too to directly compare them.\n",
    "\n",
    "We can tie in a little bit of another Python plotting package, Matplotlib, to help."
   ]
  },
  {
   "cell_type": "code",
   "execution_count": null,
   "id": "f3afbe16-43cb-42b0-9a05-c379239f7c62",
   "metadata": {},
   "outputs": [],
   "source": [
    "# Execute this cell\n",
    "import matplotlib.pyplot as plt"
   ]
  },
  {
   "cell_type": "code",
   "execution_count": null,
   "id": "2943deb6-400f-4ccc-a0be-6e89d344c8de",
   "metadata": {},
   "outputs": [],
   "source": [
    "# Execute this cell\n",
    "a = df.loc[df['Survived'] == '0', 'Age']\n",
    "b = df.loc[df['Survived'] == '1', 'Age']\n",
    "plt.hist([a,b]);"
   ]
  },
  {
   "cell_type": "code",
   "execution_count": null,
   "id": "fdcb1bb3-e31a-48b7-b547-ce1665b82885",
   "metadata": {},
   "outputs": [],
   "source": [
    "# Copy the above commands here\n",
    "# And insert another condition so that you plot data only for Age values > 18\n",
    "# You'll need to use the \"&\" symbol to combine two conditions with \"and\"\n",
    "\n"
   ]
  },
  {
   "cell_type": "code",
   "execution_count": null,
   "id": "be36c5aa-af0c-407c-9e99-f234958724b4",
   "metadata": {},
   "outputs": [],
   "source": [
    "# Now try again for Age < 18\n",
    "\n"
   ]
  },
  {
   "cell_type": "markdown",
   "id": "b6d2ad04-8c50-41ae-82c2-ad3f1449ea69",
   "metadata": {},
   "source": [
    "Now that we have a method down for Age, apply it to other variables like Sex, Fare, and Pclass."
   ]
  },
  {
   "cell_type": "code",
   "execution_count": null,
   "id": "42c2f8ef-cc43-45fe-b642-9710015988ce",
   "metadata": {},
   "outputs": [],
   "source": []
  },
  {
   "cell_type": "code",
   "execution_count": null,
   "id": "444aaccb-91b0-42b2-9eab-9fd46d807975",
   "metadata": {},
   "outputs": [],
   "source": []
  },
  {
   "cell_type": "code",
   "execution_count": null,
   "id": "12f03ae6-420f-420f-80b9-b987c6e5952f",
   "metadata": {},
   "outputs": [],
   "source": []
  },
  {
   "cell_type": "code",
   "execution_count": null,
   "id": "92b16fb5-4904-4613-837a-917b4917437b",
   "metadata": {},
   "outputs": [],
   "source": []
  },
  {
   "cell_type": "code",
   "execution_count": null,
   "id": "ce5249e4-e50f-4d62-997d-358c6804cf9a",
   "metadata": {},
   "outputs": [],
   "source": []
  },
  {
   "cell_type": "code",
   "execution_count": null,
   "id": "5544df7a-c221-4720-8eb6-c5233682a244",
   "metadata": {},
   "outputs": [],
   "source": []
  }
 ],
 "metadata": {
  "kernelspec": {
   "display_name": "Python 3 (ipykernel)",
   "language": "python",
   "name": "python3"
  },
  "language_info": {
   "codemirror_mode": {
    "name": "ipython",
    "version": 3
   },
   "file_extension": ".py",
   "mimetype": "text/x-python",
   "name": "python",
   "nbconvert_exporter": "python",
   "pygments_lexer": "ipython3",
   "version": "3.10.6"
  }
 },
 "nbformat": 4,
 "nbformat_minor": 5
}
