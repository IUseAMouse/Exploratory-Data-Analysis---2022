{
 "cells": [
  {
   "cell_type": "markdown",
   "id": "f8e75fd6-9628-4518-86da-f38c65e15e18",
   "metadata": {},
   "source": [
    "https://plotly.com/python/time-series/"
   ]
  },
  {
   "cell_type": "code",
   "execution_count": null,
   "id": "aba26fd4-7fef-48b3-9f1c-03d3bc10d1eb",
   "metadata": {},
   "outputs": [],
   "source": [
    "# You may need to install plotly express if you don't have it\n",
    "# !pip install plotly_express"
   ]
  },
  {
   "cell_type": "code",
   "execution_count": null,
   "id": "00d800b4-d890-4853-b0fb-2d53692f3490",
   "metadata": {},
   "outputs": [],
   "source": [
    "import plotly_express as px"
   ]
  },
  {
   "cell_type": "code",
   "execution_count": null,
   "id": "9b2a943d-3014-4582-aeeb-fbe573ba1d3d",
   "metadata": {},
   "outputs": [],
   "source": [
    "px.data.gapminder()"
   ]
  },
  {
   "cell_type": "code",
   "execution_count": null,
   "id": "6768ab66-3880-4ef5-b99c-6f46f13092ad",
   "metadata": {},
   "outputs": [],
   "source": [
    "gp = px.data.gapminder()"
   ]
  },
  {
   "cell_type": "code",
   "execution_count": null,
   "id": "672d745b-18a8-4634-b421-87cc13e5bbb7",
   "metadata": {},
   "outputs": [],
   "source": [
    "import seaborn as sns"
   ]
  },
  {
   "cell_type": "code",
   "execution_count": null,
   "id": "b15de633-323a-4c4e-bb20-c2f90bf31929",
   "metadata": {},
   "outputs": [],
   "source": [
    "sns.lineplot(data=gp, x='year', y='lifeExp', hue='country')"
   ]
  },
  {
   "cell_type": "code",
   "execution_count": null,
   "id": "456ec91a-fc51-4373-bb49-c10fdd9e1c72",
   "metadata": {},
   "outputs": [],
   "source": [
    "gp_usa = gp.loc[gp['country']=='United States']"
   ]
  },
  {
   "cell_type": "code",
   "execution_count": null,
   "id": "5d206972-0881-4f48-8fe3-083e66fa9be6",
   "metadata": {},
   "outputs": [],
   "source": [
    "sns.lineplot(data=gp_usa, x='year', y='lifeExp')"
   ]
  },
  {
   "cell_type": "code",
   "execution_count": null,
   "id": "3108385a-cfbb-4e6e-9019-e4fa8a37d1ba",
   "metadata": {},
   "outputs": [],
   "source": [
    "sns.scatterplot(data=gp_usa, x='year', y='lifeExp')"
   ]
  },
  {
   "cell_type": "code",
   "execution_count": null,
   "id": "df557ae2-31ae-45cd-9a48-84f7eae81a03",
   "metadata": {},
   "outputs": [],
   "source": [
    "sns.scatterplot(data=gp_usa, x='year', y='lifeExp')\n",
    "sns.lineplot(data=gp_usa, x='year', y='lifeExp')"
   ]
  },
  {
   "cell_type": "code",
   "execution_count": null,
   "id": "98af51cd-d0a4-48fa-82fc-45e43e8b1a99",
   "metadata": {},
   "outputs": [],
   "source": [
    "sns.lineplot(data=gp_usa, x='year', y='lifeExp')\n",
    "sns.lineplot(data=gp_usa, x='year', y='gdpPercap')"
   ]
  },
  {
   "cell_type": "code",
   "execution_count": null,
   "id": "de235923-d0a2-4815-af22-39cd720b1d60",
   "metadata": {},
   "outputs": [],
   "source": [
    "import matplotlib.pyplot as plt"
   ]
  },
  {
   "cell_type": "code",
   "execution_count": null,
   "id": "6eb34dd8-29a8-427b-815c-0d59037e6c7b",
   "metadata": {},
   "outputs": [],
   "source": [
    "fig,ax=plt.subplots(2,1,sharex=True)\n",
    "sns.lineplot(data=gp_usa, x='year', y='lifeExp',ax=ax[0])\n",
    "sns.lineplot(data=gp_usa, x='year', y='gdpPercap',ax=ax[1])"
   ]
  },
  {
   "cell_type": "code",
   "execution_count": null,
   "id": "93ca8444-2a82-4713-a819-0abd4d191639",
   "metadata": {},
   "outputs": [],
   "source": [
    "gp_usa[['lifeExp','gdpPercap']].corr()"
   ]
  },
  {
   "cell_type": "code",
   "execution_count": null,
   "id": "664b042c-cb3e-4711-8fbb-4e531413a30e",
   "metadata": {},
   "outputs": [],
   "source": [
    "sns.scatterplot(data=gp_usa, x=\"gdpPercap\", y=\"lifeExp\")"
   ]
  },
  {
   "cell_type": "code",
   "execution_count": null,
   "id": "36623c41-44d6-401e-9db0-254a35978c5f",
   "metadata": {},
   "outputs": [],
   "source": [
    "sns.regplot(data=gp_usa, x=\"gdpPercap\", y=\"lifeExp\")"
   ]
  },
  {
   "cell_type": "code",
   "execution_count": null,
   "id": "7b249fa0-382c-4130-ba1b-e6c85bf29afc",
   "metadata": {},
   "outputs": [],
   "source": [
    "px.scatter(gp_usa, \n",
    "           x=\"gdpPercap\", \n",
    "           y=\"lifeExp\")"
   ]
  },
  {
   "cell_type": "code",
   "execution_count": null,
   "id": "6cff6aad-e779-4b77-aac4-ceeb3965edf6",
   "metadata": {},
   "outputs": [],
   "source": [
    "px.scatter(gp, \n",
    "           x=\"year\", \n",
    "           y=\"lifeExp\")"
   ]
  },
  {
   "cell_type": "code",
   "execution_count": null,
   "id": "efa2dfe2-ee67-4c31-92c7-3d2d283808ca",
   "metadata": {},
   "outputs": [],
   "source": [
    "gp.year.unique()"
   ]
  },
  {
   "cell_type": "code",
   "execution_count": null,
   "id": "1b5e6cdf-6fec-4153-83ff-347982738bf2",
   "metadata": {},
   "outputs": [],
   "source": [
    "years = gp.year.unique()"
   ]
  },
  {
   "cell_type": "code",
   "execution_count": null,
   "id": "e95e78c8-7fe5-4cea-b103-9888cc4b4665",
   "metadata": {},
   "outputs": [],
   "source": [
    "i = years[0]\n",
    "\n",
    "px.scatter(gp.loc[gp['year']==i], \n",
    "           x=\"gdpPercap\", \n",
    "           y=\"lifeExp\")"
   ]
  },
  {
   "cell_type": "markdown",
   "id": "d18c4565-b743-4f63-a8c8-8d9500f90d30",
   "metadata": {},
   "source": [
    "What's that outlier?\n",
    "\n",
    "Add 'hover_name' so that we can more easily get information about points by simply moving our mouse to them."
   ]
  },
  {
   "cell_type": "code",
   "execution_count": null,
   "id": "5727d17b-b49a-45f7-bffd-d9f68b88655a",
   "metadata": {},
   "outputs": [],
   "source": [
    "i = years[0]\n",
    "\n",
    "px.scatter(gp.loc[gp['year']==i], \n",
    "           x=\"gdpPercap\", \n",
    "           y=\"lifeExp\",\n",
    "           hover_name='country')"
   ]
  },
  {
   "cell_type": "markdown",
   "id": "5d3ea4d1-b9c9-4ecf-b432-c3e1dbbee71f",
   "metadata": {},
   "source": [
    "At the moment, the scale has lots of low gdpPercap.  We can stretch out this scale to make the separation more visible by making it log scale."
   ]
  },
  {
   "cell_type": "code",
   "execution_count": null,
   "id": "65613e28-e34c-4275-85d5-478914b4d76c",
   "metadata": {},
   "outputs": [],
   "source": [
    "i = years[10]\n",
    "\n",
    "px.scatter(gp.loc[gp['year']==i], \n",
    "           x=\"gdpPercap\", \n",
    "           y=\"lifeExp\",\n",
    "           hover_name='country',\n",
    "           log_x=True)"
   ]
  },
  {
   "cell_type": "code",
   "execution_count": null,
   "id": "a6c5faa2-1213-4e11-a738-bd0679488220",
   "metadata": {},
   "outputs": [],
   "source": [
    "i = years[10]\n",
    "\n",
    "px.scatter(gp.loc[gp['year']==i], \n",
    "           x=\"gdpPercap\", \n",
    "           y=\"lifeExp\",\n",
    "           hover_name='country',\n",
    "           log_x=True,template='seaborn')"
   ]
  },
  {
   "cell_type": "code",
   "execution_count": null,
   "id": "7ad39583-b332-475d-bf5f-5fbf7e93c2f4",
   "metadata": {},
   "outputs": [],
   "source": [
    "i = years[0]\n",
    "\n",
    "ax = sns.scatterplot(gp.loc[gp['year']==i], \n",
    "           x=\"gdpPercap\", \n",
    "           y=\"lifeExp\")\n",
    "           #hover_name='country',\n",
    "           #log_x=True)\n",
    "ax.set(xscale='log')"
   ]
  },
  {
   "cell_type": "code",
   "execution_count": null,
   "id": "216f662b-baf6-4afe-8283-7ed4f1d99cd2",
   "metadata": {},
   "outputs": [],
   "source": [
    "i = years[0]\n",
    "\n",
    "with sns.axes_style(\"darkgrid\"):\n",
    "    ax = sns.scatterplot(gp.loc[gp['year']==i], \n",
    "           x=\"gdpPercap\", \n",
    "           y=\"lifeExp\")\n",
    "           #hover_name='country',\n",
    "           #log_x=True)\n",
    "    ax.set(xscale='log')"
   ]
  },
  {
   "cell_type": "code",
   "execution_count": null,
   "id": "7af5112f-e65c-48d3-85b5-e2e38014367a",
   "metadata": {},
   "outputs": [],
   "source": [
    "i = years[10]\n",
    "\n",
    "px.scatter(gp.loc[gp['year']==i], \n",
    "           x=\"gdpPercap\", \n",
    "           y=\"lifeExp\",\n",
    "           hover_name='country',\n",
    "           log_x=True)"
   ]
  },
  {
   "cell_type": "code",
   "execution_count": null,
   "id": "c196ea58-c037-4fe8-a5cf-e83541dd3170",
   "metadata": {},
   "outputs": [],
   "source": [
    "i = years[10]\n",
    "\n",
    "# px.scatter(gp.loc[gp['year']==i], \n",
    "px.scatter(gp, \n",
    "           x=\"gdpPercap\", \n",
    "           y=\"lifeExp\",\n",
    "           hover_name='country',\n",
    "           log_x=True,\n",
    "           animation_frame=\"year\")"
   ]
  },
  {
   "cell_type": "markdown",
   "id": "a5a2b0e3-728b-4483-ab09-493676364ba4",
   "metadata": {},
   "source": [
    "How do we know what's evolving where?"
   ]
  },
  {
   "cell_type": "code",
   "execution_count": null,
   "id": "71eece54-3d91-4173-a8c4-f4072f08146d",
   "metadata": {},
   "outputs": [],
   "source": [
    "i = years[10]\n",
    "\n",
    "# px.scatter(gp.loc[gp['year']==i], \n",
    "px.scatter(gp, \n",
    "           x=\"gdpPercap\", \n",
    "           y=\"lifeExp\",\n",
    "           hover_name='country',color='country',\n",
    "           log_x=True,\n",
    "           animation_frame=\"year\")"
   ]
  },
  {
   "cell_type": "markdown",
   "id": "236d0e29-91e7-4294-9382-c5041a764abe",
   "metadata": {},
   "source": [
    "Lots of colors.... let's also add population to distinguish the dots."
   ]
  },
  {
   "cell_type": "code",
   "execution_count": null,
   "id": "1d6be2cb-2373-41ae-b221-df14c11579a8",
   "metadata": {},
   "outputs": [],
   "source": [
    "i = years[10]\n",
    "\n",
    "# px.scatter(gp.loc[gp['year']==i], \n",
    "px.scatter(gp, \n",
    "           x=\"gdpPercap\", \n",
    "           y=\"lifeExp\",\n",
    "           hover_name='country',color='country',size='pop',\n",
    "           log_x=True,\n",
    "           animation_frame=\"year\")"
   ]
  },
  {
   "cell_type": "markdown",
   "id": "19c36d8a-3660-4b4e-8a6e-4bd18b41aa9d",
   "metadata": {},
   "source": [
    "The axes aren't good... the dots look like they've leaving!"
   ]
  },
  {
   "cell_type": "code",
   "execution_count": null,
   "id": "6eba4a67-3592-4bbf-b808-eeac35ad5526",
   "metadata": {},
   "outputs": [],
   "source": [
    "i = years[10]\n",
    "\n",
    "# px.scatter(gp.loc[gp['year']==i], \n",
    "px.scatter(gp, \n",
    "           x=\"gdpPercap\", \n",
    "           y=\"lifeExp\",\n",
    "           hover_name='country',color='country',size='pop',\n",
    "           log_x=True,\n",
    "           animation_frame=\"year\",\n",
    "           range_x=[100,100000], \n",
    "           range_y=[25,90])"
   ]
  },
  {
   "cell_type": "markdown",
   "id": "0ba7e560-8d98-497d-910d-25c6b659f25f",
   "metadata": {},
   "source": [
    "Let's make the ratio different to spreade out the points."
   ]
  },
  {
   "cell_type": "code",
   "execution_count": null,
   "id": "ff52a197-f42a-4cd2-b080-5c319876d2f3",
   "metadata": {},
   "outputs": [],
   "source": [
    "i = years[10]\n",
    "\n",
    "# px.scatter(gp.loc[gp['year']==i], \n",
    "px.scatter(gp, \n",
    "           x=\"gdpPercap\", \n",
    "           y=\"lifeExp\",\n",
    "           hover_name='country',color='country',size='pop',\n",
    "           log_x=True,\n",
    "           animation_frame=\"year\",\n",
    "           range_x=[100,100000], \n",
    "           range_y=[25,90],\n",
    "           width=800, \n",
    "           height=600)"
   ]
  },
  {
   "cell_type": "code",
   "execution_count": null,
   "id": "1b8ec765-a62c-41ab-b08e-92d10e8814d2",
   "metadata": {},
   "outputs": [],
   "source": [
    "i = years[10]\n",
    "\n",
    "# px.scatter(gp.loc[gp['year']==i], \n",
    "px.scatter(gp, \n",
    "           x=\"gdpPercap\", \n",
    "           y=\"lifeExp\",\n",
    "           hover_name='country',color='country',size='pop',\n",
    "           log_x=True,\n",
    "           animation_frame=\"year\",\n",
    "           range_x=[100,100000], \n",
    "           range_y=[25,90],\n",
    "           width=800, \n",
    "           height=600,\n",
    "           size_max=60\n",
    "          )"
   ]
  },
  {
   "cell_type": "code",
   "execution_count": null,
   "id": "b2a8782f-f27f-4ee5-ae53-c54b1fefea88",
   "metadata": {},
   "outputs": [],
   "source": [
    "i = years[10]\n",
    "\n",
    "# px.scatter(gp.loc[gp['year']==i], \n",
    "px.scatter(gp, \n",
    "           x=\"gdpPercap\", \n",
    "           y=\"lifeExp\",\n",
    "           hover_name='country',color='country',size='pop',\n",
    "           log_x=True,\n",
    "           animation_frame=\"year\",\n",
    "           range_x=[100,100000], \n",
    "           range_y=[25,90],\n",
    "           width=800, \n",
    "           height=600,\n",
    "           size_max=60,template='simple_white'\n",
    "          )"
   ]
  },
  {
   "cell_type": "code",
   "execution_count": null,
   "id": "35b02465-3fa9-4824-aa4c-14d9d507a4fc",
   "metadata": {},
   "outputs": [],
   "source": [
    "i = years[10]\n",
    "\n",
    "# px.scatter(gp.loc[gp['year']==i], \n",
    "px.scatter(gp, \n",
    "           x=\"gdpPercap\", \n",
    "           y=\"lifeExp\",\n",
    "           hover_name='country',color='country',size='pop',\n",
    "           log_x=True,\n",
    "           animation_frame=\"year\",animation_group='country',\n",
    "           range_x=[100,100000], \n",
    "           range_y=[25,90],\n",
    "           width=800, \n",
    "           height=600,\n",
    "           size_max=60,template='simple_white'\n",
    "          )"
   ]
  },
  {
   "cell_type": "markdown",
   "id": "8abb6c4b-26b5-4065-9709-169fafcc0981",
   "metadata": {},
   "source": [
    "Do you remember the special point of Kuwait in 1952?  Is it still plotted above?"
   ]
  },
  {
   "cell_type": "markdown",
   "id": "a475c3d0-cc3d-4cb6-9c0e-6f4b3f9ee8f3",
   "metadata": {},
   "source": [
    "Remember facets?"
   ]
  },
  {
   "cell_type": "code",
   "execution_count": null,
   "id": "6350f389-4f09-4061-b27a-372f52c09d6d",
   "metadata": {},
   "outputs": [],
   "source": [
    "gp"
   ]
  },
  {
   "cell_type": "markdown",
   "id": "fb275567-61a7-4a81-87be-d572343c7069",
   "metadata": {},
   "source": [
    "Let's facet on continent."
   ]
  },
  {
   "cell_type": "code",
   "execution_count": null,
   "id": "cd05e7c6-a874-4493-acfd-0f2e43663b80",
   "metadata": {},
   "outputs": [],
   "source": [
    "i = years[10]\n",
    "\n",
    "# px.scatter(gp.loc[gp['year']==i], \n",
    "px.scatter(gp, \n",
    "           x=\"gdpPercap\", \n",
    "           y=\"lifeExp\",\n",
    "           hover_name='country',color='country',size='pop',\n",
    "           log_x=True,\n",
    "           animation_frame=\"year\",animation_group='country',\n",
    "           range_x=[100,100000], \n",
    "           range_y=[25,90],\n",
    "           width=800, \n",
    "           height=600,\n",
    "           size_max=60,\n",
    "           template='simple_white',\n",
    "           facet_row='continent'\n",
    "          )"
   ]
  },
  {
   "cell_type": "code",
   "execution_count": null,
   "id": "6ca9e7f3-0199-4639-a492-c1d6e7ed0c87",
   "metadata": {},
   "outputs": [],
   "source": [
    "i = years[10]\n",
    "\n",
    "# px.scatter(gp.loc[gp['year']==i], \n",
    "px.scatter(gp, \n",
    "           x=\"gdpPercap\", \n",
    "           y=\"lifeExp\",\n",
    "           hover_name='country',color='country',size='pop',\n",
    "           log_x=True,\n",
    "           animation_frame=\"year\",animation_group='country',\n",
    "           range_x=[100,100000], \n",
    "           range_y=[25,90],\n",
    "           width=800, \n",
    "           height=800,\n",
    "           size_max=60,\n",
    "           template='simple_white',\n",
    "           facet_row='continent'\n",
    "          )"
   ]
  },
  {
   "cell_type": "code",
   "execution_count": null,
   "id": "7e8fb8bd-de5b-4205-9995-62b57fcb571d",
   "metadata": {},
   "outputs": [],
   "source": [
    "px.scatter(px.data.gapminder(), \n",
    "           x=\"gdpPercap\", \n",
    "           y=\"lifeExp\", \n",
    "           animation_frame=\"year\", \n",
    "           animation_group=\"country\",\n",
    "           size=\"pop\", \n",
    "           color=\"country\", \n",
    "           hover_name=\"country\", \n",
    "           log_x = True, \n",
    "           size_max=45, \n",
    "           range_x=[100,100000], \n",
    "           range_y=[25,90],\n",
    "           facet_col='continent')"
   ]
  },
  {
   "cell_type": "markdown",
   "id": "27773f01-9a34-48e8-a996-6c4cc95ee4f0",
   "metadata": {},
   "source": [
    "# Stocks"
   ]
  },
  {
   "cell_type": "code",
   "execution_count": null,
   "id": "5f18c028-bcc9-4067-8dec-f892f266567c",
   "metadata": {},
   "outputs": [],
   "source": [
    "help(px.data)"
   ]
  },
  {
   "cell_type": "code",
   "execution_count": null,
   "id": "c53c0bd0-f6db-457a-a83b-e208ae404bad",
   "metadata": {},
   "outputs": [],
   "source": [
    "df = px.data.stocks()"
   ]
  },
  {
   "cell_type": "code",
   "execution_count": null,
   "id": "f34b960e-f5df-4e91-90c3-cabec462e557",
   "metadata": {},
   "outputs": [],
   "source": [
    "df"
   ]
  },
  {
   "cell_type": "code",
   "execution_count": null,
   "id": "a448ab62-be5f-489b-a8fd-141a5842d5b0",
   "metadata": {},
   "outputs": [],
   "source": [
    "sns.lineplot(data=df.set_index('date'))"
   ]
  },
  {
   "cell_type": "code",
   "execution_count": null,
   "id": "4741a4d6-a298-4e4c-9708-ac2fac0f7fde",
   "metadata": {},
   "outputs": [],
   "source": [
    "fig = px.line(df,x='date', y='GOOG', title=\"GOOG stocks\")\n",
    "fig.show()"
   ]
  },
  {
   "cell_type": "code",
   "execution_count": null,
   "id": "fa099a8b-2216-458c-9849-447697f8195f",
   "metadata": {},
   "outputs": [],
   "source": [
    "df_diff = df.copy()\n",
    "df_diff.loc[:,df_diff.columns != 'date'] = df_diff.loc[:,df_diff.columns != 'date'] - 1"
   ]
  },
  {
   "cell_type": "code",
   "execution_count": null,
   "id": "805c7c17-1906-4973-bbd3-efeeb3cad548",
   "metadata": {},
   "outputs": [],
   "source": [
    "fig = px.bar(df_diff, x='date', y=\"GOOG\")\n",
    "fig.show()"
   ]
  },
  {
   "cell_type": "code",
   "execution_count": null,
   "id": "ca791ff0-b697-4710-8b3f-9d20aa67a840",
   "metadata": {},
   "outputs": [],
   "source": [
    "px.data.stocks(indexed=True)"
   ]
  },
  {
   "cell_type": "code",
   "execution_count": null,
   "id": "3f93e2e4-dcea-4a7d-848d-6a9746b11c7a",
   "metadata": {},
   "outputs": [],
   "source": [
    "df_diff.set_index('date')"
   ]
  },
  {
   "cell_type": "code",
   "execution_count": null,
   "id": "997ce999-a5ad-47dd-998c-570956c7e9a9",
   "metadata": {},
   "outputs": [],
   "source": [
    "df_diff.columns = df_diff.columns.rename('company')"
   ]
  },
  {
   "cell_type": "code",
   "execution_count": null,
   "id": "658fb62f-e240-4dd4-9d10-73c50951e5a9",
   "metadata": {},
   "outputs": [],
   "source": [
    "df_diff"
   ]
  },
  {
   "cell_type": "code",
   "execution_count": null,
   "id": "36ba8fac-28c0-4d0b-abc3-24b74c01e7e0",
   "metadata": {},
   "outputs": [],
   "source": [
    "df_diff = df_diff.set_index('date')\n",
    "df_diff"
   ]
  },
  {
   "cell_type": "code",
   "execution_count": null,
   "id": "aa617731-357a-4b5d-9ad6-380c838198ea",
   "metadata": {},
   "outputs": [],
   "source": [
    "fig = px.area(df_diff, facet_col='company', facet_col_wrap=3)\n",
    "fig.show()"
   ]
  },
  {
   "cell_type": "code",
   "execution_count": null,
   "id": "4d9942d6-9233-4dda-81c9-b4e28c4c9a95",
   "metadata": {},
   "outputs": [],
   "source": [
    "fig = px.line(df,x='date', y='AAPL', title=\"AAPL stocks\", \n",
    "              range_x=['2018-07-01','2019-12-31'])\n",
    "fig.show()"
   ]
  },
  {
   "cell_type": "code",
   "execution_count": null,
   "id": "92f0a94e-97ab-4f7b-a433-a62f3e7816bc",
   "metadata": {},
   "outputs": [],
   "source": [
    "fig = px.line(df,x='date', y=df.columns[1:6], title=\"6 company stocks plot\")\n",
    "fig.show()"
   ]
  },
  {
   "cell_type": "code",
   "execution_count": null,
   "id": "cc17ae06-de53-418d-b69c-fa8e6420dca0",
   "metadata": {},
   "outputs": [],
   "source": [
    "fig = px.line(df,x='date', y=df.columns[1:6], title=\"6 company stocks plot\")\n",
    "fig.update_xaxes(\n",
    "    dtick=\"M1\",\n",
    "    tickformat=\"%b\\n%Y\")\n",
    "fig.show()"
   ]
  },
  {
   "cell_type": "code",
   "execution_count": null,
   "id": "4505e91e-af53-41d2-bce1-f693196cdbeb",
   "metadata": {},
   "outputs": [],
   "source": [
    "import plotly.graph_objects as go"
   ]
  },
  {
   "cell_type": "code",
   "execution_count": null,
   "id": "1ef18fd5-e1ae-4e3c-9d8d-fcbc5a285ac9",
   "metadata": {},
   "outputs": [],
   "source": [
    "fig = px.line(df,x='date', y=df.columns[1:7], title=\"6 company stocks plot\")\n",
    "fig.update_xaxes(\n",
    "    dtick=\"M1\",\n",
    "    tickformat=\"%b\\n%Y\")\n",
    "fig.update_layout(template=go.layout.Template())\n",
    "fig.show()"
   ]
  },
  {
   "cell_type": "code",
   "execution_count": null,
   "id": "2369a550-8fb5-45f7-9f6c-67dcc0475fd7",
   "metadata": {},
   "outputs": [],
   "source": [
    "fig = px.scatter(df,x=df['date'], y=df.columns[1:7])\n",
    "fig.show()"
   ]
  },
  {
   "cell_type": "code",
   "execution_count": null,
   "id": "9551dbf3-6989-47af-b02c-7527da5f0209",
   "metadata": {},
   "outputs": [],
   "source": [
    "fig = px.scatter(df,x=df['date'], y=df.columns[1:7])\n",
    "fig.update_xaxes(rangeslider_visible=True)\n",
    "fig.show()"
   ]
  },
  {
   "cell_type": "code",
   "execution_count": null,
   "id": "fc61dd06-0864-4f89-95c8-bf039602a88a",
   "metadata": {},
   "outputs": [],
   "source": [
    "fig = px.area(df,x='date', y=df.columns[1:7], height=600)\n",
    "fig.update_xaxes(rangeslider_visible=True)\n",
    "fig.show()"
   ]
  }
 ],
 "metadata": {
  "kernelspec": {
   "display_name": "Python 3 (ipykernel)",
   "language": "python",
   "name": "python3"
  },
  "language_info": {
   "codemirror_mode": {
    "name": "ipython",
    "version": 3
   },
   "file_extension": ".py",
   "mimetype": "text/x-python",
   "name": "python",
   "nbconvert_exporter": "python",
   "pygments_lexer": "ipython3",
   "version": "3.10.6"
  }
 },
 "nbformat": 4,
 "nbformat_minor": 5
}
