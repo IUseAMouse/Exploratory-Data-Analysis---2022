{
 "cells": [
  {
   "cell_type": "markdown",
   "id": "ffc4ac17-b99a-4756-a9b5-e1b3239bb013",
   "metadata": {},
   "source": [
    "# Decomposing Time Series"
   ]
  },
  {
   "cell_type": "code",
   "execution_count": null,
   "id": "813bc57d-0b5c-473e-b357-39c6bd31b73f",
   "metadata": {},
   "outputs": [],
   "source": [
    "import matplotlib.pyplot as plt\n",
    "from statsmodels.datasets import co2\n",
    "from statsmodels.tsa.seasonal import STL"
   ]
  },
  {
   "cell_type": "code",
   "execution_count": null,
   "id": "901529ce-81d6-4655-a0cf-ed1198fd07eb",
   "metadata": {},
   "outputs": [],
   "source": [
    "data = co2.load().data"
   ]
  },
  {
   "cell_type": "code",
   "execution_count": null,
   "id": "81279857-71c9-47fd-8fe4-135f8c655661",
   "metadata": {},
   "outputs": [],
   "source": [
    "data"
   ]
  },
  {
   "cell_type": "code",
   "execution_count": null,
   "id": "c66ba1bd-9c79-4614-b2a9-03373bfa0cf9",
   "metadata": {},
   "outputs": [],
   "source": [
    "data.plot()"
   ]
  },
  {
   "cell_type": "markdown",
   "id": "3e225089-25da-491b-845e-37833fcb7eac",
   "metadata": {},
   "source": [
    "Looking at the above, there are clearly some missing values."
   ]
  },
  {
   "cell_type": "code",
   "execution_count": null,
   "id": "c734db03-d26c-4128-a9ff-d35d44f5f949",
   "metadata": {},
   "outputs": [],
   "source": [
    "data.isna().sum()"
   ]
  },
  {
   "cell_type": "code",
   "execution_count": null,
   "id": "16aef81c-2ff0-4ff4-85a6-64478d02a195",
   "metadata": {},
   "outputs": [],
   "source": [
    "data = data.resample('M').mean().ffill()"
   ]
  },
  {
   "cell_type": "code",
   "execution_count": null,
   "id": "96414677-3d82-4ff1-89a7-d597fe6d1b61",
   "metadata": {},
   "outputs": [],
   "source": [
    "data.plot()"
   ]
  },
  {
   "cell_type": "code",
   "execution_count": null,
   "id": "7d3fcfa2-8f78-4a24-8ba7-b91db73ef1eb",
   "metadata": {},
   "outputs": [],
   "source": [
    "data.isna().sum()"
   ]
  },
  {
   "cell_type": "markdown",
   "id": "ec2d9bac-3190-44cb-b6fe-6f09beee6b32",
   "metadata": {},
   "source": [
    "There are several methods in the statsmodels library for decomposing time series."
   ]
  },
  {
   "cell_type": "code",
   "execution_count": null,
   "id": "983e8b1c-8bdd-4678-8683-086aa223412b",
   "metadata": {},
   "outputs": [],
   "source": [
    "res = STL(data).fit()\n",
    "res.plot()\n",
    "plt.show()"
   ]
  },
  {
   "cell_type": "code",
   "execution_count": null,
   "id": "20a8b658-3f33-4da9-80ac-59317e8e937b",
   "metadata": {},
   "outputs": [],
   "source": [
    "data"
   ]
  },
  {
   "cell_type": "code",
   "execution_count": null,
   "id": "2f31d2af-8d73-46fa-b516-7524df40ae6f",
   "metadata": {},
   "outputs": [],
   "source": [
    "data[1:24].plot()"
   ]
  },
  {
   "cell_type": "code",
   "execution_count": null,
   "id": "f12c60b6-372b-4d49-a384-070141517cbc",
   "metadata": {},
   "outputs": [],
   "source": [
    "from statsmodels.graphics.tsaplots import plot_acf, plot_pacf, month_plot, quarter_plot\n",
    "\n",
    "print('Autocorrelation')\n",
    "acf_plot = plot_acf(data['co2'], lags=24, title='Autocorrelation')\n",
    "pacf_plot = plot_pacf(data['co2'], lags=24, title='Partial Autocorrelation')"
   ]
  },
  {
   "cell_type": "code",
   "execution_count": null,
   "id": "40913cd5-80aa-4520-859b-74b712bc4fb0",
   "metadata": {},
   "outputs": [],
   "source": [
    "m_plot = month_plot(data['co2'])"
   ]
  },
  {
   "cell_type": "markdown",
   "id": "e14d1c71-f0ba-455f-a609-be0f19672caa",
   "metadata": {},
   "source": [
    "What does this tell us?"
   ]
  },
  {
   "cell_type": "markdown",
   "id": "22c04ee1-8d30-4796-84f8-dd2dadf5ad84",
   "metadata": {},
   "source": [
    "How about quarterly data?"
   ]
  },
  {
   "cell_type": "code",
   "execution_count": null,
   "id": "7f075629-6290-480f-b95e-a0a7ddd7b83a",
   "metadata": {},
   "outputs": [],
   "source": [
    "q_plot = quarter_plot(data['co2'])"
   ]
  },
  {
   "cell_type": "markdown",
   "id": "447020b6-a6d8-48dc-8233-f5944af0c55f",
   "metadata": {},
   "source": [
    "We need to resample our data.  (This is a common time-series operation)."
   ]
  },
  {
   "cell_type": "code",
   "execution_count": null,
   "id": "03173b4f-0fb9-43f6-a460-fd7cf2651b39",
   "metadata": {},
   "outputs": [],
   "source": [
    "data_quarterly = data.resample('Q').mean()"
   ]
  },
  {
   "cell_type": "code",
   "execution_count": null,
   "id": "b07930f2-9a37-4d5c-91f0-f2e4d4d9fbfa",
   "metadata": {},
   "outputs": [],
   "source": [
    "q_plot = quarter_plot(data_quarterly['co2'])"
   ]
  }
 ],
 "metadata": {
  "kernelspec": {
   "display_name": "Python 3 (ipykernel)",
   "language": "python",
   "name": "python3"
  },
  "language_info": {
   "codemirror_mode": {
    "name": "ipython",
    "version": 3
   },
   "file_extension": ".py",
   "mimetype": "text/x-python",
   "name": "python",
   "nbconvert_exporter": "python",
   "pygments_lexer": "ipython3",
   "version": "3.10.6"
  }
 },
 "nbformat": 4,
 "nbformat_minor": 5
}
