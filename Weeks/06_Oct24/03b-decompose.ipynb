{
 "cells": [
  {
   "cell_type": "markdown",
   "id": "94c6fc3e-f380-4dc6-9748-f88058735746",
   "metadata": {},
   "source": [
    "# Decompose #2"
   ]
  },
  {
   "cell_type": "code",
   "execution_count": null,
   "id": "64e3d790-ba90-4760-bbec-6af352f33142",
   "metadata": {},
   "outputs": [],
   "source": [
    "import pandas as pd"
   ]
  },
  {
   "cell_type": "code",
   "execution_count": null,
   "id": "99a9bf67-3856-48b0-8a41-df9c04d4244c",
   "metadata": {},
   "outputs": [],
   "source": [
    "df = pd.read_csv('monthly_in_situ_co2_mlo.csv')"
   ]
  },
  {
   "cell_type": "code",
   "execution_count": null,
   "id": "7ce8fda2-65e9-4829-b4b6-6da9a545fdf5",
   "metadata": {},
   "outputs": [],
   "source": [
    "df.columns"
   ]
  },
  {
   "cell_type": "code",
   "execution_count": null,
   "id": "f28b7f10-ffbf-40be-b354-85cd82f0fe4e",
   "metadata": {},
   "outputs": [],
   "source": [
    "df['Date']"
   ]
  },
  {
   "cell_type": "code",
   "execution_count": null,
   "id": "abfa0b62-80e5-4401-a8f2-fe7a50f741cb",
   "metadata": {},
   "outputs": [],
   "source": [
    "df = df.loc[2:774]"
   ]
  },
  {
   "cell_type": "code",
   "execution_count": null,
   "id": "d0f41886-3357-4abb-8b38-cac8d0f40f5a",
   "metadata": {},
   "outputs": [],
   "source": [
    "df.loc[df['Date']>1989].plot(x='Date',y='fit')"
   ]
  },
  {
   "cell_type": "code",
   "execution_count": null,
   "id": "fc7b2c75-4682-4bbd-b376-31b1873563a5",
   "metadata": {},
   "outputs": [],
   "source": [
    "a = df.loc[df['Date']>1989]"
   ]
  },
  {
   "cell_type": "code",
   "execution_count": null,
   "id": "dfe8983c-2e4a-497c-9e6b-1a6002ff35d3",
   "metadata": {},
   "outputs": [],
   "source": [
    "from statsmodels.tsa.seasonal import seasonal_decompose\n",
    "\n",
    "ss_decomposition = seasonal_decompose(x=a['fit'], model='additive', period=12)\n",
    "estimated_trend = ss_decomposition.trend\n",
    "estimated_seasonal = ss_decomposition.seasonal\n",
    "estimated_residual = ss_decomposition.resid"
   ]
  },
  {
   "cell_type": "code",
   "execution_count": null,
   "id": "6630af2e-e120-4aa2-a165-7f0102e359aa",
   "metadata": {},
   "outputs": [],
   "source": [
    "import matplotlib.pyplot as plt"
   ]
  },
  {
   "cell_type": "code",
   "execution_count": null,
   "id": "d3195adf-3a06-4601-9b2c-0e1384ca8475",
   "metadata": {},
   "outputs": [],
   "source": [
    "fig, axes = plt.subplots(4, 1, sharex=True, sharey=False)\n",
    "fig.set_figheight(10)\n",
    "fig.set_figwidth(15)\n",
    "\n",
    "axes[0].plot(a['Date'], a['fit'], label='Original')\n",
    "axes[0].legend(loc='upper left');\n",
    "\n",
    "axes[1].plot(a['Date'], estimated_trend, label='Trend')\n",
    "axes[1].legend(loc='upper left');\n",
    "\n",
    "axes[2].plot(a['Date'], estimated_seasonal, label='Seasonality')\n",
    "axes[2].legend(loc='upper left');\n",
    "\n",
    "axes[3].plot(a['Date'], estimated_residual, label='Residuals')\n",
    "axes[3].legend(loc='upper left');"
   ]
  },
  {
   "cell_type": "code",
   "execution_count": null,
   "id": "3335a7cc-c7de-432c-988b-3874e36d81b4",
   "metadata": {},
   "outputs": [],
   "source": [
    "plt.plot(a['Date'], estimated_seasonal, label='Seasonality')"
   ]
  },
  {
   "cell_type": "code",
   "execution_count": null,
   "id": "dee9e7c6-7742-4abd-89ca-fd2c554e5c69",
   "metadata": {},
   "outputs": [],
   "source": [
    "estimated_seasonal"
   ]
  },
  {
   "cell_type": "code",
   "execution_count": null,
   "id": "39f980c5-2a5c-416f-8e12-f1c90497e840",
   "metadata": {},
   "outputs": [],
   "source": [
    "plt.plot(a.loc[714:774, 'Date'], estimated_seasonal.loc[714:775], label='Seasonality')"
   ]
  },
  {
   "cell_type": "code",
   "execution_count": null,
   "id": "4895ffbe-a03d-45e2-9319-c0c75ae2252c",
   "metadata": {},
   "outputs": [],
   "source": [
    "from statsmodels.tsa.seasonal import STL\n",
    "\n",
    "res = STL(a['fit'], period=12).fit()\n",
    "res.plot()\n",
    "plt.show()"
   ]
  },
  {
   "cell_type": "markdown",
   "id": "1f7ca39a-5be5-4ae8-ab42-cc163a9c2dfc",
   "metadata": {},
   "source": [
    "## Let's try this out with stock data we saw before"
   ]
  },
  {
   "cell_type": "code",
   "execution_count": null,
   "id": "fea1a1df-2dd1-4f3b-8bc5-22a4ac63f956",
   "metadata": {},
   "outputs": [],
   "source": [
    "import yahoo_fin.stock_info as si\n",
    "import requests\n",
    "import pandas as pd\n",
    "import matplotlib.pyplot as plt\n",
    "import ipywidgets"
   ]
  },
  {
   "cell_type": "code",
   "execution_count": null,
   "id": "baa8620a-cfdd-44ed-96c5-e463667cf285",
   "metadata": {},
   "outputs": [],
   "source": [
    "# Getting the actual company name from a stock ticker symbol\n",
    "def get_symbol(symbol):\n",
    "    return si.get_quote_data(symbol)['shortName']"
   ]
  },
  {
   "cell_type": "code",
   "execution_count": null,
   "id": "71bcd87e-9ca8-4604-a040-3fd6dada4d38",
   "metadata": {},
   "outputs": [],
   "source": [
    "get_symbol('AAPL')"
   ]
  },
  {
   "cell_type": "code",
   "execution_count": null,
   "id": "9530c63d-214c-47ca-ba0b-f9eaa1e155e6",
   "metadata": {},
   "outputs": [],
   "source": [
    "get_symbol('GOOG')"
   ]
  },
  {
   "cell_type": "code",
   "execution_count": null,
   "id": "3a669f7f-428a-4019-8575-10bc27e2afc5",
   "metadata": {},
   "outputs": [],
   "source": [
    "few_days = si.get_data('aapl', start_date = '01/01/2020', end_date = '10/30/2022')"
   ]
  },
  {
   "cell_type": "code",
   "execution_count": null,
   "id": "b7fa9d85-b7b5-4fa8-8e32-8d3db3cebf1d",
   "metadata": {},
   "outputs": [],
   "source": [
    "goog_days = pd.concat([si.get_data('aapl', start_date = '01/01/2020', end_date = '10/30/2022'),\n",
    "                       si.get_data('goog', start_date = '01/01/2020', end_date = '10/30/2022')])"
   ]
  },
  {
   "cell_type": "code",
   "execution_count": null,
   "id": "78344eb1-e71e-4a86-8c66-07bda3424fd2",
   "metadata": {},
   "outputs": [],
   "source": [
    "few_days"
   ]
  },
  {
   "cell_type": "code",
   "execution_count": null,
   "id": "fe04e9f0-97f2-4281-a208-9c383c3e097f",
   "metadata": {},
   "outputs": [],
   "source": [
    "goog_days = goog_days.sort_index()"
   ]
  },
  {
   "cell_type": "code",
   "execution_count": null,
   "id": "f5c7bbbf-0bd4-4081-8ee7-b15baab4040a",
   "metadata": {},
   "outputs": [],
   "source": [
    "# The Matplotlib way\n",
    "\n",
    "fig,ax = plt.subplots(1,1,figsize=(7,5))\n",
    "ax.plot(few_days.index, few_days.high)\n",
    "ax.set_title(get_symbol('AAPL'))\n",
    "fig.autofmt_xdate()"
   ]
  },
  {
   "cell_type": "code",
   "execution_count": null,
   "id": "1c426446-8e05-4099-ba67-3e8270dbb4dd",
   "metadata": {},
   "outputs": [],
   "source": [
    "# The Matplotlib way\n",
    "\n",
    "fig,ax = plt.subplots(1,1,figsize=(7,5))\n",
    "ax.plot(goog_days.index, goog_days.high)\n",
    "ax.set_title(get_symbol('AAPL'))\n",
    "fig.autofmt_xdate()"
   ]
  },
  {
   "cell_type": "code",
   "execution_count": null,
   "id": "910623bd-7f3f-478a-8e0d-9c6e9fa72de7",
   "metadata": {},
   "outputs": [],
   "source": [
    "# The Matplotlib way\n",
    "\n",
    "fig,ax = plt.subplots(1,1,figsize=(7,5))\n",
    "ax.plot(goog_days.loc[goog_days['ticker']=='AAPL'].index, goog_days.loc[goog_days['ticker']=='AAPL'].high)\n",
    "ax.plot(goog_days.loc[goog_days['ticker']=='GOOG'].index, goog_days.loc[goog_days['ticker']=='GOOG'].high)\n",
    "ax.set_title(get_symbol('AAPL'))\n",
    "fig.autofmt_xdate()"
   ]
  },
  {
   "cell_type": "code",
   "execution_count": null,
   "id": "a5da3225-0d0b-4d49-a515-82dfdd977ac4",
   "metadata": {},
   "outputs": [],
   "source": [
    "# The Pandas way\n",
    "\n",
    "few_days.plot(y='high');"
   ]
  },
  {
   "cell_type": "code",
   "execution_count": null,
   "id": "829b4999-1cd1-45a2-9dd6-5bf4ad8a8282",
   "metadata": {},
   "outputs": [],
   "source": [
    "# The Pandas way\n",
    "\n",
    "goog_days.plot(y='high');"
   ]
  },
  {
   "cell_type": "code",
   "execution_count": null,
   "id": "9a305f1c-c866-4c69-b64a-8da3cf409cb8",
   "metadata": {},
   "outputs": [],
   "source": [
    "few_days.plot(y='high',\n",
    "              figsize=(7,5),\n",
    "              title=get_symbol('AAPL'),\n",
    "              legend=False);"
   ]
  },
  {
   "cell_type": "code",
   "execution_count": null,
   "id": "14360868-4ff6-4c75-ba71-7dda7627cf93",
   "metadata": {},
   "outputs": [],
   "source": [
    "few_days[:10]"
   ]
  },
  {
   "cell_type": "code",
   "execution_count": null,
   "id": "d0f19256-5c54-4a6e-8dc6-f9e91ddd5a36",
   "metadata": {},
   "outputs": [],
   "source": [
    "few_days[:10].plot(y='high',\n",
    "              figsize=(7,5),\n",
    "              title=get_symbol('AAPL'),\n",
    "              legend=False);"
   ]
  },
  {
   "cell_type": "code",
   "execution_count": null,
   "id": "52bc5163-7588-497c-bad1-4227e76b6abb",
   "metadata": {},
   "outputs": [],
   "source": [
    "few_days[:10].dtypes"
   ]
  },
  {
   "cell_type": "code",
   "execution_count": null,
   "id": "d581097b-6798-4b0a-ad2f-af5012ca823a",
   "metadata": {},
   "outputs": [],
   "source": [
    "few_days[:10].info()"
   ]
  },
  {
   "cell_type": "code",
   "execution_count": null,
   "id": "39975439-96c0-4cb0-b8b0-8e7705909614",
   "metadata": {},
   "outputs": [],
   "source": [
    "print(few_days.index)"
   ]
  },
  {
   "cell_type": "code",
   "execution_count": null,
   "id": "92b1723f-9b83-4a3c-b238-5281ce79bdec",
   "metadata": {},
   "outputs": [],
   "source": [
    "few_days.index.day"
   ]
  },
  {
   "cell_type": "code",
   "execution_count": null,
   "id": "312367f7-702e-46a4-b160-b12ff351494c",
   "metadata": {},
   "outputs": [],
   "source": [
    "few_days.index.week"
   ]
  },
  {
   "cell_type": "code",
   "execution_count": null,
   "id": "22372615-f98a-47e8-9525-cd3f2d524afe",
   "metadata": {},
   "outputs": [],
   "source": [
    "few_days.index.isocalendar().week"
   ]
  },
  {
   "cell_type": "code",
   "execution_count": null,
   "id": "1da2b4de-8f83-4255-88f8-05946fe59625",
   "metadata": {},
   "outputs": [],
   "source": [
    "date_range = few_days.index.max() - few_days.index.min()\n",
    "\n",
    "print(date_range.days)\n",
    "print(len(few_days.index.unique()))"
   ]
  },
  {
   "cell_type": "code",
   "execution_count": null,
   "id": "5453f0fa-4516-45bc-88ee-2570a3e10d31",
   "metadata": {},
   "outputs": [],
   "source": [
    "new_index = pd.date_range(few_days.index.min(), \n",
    "                          few_days.index.max())\n",
    "new_index"
   ]
  },
  {
   "cell_type": "code",
   "execution_count": null,
   "id": "036d3f70-d379-407b-b0c5-b51b5185a1e0",
   "metadata": {},
   "outputs": [],
   "source": [
    "#few_days_filled = few_days.reindex(new_index, fill_value = 0) \n",
    "#few_days_filled = few_days.reindex(new_index, fill_value = None) \n",
    "few_days_filled = few_days.reindex(new_index, method = 'ffill')"
   ]
  },
  {
   "cell_type": "code",
   "execution_count": null,
   "id": "773da786-bdff-4206-9ab2-bc88a89bad66",
   "metadata": {},
   "outputs": [],
   "source": [
    "few_days_filled"
   ]
  },
  {
   "cell_type": "code",
   "execution_count": null,
   "id": "0cd43485-6924-441d-bd67-cb4a7f34cf79",
   "metadata": {},
   "outputs": [],
   "source": [
    "few_days_filled[:10].plot(y='high',\n",
    "              figsize=(7,5),\n",
    "              title=get_symbol('AAPL'),\n",
    "              legend=False);"
   ]
  },
  {
   "cell_type": "code",
   "execution_count": null,
   "id": "da478acd-d9ad-4694-9927-7284456cae08",
   "metadata": {},
   "outputs": [],
   "source": [
    "few_days_filled['open'].resample('W').mean()"
   ]
  },
  {
   "cell_type": "code",
   "execution_count": null,
   "id": "c92adb73-a450-46c9-a925-b0c8150095ab",
   "metadata": {},
   "outputs": [],
   "source": [
    "few_days_filled['open'].resample('M').mean()"
   ]
  },
  {
   "cell_type": "code",
   "execution_count": null,
   "id": "a0dc8cad-36b0-48f1-ae01-0da56032a007",
   "metadata": {},
   "outputs": [],
   "source": [
    "few_days_filled['open'].resample('Q').mean()"
   ]
  },
  {
   "cell_type": "code",
   "execution_count": null,
   "id": "64222cd7-a4c9-4963-9e68-51b1f2948c48",
   "metadata": {},
   "outputs": [],
   "source": [
    "few_days_filled['open'].resample('Y').mean()"
   ]
  },
  {
   "cell_type": "code",
   "execution_count": null,
   "id": "074fab9c-bcd2-4192-9dcd-defbeb3e5e11",
   "metadata": {},
   "outputs": [],
   "source": [
    "open_weekly = few_days_filled['open'].resample('W').mean()"
   ]
  },
  {
   "cell_type": "code",
   "execution_count": null,
   "id": "32134491-ac8d-42ac-a0b7-3d95d3a2c889",
   "metadata": {},
   "outputs": [],
   "source": [
    "open_weekly"
   ]
  },
  {
   "cell_type": "code",
   "execution_count": null,
   "id": "547a959b-8fd2-4c8e-98fc-a4c885fade75",
   "metadata": {},
   "outputs": [],
   "source": [
    "high_weekly = few_days_filled['high'].resample('W').max()"
   ]
  },
  {
   "cell_type": "code",
   "execution_count": null,
   "id": "2e66906a-931e-484e-ab5f-1e90dd88c3de",
   "metadata": {},
   "outputs": [],
   "source": [
    "high_weekly"
   ]
  },
  {
   "cell_type": "code",
   "execution_count": null,
   "id": "f09b3b2b-7da4-49e0-8d84-13f338bcf9b2",
   "metadata": {},
   "outputs": [],
   "source": [
    "high_weekly.plot()\n",
    "open_weekly.plot()"
   ]
  },
  {
   "cell_type": "code",
   "execution_count": null,
   "id": "1417744b-cb22-4efb-a5a7-dde73425273a",
   "metadata": {},
   "outputs": [],
   "source": [
    "low_weekly = few_days_filled['low'].resample('W').min()"
   ]
  },
  {
   "cell_type": "code",
   "execution_count": null,
   "id": "d70c2943-2451-42e0-91cb-5fa034aa3cb5",
   "metadata": {},
   "outputs": [],
   "source": [
    "low_weekly"
   ]
  },
  {
   "cell_type": "code",
   "execution_count": null,
   "id": "04fe1486-ca97-4fa1-b86e-03e35afbf4e9",
   "metadata": {},
   "outputs": [],
   "source": [
    "high_weekly.plot()\n",
    "open_weekly.plot()\n",
    "low_weekly.plot()"
   ]
  },
  {
   "cell_type": "code",
   "execution_count": null,
   "id": "e38b9d9b-ee91-413c-a818-629cf3ca94b9",
   "metadata": {},
   "outputs": [],
   "source": [
    "few_days_filled = few_days_filled.drop('ticker',axis=1)"
   ]
  },
  {
   "cell_type": "code",
   "execution_count": null,
   "id": "980b01e8-2f12-47a2-9335-7c7b5f4d9cb0",
   "metadata": {},
   "outputs": [],
   "source": [
    "windowsize = 7\n",
    "rolling = few_days_filled.rolling(windowsize)"
   ]
  },
  {
   "cell_type": "code",
   "execution_count": null,
   "id": "1d0eb6f8-3268-4a10-bd47-7ac725cf6880",
   "metadata": {},
   "outputs": [],
   "source": [
    "rolling"
   ]
  },
  {
   "cell_type": "code",
   "execution_count": null,
   "id": "7558e302-c448-43d7-b47f-b7257e787f7c",
   "metadata": {},
   "outputs": [],
   "source": [
    "rolling.mean().dropna()"
   ]
  },
  {
   "cell_type": "code",
   "execution_count": null,
   "id": "f5bd9641-edd7-4c09-a64a-afed774575c2",
   "metadata": {},
   "outputs": [],
   "source": [
    "windowsize = 7\n",
    "rolling1 = few_days_filled.rolling(windowsize*1)\n",
    "rolling2 = few_days_filled.rolling(windowsize*10)\n",
    "rolling3 = few_days_filled.rolling(windowsize*20)\n",
    "\n",
    "rolling1.mean().dropna()['open'].plot()\n",
    "rolling2.mean().dropna()['open'].plot()\n",
    "rolling3.mean().dropna()['open'].plot()"
   ]
  },
  {
   "cell_type": "code",
   "execution_count": null,
   "id": "92164aaa-7252-4ba1-baf8-1f7acf89bb49",
   "metadata": {},
   "outputs": [],
   "source": [
    "windowsize = 7\n",
    "rolling1 = few_days_filled.rolling(windowsize*1)\n",
    "rolling2 = few_days_filled.rolling(windowsize*10)\n",
    "rolling3 = few_days_filled.rolling(windowsize*20)\n",
    "\n",
    "rolling1.mean().dropna().iloc[1:140,0].plot()\n",
    "rolling2.mean().dropna().iloc[1:70,0].plot()\n",
    "rolling3.mean().dropna().iloc[1:10,0].plot()"
   ]
  },
  {
   "cell_type": "code",
   "execution_count": null,
   "id": "8dae4352-5cea-408e-a5e5-54299279801d",
   "metadata": {},
   "outputs": [],
   "source": [
    "windowsize = 7\n",
    "rolling = few_days_filled.rolling(windowsize)\n",
    "\n",
    "print(rolling.mean().dropna()['volume'].head())\n",
    "print(rolling.std().dropna()['volume'].head())\n",
    "print(few_days_filled.cumsum().dropna()['volume'].head())"
   ]
  },
  {
   "cell_type": "markdown",
   "id": "cade2b14-afdd-4158-ade8-b983416c12ad",
   "metadata": {},
   "source": [
    "# Exercise\n",
    "\n",
    "Try analyzing the following COVID dataset."
   ]
  },
  {
   "cell_type": "markdown",
   "id": "eb70b6ba-ccce-4f25-814c-79c9e346b92d",
   "metadata": {},
   "source": [
    "https://data.chhs.ca.gov/dataset/covid-19-time-series-metrics-by-county-and-state/resource/046cdd2b-31e5-4d34-9ed3-b48cdbc4be7a"
   ]
  },
  {
   "cell_type": "markdown",
   "id": "f836c8cb-064d-4266-b1fe-94db9a595ade",
   "metadata": {},
   "source": []
  },
  {
   "cell_type": "code",
   "execution_count": null,
   "id": "93fb0144-58a0-483d-8e54-984ef128180a",
   "metadata": {},
   "outputs": [],
   "source": [
    "import pandas as pd\n",
    "import matplotlib.pyplot as plt"
   ]
  },
  {
   "cell_type": "code",
   "execution_count": null,
   "id": "d30e7dcc-5ecd-469e-87f0-df28e86553e6",
   "metadata": {},
   "outputs": [],
   "source": [
    "df = pd.read_csv('covid-deaths-ca-102422.csv')"
   ]
  },
  {
   "cell_type": "code",
   "execution_count": null,
   "id": "5170d455-f14f-463c-9eb7-9e2bb1aff657",
   "metadata": {},
   "outputs": [],
   "source": []
  },
  {
   "cell_type": "code",
   "execution_count": null,
   "id": "94b75e9b-cf62-4640-ac43-7914f95678ac",
   "metadata": {},
   "outputs": [],
   "source": []
  },
  {
   "cell_type": "code",
   "execution_count": null,
   "id": "8e6f30bd-63ca-4e58-8cd6-50ce24d4c52f",
   "metadata": {},
   "outputs": [],
   "source": []
  },
  {
   "cell_type": "code",
   "execution_count": null,
   "id": "23c96379-9550-4eff-870f-ffccbdf4b34b",
   "metadata": {},
   "outputs": [],
   "source": []
  },
  {
   "cell_type": "code",
   "execution_count": null,
   "id": "a7bc9e7c-6e66-49ec-9d49-5e7bbf21a287",
   "metadata": {},
   "outputs": [],
   "source": []
  }
 ],
 "metadata": {
  "kernelspec": {
   "display_name": "Python 3 (ipykernel)",
   "language": "python",
   "name": "python3"
  },
  "language_info": {
   "codemirror_mode": {
    "name": "ipython",
    "version": 3
   },
   "file_extension": ".py",
   "mimetype": "text/x-python",
   "name": "python",
   "nbconvert_exporter": "python",
   "pygments_lexer": "ipython3",
   "version": "3.10.6"
  }
 },
 "nbformat": 4,
 "nbformat_minor": 5
}
