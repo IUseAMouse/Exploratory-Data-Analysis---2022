{
 "cells": [
  {
   "cell_type": "code",
   "execution_count": null,
   "id": "f563a8f5-e7d6-49b5-854a-1c1ba64eac96",
   "metadata": {},
   "outputs": [],
   "source": [
    "import pandas as pd\n",
    "import matplotlib.pyplot as plt\n",
    "import seaborn as sns"
   ]
  },
  {
   "cell_type": "code",
   "execution_count": null,
   "id": "54ba42fb-4f3e-46f1-b1ee-ddf9873c2622",
   "metadata": {},
   "outputs": [],
   "source": [
    "def importtitanic():\n",
    "    df_titanic = pd.read_csv('titanic.csv')\n",
    "    \n",
    "    df_titanic['Survived'] = df_titanic['Survived'].astype(str)\n",
    "    df_titanic['PassengerId'] = df_titanic['PassengerId'].astype(str)\n",
    "    df_titanic['Pclass'] = df_titanic['Pclass'].astype(str)\n",
    "    \n",
    "    df_titanic.dropna(subset=['Age','Embarked'], inplace=True)\n",
    "    df_titanic.drop('Cabin', axis=1, inplace=True)\n",
    "    \n",
    "    return df_titanic"
   ]
  },
  {
   "cell_type": "code",
   "execution_count": null,
   "id": "2f84b455-d842-49ba-a05b-c79f5c8485ae",
   "metadata": {},
   "outputs": [],
   "source": [
    "titanic = importtitanic()"
   ]
  },
  {
   "cell_type": "code",
   "execution_count": null,
   "id": "a54d7bdc-0210-47d3-8c66-a540eb4c2386",
   "metadata": {},
   "outputs": [],
   "source": [
    "titanic.info()"
   ]
  },
  {
   "cell_type": "code",
   "execution_count": null,
   "id": "b3ea45a6-17a5-4b09-8d28-d2516b1234cf",
   "metadata": {},
   "outputs": [],
   "source": [
    "titanic.describe(include='all')"
   ]
  },
  {
   "cell_type": "markdown",
   "id": "51e9f390-9dd2-48e8-adf0-bea05d855387",
   "metadata": {},
   "source": [
    "## Last week's Tableau plots, now in Python"
   ]
  },
  {
   "cell_type": "markdown",
   "id": "82beba89-6416-4b1f-97d0-c0b4ec02e5e9",
   "metadata": {},
   "source": [
    "### Fare box plot"
   ]
  },
  {
   "cell_type": "code",
   "execution_count": null,
   "id": "91378f64-24a8-4edb-b032-eca7317077c5",
   "metadata": {},
   "outputs": [],
   "source": [
    "titanic['Fare'].plot(kind='box')"
   ]
  },
  {
   "cell_type": "code",
   "execution_count": null,
   "id": "b74fee32-5c84-4dfb-8afc-da7004765a8a",
   "metadata": {},
   "outputs": [],
   "source": [
    "titanic.loc[titanic['Fare'] < 100, ['Fare']].plot(kind='box')"
   ]
  },
  {
   "cell_type": "code",
   "execution_count": null,
   "id": "b6ac75fd-6a51-4d05-886d-56e4fe8e073a",
   "metadata": {},
   "outputs": [],
   "source": [
    "t_sub100 = titanic.loc[titanic['Fare'] < 100, ['Fare']].copy()"
   ]
  },
  {
   "cell_type": "code",
   "execution_count": null,
   "id": "c8a46847-f98f-4a8a-8dda-b4c245f65b10",
   "metadata": {},
   "outputs": [],
   "source": [
    "t_sub100['Fare'].plot(kind='hist')"
   ]
  },
  {
   "cell_type": "code",
   "execution_count": null,
   "id": "22527d9b-b9ad-4080-b682-756d172f55fc",
   "metadata": {},
   "outputs": [],
   "source": [
    "t_sub100['Fare'].plot(kind='hist', bins=int(100/3))"
   ]
  },
  {
   "cell_type": "code",
   "execution_count": null,
   "id": "678037d1-c84d-4388-a090-5a29725ef4b9",
   "metadata": {},
   "outputs": [],
   "source": [
    "titanic['Pclass'].value_counts()"
   ]
  },
  {
   "cell_type": "code",
   "execution_count": null,
   "id": "47692186-d216-4b50-8363-cfc26820be08",
   "metadata": {},
   "outputs": [],
   "source": [
    "titanic['Pclass'].value_counts().plot(kind='pie')"
   ]
  },
  {
   "cell_type": "code",
   "execution_count": null,
   "id": "bf16eae1-eb2d-46d8-9065-164f8f913726",
   "metadata": {},
   "outputs": [],
   "source": [
    "titanic['Pclass'].value_counts().plot(kind='pie',autopct=\"%.2f%%\")"
   ]
  },
  {
   "cell_type": "code",
   "execution_count": null,
   "id": "d5a71553-0808-4b62-ab8d-63cf26f189e3",
   "metadata": {},
   "outputs": [],
   "source": [
    "titanic['Pclass'].value_counts().plot(kind='bar')"
   ]
  },
  {
   "cell_type": "code",
   "execution_count": null,
   "id": "5a9b41ff-693b-4239-9456-a48614a165f6",
   "metadata": {},
   "outputs": [],
   "source": [
    "titanic['Pclass'].value_counts()"
   ]
  },
  {
   "cell_type": "code",
   "execution_count": null,
   "id": "f8eff932-41c1-4b5a-bb0d-630d9f6d4be2",
   "metadata": {},
   "outputs": [],
   "source": [
    "titanic['Pclass'].value_counts()[['1','2','3']]"
   ]
  },
  {
   "cell_type": "code",
   "execution_count": null,
   "id": "f8f6aa93-076d-4996-aad5-fb80ec1cd8c1",
   "metadata": {},
   "outputs": [],
   "source": [
    "titanic['Pclass'].value_counts()[['1','2','3']].plot(kind='bar')"
   ]
  },
  {
   "cell_type": "code",
   "execution_count": null,
   "id": "6ace92da-d1d8-4bfa-a09e-de97715bc9a7",
   "metadata": {},
   "outputs": [],
   "source": [
    "ax = titanic['Pclass'].value_counts()[['1','2','3']].plot(kind='bar')\n",
    "for bar in ax.patches:\n",
    "  height = bar.get_height()\n",
    "  label_x_pos = bar.get_x() + bar.get_width() / 2\n",
    "  ax.text(label_x_pos, height, s=f'{height}', ha='center',\n",
    "  va='bottom')"
   ]
  },
  {
   "cell_type": "code",
   "execution_count": null,
   "id": "d2347bfa-5349-4a13-889e-e987bb1d832b",
   "metadata": {},
   "outputs": [],
   "source": [
    "ax = titanic['Pclass'].value_counts()[['1','2','3']].plot(kind='bar',color='red')\n",
    "for bar in ax.patches:\n",
    "  height = bar.get_height()\n",
    "  label_x_pos = bar.get_x() + bar.get_width() / 2\n",
    "  ax.text(label_x_pos, height, s=f'{height}', ha='center',\n",
    "  va='bottom', fontsize=16)"
   ]
  },
  {
   "cell_type": "markdown",
   "id": "63bcc04e-4b4e-4004-9914-d591bf08f12f",
   "metadata": {},
   "source": [
    "## Two categories\n",
    "\n",
    "Let's look at a second category too"
   ]
  },
  {
   "cell_type": "code",
   "execution_count": null,
   "id": "d8eb624a-579b-4344-9844-d39dc5358811",
   "metadata": {},
   "outputs": [],
   "source": [
    "titanic[['Pclass','Sex']].value_counts().plot(kind='bar')"
   ]
  },
  {
   "cell_type": "markdown",
   "id": "7a44cff8-e1ed-4318-9fcf-4e49d1254303",
   "metadata": {},
   "source": [
    "### going to be easier to use seaborn here"
   ]
  },
  {
   "cell_type": "code",
   "execution_count": null,
   "id": "1cf3a6c0-41e9-400f-9ca4-939a0528be25",
   "metadata": {},
   "outputs": [],
   "source": [
    "sns.countplot(data=titanic, x='Pclass')"
   ]
  },
  {
   "cell_type": "code",
   "execution_count": null,
   "id": "cd6a7a4e-0963-4a29-a06a-d03435d19948",
   "metadata": {},
   "outputs": [],
   "source": [
    "ax = sns.countplot(data=titanic, x='Pclass')\n",
    "vals = titanic['Pclass'].value_counts(ascending=False).values\n",
    "ax.bar_label(container=ax.containers[0], labels=vals)"
   ]
  },
  {
   "cell_type": "code",
   "execution_count": null,
   "id": "55e816a4-161b-4cb2-982b-550ebc8ba042",
   "metadata": {},
   "outputs": [],
   "source": [
    "sns.countplot(data=titanic, x='Pclass', hue='Sex')"
   ]
  },
  {
   "cell_type": "code",
   "execution_count": null,
   "id": "831fc949-415c-4682-9aa8-61bbf6a84814",
   "metadata": {},
   "outputs": [],
   "source": [
    "sns.countplot(data=titanic, x='Pclass', hue='Sex', dodge=False)"
   ]
  },
  {
   "cell_type": "code",
   "execution_count": null,
   "id": "79731107-708d-430b-b2d0-8cd6402c5c6f",
   "metadata": {},
   "outputs": [],
   "source": [
    "titanic['Pclass'].value_counts().reset_index()"
   ]
  },
  {
   "cell_type": "code",
   "execution_count": null,
   "id": "ee74a179-d16c-4dbd-90ba-d29f64aab97c",
   "metadata": {},
   "outputs": [],
   "source": [
    "sns.barplot(data=titanic['Pclass'].value_counts().reset_index(),\n",
    "            x='index',\n",
    "            y='Pclass')"
   ]
  },
  {
   "cell_type": "code",
   "execution_count": null,
   "id": "7492dd0f-5389-4570-a2e6-d0ee91a71ad9",
   "metadata": {},
   "outputs": [],
   "source": [
    "g = sns.FacetGrid(titanic, row=\"Sex\")\n",
    "g.map_dataframe(sns.countplot, x=\"Pclass\")"
   ]
  },
  {
   "cell_type": "code",
   "execution_count": null,
   "id": "c5de61bf-eb41-4774-bd50-26d85af26eb0",
   "metadata": {},
   "outputs": [],
   "source": [
    "g = sns.FacetGrid(titanic, col=\"Sex\")\n",
    "g.map_dataframe(sns.countplot, x=\"Pclass\")"
   ]
  },
  {
   "cell_type": "code",
   "execution_count": null,
   "id": "7e2f6d7d-7014-4f44-9769-06cec180bd62",
   "metadata": {},
   "outputs": [],
   "source": [
    "g = sns.FacetGrid(titanic, col=\"Sex\", hue='Sex')\n",
    "g.map_dataframe(sns.countplot, x=\"Pclass\", order=['1','2','3'])"
   ]
  },
  {
   "cell_type": "code",
   "execution_count": null,
   "id": "36e7563c-7df2-4522-9e1d-d8754edde7c3",
   "metadata": {},
   "outputs": [],
   "source": [
    "sns.catplot(data=titanic,\n",
    "            x='Pclass',\n",
    "            col='Sex',\n",
    "           kind='count')"
   ]
  },
  {
   "cell_type": "code",
   "execution_count": null,
   "id": "f5a45262-1c4a-4ede-87ff-c510d17e1924",
   "metadata": {},
   "outputs": [],
   "source": [
    "sns.catplot(data=titanic,\n",
    "            x='Pclass',\n",
    "            col='Sex',\n",
    "            kind='count',\n",
    "            hue='Sex')"
   ]
  },
  {
   "cell_type": "markdown",
   "id": "a26ab47d-0474-48c0-88b7-023856d6806c",
   "metadata": {},
   "source": [
    "How about a stacked bar plot?"
   ]
  },
  {
   "cell_type": "code",
   "execution_count": null,
   "id": "c24d8201-9a51-4e2c-9adb-2fc33e241c39",
   "metadata": {},
   "outputs": [],
   "source": [
    "t2 = titanic[['Pclass','Sex']].value_counts().reset_index(name='counts')"
   ]
  },
  {
   "cell_type": "code",
   "execution_count": null,
   "id": "38f149cd-5fb1-4e94-b996-81758d3158bc",
   "metadata": {},
   "outputs": [],
   "source": [
    "t2"
   ]
  },
  {
   "cell_type": "code",
   "execution_count": null,
   "id": "bfe05116-3639-4bc9-a7de-65b49df14d1b",
   "metadata": {},
   "outputs": [],
   "source": [
    "t2.pivot(index='Pclass',columns='Sex',values='counts')"
   ]
  },
  {
   "cell_type": "code",
   "execution_count": null,
   "id": "e525b2e8-6fec-4147-9e46-fe129d935eb1",
   "metadata": {},
   "outputs": [],
   "source": [
    "t2p = t2.pivot(index='Pclass',columns=['Sex'],values='counts')\n",
    "t2p.plot(kind = 'bar', stacked=True)"
   ]
  },
  {
   "cell_type": "markdown",
   "id": "4233ffa9-fedd-476c-8e61-3cfaa6ccb111",
   "metadata": {},
   "source": [
    "Alternatively..."
   ]
  },
  {
   "cell_type": "code",
   "execution_count": null,
   "id": "7c0e6ffe-b2ff-422c-88da-051dc635efd1",
   "metadata": {},
   "outputs": [],
   "source": [
    "pd.crosstab(titanic['Pclass'], titanic['Sex'])"
   ]
  },
  {
   "cell_type": "code",
   "execution_count": null,
   "id": "7c447c3b-1275-4248-84bb-52212b479190",
   "metadata": {},
   "outputs": [],
   "source": [
    "pd.crosstab(titanic['Pclass'], titanic['Sex']).plot(kind='bar',\n",
    "                                                    stacked=True)"
   ]
  },
  {
   "cell_type": "markdown",
   "id": "11d82ca0-3a3c-4c45-9537-9596a7a34085",
   "metadata": {},
   "source": [
    "## Dealing with an overwhelming set of labels"
   ]
  },
  {
   "cell_type": "code",
   "execution_count": null,
   "id": "23e89da4-c5be-4ebb-a890-f43741b4ec75",
   "metadata": {},
   "outputs": [],
   "source": [
    "titanic['Ticket'][:2]"
   ]
  },
  {
   "cell_type": "code",
   "execution_count": null,
   "id": "16b722d6-5b2f-4a9f-a130-bce11113a490",
   "metadata": {},
   "outputs": [],
   "source": [
    "titanic['Ticket'].value_counts().plot(kind='bar')"
   ]
  },
  {
   "cell_type": "code",
   "execution_count": null,
   "id": "b5e80439-7d93-4542-89c6-b75f12eeb2f7",
   "metadata": {},
   "outputs": [],
   "source": [
    "titanic['Ticket'].value_counts(ascending=True).plot(kind='barh')"
   ]
  },
  {
   "cell_type": "code",
   "execution_count": null,
   "id": "35c62b52-e876-493c-8696-615eff24363f",
   "metadata": {},
   "outputs": [],
   "source": [
    "titanic['Ticket'][:20].value_counts(ascending=True).plot(kind='barh')"
   ]
  },
  {
   "cell_type": "code",
   "execution_count": null,
   "id": "33ecf5a7-c1b2-4737-81bd-d7e02e338a37",
   "metadata": {},
   "outputs": [],
   "source": [
    "titanic['Ticket'][-20:].value_counts(ascending=True).plot(kind='barh')"
   ]
  },
  {
   "cell_type": "code",
   "execution_count": null,
   "id": "1f6434dd-ed70-4aa8-a491-7ee2ec989be2",
   "metadata": {},
   "outputs": [],
   "source": [
    "titanic['Ticket'].value_counts(ascending=True)[:20].plot(kind='barh')"
   ]
  },
  {
   "cell_type": "code",
   "execution_count": null,
   "id": "28f3438f-8294-423e-a65f-1b4d8f9b35e6",
   "metadata": {},
   "outputs": [],
   "source": [
    "titanic['Ticket'].value_counts(ascending=True)[-20:].plot(kind='barh')"
   ]
  },
  {
   "cell_type": "markdown",
   "id": "29925bb6-ecea-4bcf-b8b8-c8d8ee0f9f34",
   "metadata": {},
   "source": [
    "## Color for highlighting"
   ]
  },
  {
   "cell_type": "code",
   "execution_count": null,
   "id": "6d28f057-8f04-4f30-9a7b-6f9379aae767",
   "metadata": {},
   "outputs": [],
   "source": [
    "c = ['blue' for i in range(20)]\n",
    "c[-4:-1] = ['red' for i in range(3)]"
   ]
  },
  {
   "cell_type": "code",
   "execution_count": null,
   "id": "c60fb534-bdc6-4766-a28d-a349f645caae",
   "metadata": {},
   "outputs": [],
   "source": [
    "c"
   ]
  },
  {
   "cell_type": "code",
   "execution_count": null,
   "id": "a8b44a2f-4c7d-4b58-a57e-367e8631f716",
   "metadata": {},
   "outputs": [],
   "source": [
    "titanic['Ticket'].value_counts(ascending=True)[-20:].plot(kind='barh',\n",
    "                                                          color=c)"
   ]
  },
  {
   "cell_type": "markdown",
   "id": "29373f86-b32f-478c-b8f8-04b83928bb16",
   "metadata": {},
   "source": [
    "## Lollipop"
   ]
  },
  {
   "cell_type": "code",
   "execution_count": null,
   "id": "40f5c385-8900-4980-b946-ca73cb19ed3a",
   "metadata": {},
   "outputs": [],
   "source": [
    "v = titanic['Ticket'].value_counts(ascending=True)[-20:]\n",
    "my_range=range(1,len(v.index)+1)"
   ]
  },
  {
   "cell_type": "code",
   "execution_count": null,
   "id": "90621764-1318-4d0d-a280-2c4489490b27",
   "metadata": {},
   "outputs": [],
   "source": [
    "v"
   ]
  },
  {
   "cell_type": "code",
   "execution_count": null,
   "id": "b2737c82-36e8-43b7-8653-60679c75fffd",
   "metadata": {},
   "outputs": [],
   "source": [
    "v.values"
   ]
  },
  {
   "cell_type": "code",
   "execution_count": null,
   "id": "652a4352-5c84-48c5-af0e-1ff38535971f",
   "metadata": {},
   "outputs": [],
   "source": [
    "# The horizontal plot is made using the hline function\n",
    "plt.hlines(y=my_range, xmin=0, xmax=v.values, color='skyblue')\n",
    "plt.plot(v.values, my_range, \"o\")"
   ]
  },
  {
   "cell_type": "code",
   "execution_count": null,
   "id": "f98bfca2-48fb-4332-9424-0e1b97676e5f",
   "metadata": {},
   "outputs": [],
   "source": [
    "# The horizontal plot is made using the hline function\n",
    "plt.hlines(y=my_range, xmin=0, xmax=v.values, color='skyblue')\n",
    "plt.plot(v.values, my_range, \"o\")\n",
    " \n",
    "# Add titles and axis names\n",
    "plt.yticks(my_range, v.index)\n",
    "plt.title(\"A vertical lolipop plot\", loc='left')\n",
    "plt.xlabel('Value of the variable')\n",
    "plt.ylabel('Ticket')\n",
    "\n",
    "# Show the plot\n",
    "plt.show()"
   ]
  },
  {
   "cell_type": "markdown",
   "id": "338540b6-05fb-4009-a940-f8547e6a3ae4",
   "metadata": {},
   "source": [
    "## Dot plot"
   ]
  },
  {
   "cell_type": "code",
   "execution_count": null,
   "id": "12d3704d-efb7-4539-9436-59dcb664d972",
   "metadata": {},
   "outputs": [],
   "source": [
    "# The horizontal plot is made using the hline function\n",
    "#plt.hlines(y=my_range, xmin=0, xmax=v.values, color='skyblue')\n",
    "plt.plot(v.values, my_range, \"o\")\n",
    " \n",
    "# Add titles and axis names\n",
    "plt.yticks(my_range, v.index)\n",
    "plt.title(\"A vertical dot plot\", loc='left')\n",
    "plt.xlabel('Value of the variable')\n",
    "plt.ylabel('Ticket')\n",
    "\n",
    "# Show the plot\n",
    "plt.show()"
   ]
  },
  {
   "cell_type": "code",
   "execution_count": null,
   "id": "37a220ff-0c46-4bd8-a319-3017c6e1710d",
   "metadata": {},
   "outputs": [],
   "source": [
    "# The horizontal plot is made using the hline function\n",
    "#plt.hlines(y=my_range, xmin=0, xmax=v.values, color='skyblue')\n",
    "plt.plot(v.values, my_range, \"o\")\n",
    "\n",
    "plt.vlines(x=4.5, ymin=0, ymax=max(my_range), \n",
    "           color='red', linestyle='--')\n",
    "plt.text(x=4.6, y=5, s='guess at mean')\n",
    "\n",
    "# Add titles and axis names\n",
    "plt.yticks(my_range, v.index)\n",
    "plt.title(\"A vertical dot plot\", loc='left')\n",
    "plt.xlabel('Value of the variable')\n",
    "plt.ylabel('Ticket')\n",
    "\n",
    "# Show the plot\n",
    "plt.show()"
   ]
  },
  {
   "cell_type": "code",
   "execution_count": null,
   "id": "ad331cbe-7ce0-4e62-ae11-aaa7ae7b73b8",
   "metadata": {},
   "outputs": [],
   "source": [
    "# The horizontal plot is made using the hline function\n",
    "plt.hlines(y=my_range, \n",
    "           xmin=[min(0,i-4.5) for i in v.values],\n",
    "           xmax=[max(0,i-4.5) for i in v.values],\n",
    "           color='skyblue')\n",
    "plt.plot(v.values-4.5, my_range, \"o\")\n",
    " \n",
    "# Add titles and axis names\n",
    "plt.yticks(my_range, v.index)\n",
    "plt.title(\"A vertical lolipop plot\", loc='left')\n",
    "plt.xlabel('Value of the variable')\n",
    "plt.ylabel('Ticket')\n",
    "\n",
    "# Show the plot\n",
    "plt.show()"
   ]
  },
  {
   "cell_type": "code",
   "execution_count": null,
   "id": "73f9c8e6-2ffc-40e9-bf1d-fe36afb2d223",
   "metadata": {},
   "outputs": [],
   "source": [
    "tf = titanic['Ticket'].value_counts(ascending=True)[-20:]\n",
    "tf = tf - 4.5\n",
    "tf.plot(kind='barh', color=c)"
   ]
  },
  {
   "cell_type": "markdown",
   "id": "b98efb5c-bf55-4cfe-b3c7-72324609e2b3",
   "metadata": {},
   "source": [
    "## Dueling histograms"
   ]
  },
  {
   "cell_type": "code",
   "execution_count": null,
   "id": "00beb67f-720b-4598-bda7-9a212a2d4230",
   "metadata": {},
   "outputs": [],
   "source": [
    "sns.histplot(data=titanic, x='Age')"
   ]
  },
  {
   "cell_type": "code",
   "execution_count": null,
   "id": "fc447627-35c7-4ad6-aea6-536a0ac72969",
   "metadata": {},
   "outputs": [],
   "source": [
    "sns.histplot(data=titanic, x='Age', hue='Pclass')"
   ]
  },
  {
   "cell_type": "code",
   "execution_count": null,
   "id": "737504a4-f67e-4b01-b8af-a259f5217051",
   "metadata": {},
   "outputs": [],
   "source": [
    "sns.histplot(data=titanic, x='Age', hue='Pclass', multiple='stack')"
   ]
  },
  {
   "cell_type": "code",
   "execution_count": null,
   "id": "911db15e-eef0-4ddd-8b64-644ce07c9530",
   "metadata": {},
   "outputs": [],
   "source": [
    "sns.histplot(data=titanic, x='Age', hue='Pclass', kde=True)"
   ]
  },
  {
   "cell_type": "code",
   "execution_count": null,
   "id": "f32f238d-e1cc-4592-8bf5-6a477b1a0de3",
   "metadata": {},
   "outputs": [],
   "source": [
    "sns.histplot(data=titanic, x='Age', hue='Pclass', kde=True, multiple='stack')"
   ]
  },
  {
   "cell_type": "code",
   "execution_count": null,
   "id": "f90fb19f-18db-4b88-affa-382b415c060f",
   "metadata": {},
   "outputs": [],
   "source": [
    "sns.histplot(data=titanic, x='Age', hue='Pclass', multiple='dodge')"
   ]
  },
  {
   "cell_type": "code",
   "execution_count": null,
   "id": "864e0340-26de-47ca-8c2f-00cccf0ac320",
   "metadata": {},
   "outputs": [],
   "source": [
    "sns.histplot(data=titanic, x='Age', hue='Pclass', multiple='fill')"
   ]
  },
  {
   "cell_type": "code",
   "execution_count": null,
   "id": "a486d4c6-2c7d-48ef-88df-e8652d3364aa",
   "metadata": {},
   "outputs": [],
   "source": [
    "sns.histplot(data=titanic, x='Age', hue='Pclass', multiple='layer')"
   ]
  },
  {
   "cell_type": "code",
   "execution_count": null,
   "id": "f5320228-4f29-440d-a3be-7dd4a1a3b2b0",
   "metadata": {},
   "outputs": [],
   "source": [
    "sns.kdeplot(data=titanic, x='Age', hue='Pclass')"
   ]
  },
  {
   "cell_type": "code",
   "execution_count": null,
   "id": "8dafcb3c-9925-49e6-9649-21833106f1fd",
   "metadata": {},
   "outputs": [],
   "source": [
    "sns.kdeplot(data=titanic, x='Age', hue='Pclass', bw_adjust=.5)"
   ]
  },
  {
   "cell_type": "code",
   "execution_count": null,
   "id": "21ed02b2-e1eb-4456-9bf0-c77002ea7402",
   "metadata": {},
   "outputs": [],
   "source": [
    "sns.boxplot(data=titanic, x='Pclass', y='Age')"
   ]
  },
  {
   "cell_type": "code",
   "execution_count": null,
   "id": "c562519d-8880-4772-8b47-dfa0ac42623c",
   "metadata": {},
   "outputs": [],
   "source": [
    "sns.boxplot(data=titanic, x='Age', y='Pclass')"
   ]
  },
  {
   "cell_type": "code",
   "execution_count": null,
   "id": "ac8459b5-8e81-4ee0-9d5b-47fa302464f3",
   "metadata": {},
   "outputs": [],
   "source": [
    "#sns.set_theme(rc={\"axes.facecolor\": (0, 0, 0, 0)})\n",
    "g = sns.FacetGrid(titanic, row=\"Pclass\", aspect=5, height=3)\n",
    "g.map_dataframe(sns.kdeplot, x=\"Age\", fill=True, alpha=.2)\n",
    "g.fig.subplots_adjust(hspace=-.5)"
   ]
  },
  {
   "cell_type": "code",
   "execution_count": null,
   "id": "47731869-32be-4d72-9bd2-c0291b88d60c",
   "metadata": {},
   "outputs": [],
   "source": [
    "sns.scatterplot(data=titanic.loc[titanic['Fare']<100], x='Age', y='Fare')"
   ]
  },
  {
   "cell_type": "code",
   "execution_count": null,
   "id": "577ff005-5bc4-405f-9c77-c09868333822",
   "metadata": {},
   "outputs": [],
   "source": [
    "import numpy as np"
   ]
  },
  {
   "cell_type": "code",
   "execution_count": null,
   "id": "37b9b4a8-b9d6-4d7b-a763-ed2ac74d005e",
   "metadata": {},
   "outputs": [],
   "source": [
    "t_num = titanic.select_dtypes(include=np.number).copy()"
   ]
  },
  {
   "cell_type": "code",
   "execution_count": null,
   "id": "fdf918e9-20d7-4e95-a33b-64ec2f7e5c07",
   "metadata": {},
   "outputs": [],
   "source": [
    "sns.pairplot(t_num)"
   ]
  },
  {
   "cell_type": "code",
   "execution_count": null,
   "id": "b3006a18-3776-430d-9baf-94ae3b3d763e",
   "metadata": {},
   "outputs": [],
   "source": [
    "titanic.plot(x='Parch', y='Age', kind='scatter')"
   ]
  },
  {
   "cell_type": "code",
   "execution_count": null,
   "id": "768715ef-323c-4224-9908-7e8769ab86be",
   "metadata": {},
   "outputs": [],
   "source": [
    "titanic.plot(x='Parch', y='Age', kind='hexbin')"
   ]
  },
  {
   "cell_type": "code",
   "execution_count": null,
   "id": "43ea0ab7-d3a9-45b0-bf82-a6aae43be623",
   "metadata": {},
   "outputs": [],
   "source": [
    "titanic.loc[(titanic['SibSp']>0)].plot(x='Parch', y='SibSp', kind='hexbin')"
   ]
  },
  {
   "cell_type": "code",
   "execution_count": null,
   "id": "f471413f-ae79-4b90-b393-375015298328",
   "metadata": {},
   "outputs": [],
   "source": [
    "tf"
   ]
  },
  {
   "cell_type": "code",
   "execution_count": null,
   "id": "4b8cdd55-7ef5-4c20-9ee3-c8e63e8291b1",
   "metadata": {},
   "outputs": [],
   "source": [
    "tf = np.log(titanic.loc[(titanic['SibSp']>0)].select_dtypes(include=np.number)+1e-12)\n",
    "tf.plot(x='Parch', y='SibSp', kind='hexbin')"
   ]
  },
  {
   "cell_type": "code",
   "execution_count": null,
   "id": "8466abc7-5a95-4025-8683-7a6a1a75b5a1",
   "metadata": {},
   "outputs": [],
   "source": [
    "sns.lmplot(data=titanic, x='Parch', y='Age')"
   ]
  },
  {
   "cell_type": "markdown",
   "id": "ccfb6dd8-21ed-4984-8cf9-522689fe5aa0",
   "metadata": {},
   "source": [
    "# Penguins dataset\n",
    "\n",
    "https://allisonhorst.github.io/palmerpenguins/"
   ]
  },
  {
   "cell_type": "code",
   "execution_count": null,
   "id": "d20d11af-75db-41d6-a28f-f6f4872515f8",
   "metadata": {},
   "outputs": [],
   "source": [
    "import seaborn as sns"
   ]
  },
  {
   "cell_type": "code",
   "execution_count": null,
   "id": "19aca424-f15e-4994-99c3-397864aa03b4",
   "metadata": {},
   "outputs": [],
   "source": [
    "penguins = sns.load_dataset(\"penguins\")"
   ]
  },
  {
   "cell_type": "code",
   "execution_count": null,
   "id": "01ebac1e-6a73-4dd3-8b83-45ccb876effa",
   "metadata": {},
   "outputs": [],
   "source": [
    "penguins.info()"
   ]
  },
  {
   "cell_type": "code",
   "execution_count": null,
   "id": "d829103c-f75e-4fce-b0fb-5dad287aa487",
   "metadata": {},
   "outputs": [],
   "source": [
    "sns.histplot(data=penguins, \n",
    "             x=\"flipper_length_mm\")"
   ]
  },
  {
   "cell_type": "code",
   "execution_count": null,
   "id": "1bf6b7e5-b225-4d0c-a145-83a16b1c1e90",
   "metadata": {},
   "outputs": [],
   "source": [
    "sns.histplot(data=penguins, \n",
    "             x=\"flipper_length_mm\", \n",
    "             hue=\"species\")"
   ]
  },
  {
   "cell_type": "code",
   "execution_count": null,
   "id": "77866911-a235-4a40-9715-91c8bddca5a3",
   "metadata": {},
   "outputs": [],
   "source": [
    "sns.histplot(data=penguins, \n",
    "             x=\"flipper_length_mm\", \n",
    "             hue=\"species\", \n",
    "             multiple=\"stack\")"
   ]
  },
  {
   "cell_type": "code",
   "execution_count": null,
   "id": "a0391ad8-8609-4e9c-8592-95e4588a510c",
   "metadata": {},
   "outputs": [],
   "source": [
    "sns.kdeplot(data=penguins, \n",
    "             x=\"flipper_length_mm\", \n",
    "             hue=\"species\", \n",
    "             multiple=\"stack\")"
   ]
  },
  {
   "cell_type": "code",
   "execution_count": null,
   "id": "b36e33c1-48f0-4ec0-a27a-6eeadc1aa9b9",
   "metadata": {},
   "outputs": [],
   "source": [
    "g = sns.FacetGrid(penguins, col=\"species\")\n",
    "g.map_dataframe(sns.kdeplot, x=\"flipper_length_mm\")"
   ]
  },
  {
   "cell_type": "code",
   "execution_count": null,
   "id": "6165410c-220d-41a6-a748-eb3a42bd4540",
   "metadata": {},
   "outputs": [],
   "source": [
    "g = sns.FacetGrid(penguins, col=\"species\")\n",
    "g.map_dataframe(sns.histplot, x=\"flipper_length_mm\")"
   ]
  },
  {
   "cell_type": "code",
   "execution_count": null,
   "id": "4cd1a22b-0591-4ecb-b25d-2682cb59e533",
   "metadata": {},
   "outputs": [],
   "source": [
    "sns.catplot(data=penguins, \n",
    "             x=\"flipper_length_mm\", \n",
    "             hue=\"species\",\n",
    "            col=\"species\")"
   ]
  },
  {
   "cell_type": "code",
   "execution_count": null,
   "id": "2f6b16aa-9c89-4b7d-b30c-1349e515dbe9",
   "metadata": {},
   "outputs": [],
   "source": [
    "sns.displot(data=penguins, \n",
    "             x=\"flipper_length_mm\", \n",
    "             hue=\"species\",\n",
    "            col=\"species\")"
   ]
  },
  {
   "cell_type": "code",
   "execution_count": null,
   "id": "f4b47bbb-1548-47b3-8415-0ba4ee5588cf",
   "metadata": {},
   "outputs": [],
   "source": [
    "sns.pairplot(data=penguins)"
   ]
  },
  {
   "cell_type": "code",
   "execution_count": null,
   "id": "a1fe89aa-ae52-45bf-8aab-aa7e3468eb8e",
   "metadata": {},
   "outputs": [],
   "source": [
    "sns.scatterplot(data=penguins, x='bill_length_mm', y='bill_depth_mm')"
   ]
  },
  {
   "cell_type": "code",
   "execution_count": null,
   "id": "341338dc-843f-4c47-b972-62c4ed36b161",
   "metadata": {},
   "outputs": [],
   "source": [
    "sns.scatterplot(data=penguins, x='body_mass_g', y='flipper_length_mm')"
   ]
  },
  {
   "cell_type": "code",
   "execution_count": null,
   "id": "ed52e967-dd25-4702-a1db-494cfd76ed93",
   "metadata": {},
   "outputs": [],
   "source": [
    "penguins.corr()"
   ]
  },
  {
   "cell_type": "code",
   "execution_count": null,
   "id": "ff3bb071-c4be-4504-88f2-b31460f82bed",
   "metadata": {},
   "outputs": [],
   "source": [
    "sns.pairplot(data=penguins)"
   ]
  },
  {
   "cell_type": "code",
   "execution_count": null,
   "id": "4ed7fecf-2ec5-4c1d-9a80-7807584932cb",
   "metadata": {},
   "outputs": [],
   "source": [
    "sns.pairplot(data=penguins, hue='species')"
   ]
  },
  {
   "cell_type": "markdown",
   "id": "08a0d7cf-967d-4b51-8d47-8c80fcefedce",
   "metadata": {},
   "source": [
    "Something seems fishy with the negative correlation"
   ]
  },
  {
   "cell_type": "code",
   "execution_count": null,
   "id": "94202450-04d9-44f2-8d88-e7cea6fe12a5",
   "metadata": {},
   "outputs": [],
   "source": [
    "sns.jointplot(data=penguins,\n",
    "              x=\"bill_depth_mm\", \n",
    "              y='flipper_length_mm',\n",
    "              hue=\"species\")"
   ]
  },
  {
   "cell_type": "code",
   "execution_count": null,
   "id": "80de12b9-25fd-4296-8aac-2c516f31575b",
   "metadata": {},
   "outputs": [],
   "source": [
    "sns.displot(data=penguins,\n",
    "            x=\"flipper_length_mm\",\n",
    "            hue=\"species\",\n",
    "            col=\"species\")"
   ]
  },
  {
   "cell_type": "code",
   "execution_count": null,
   "id": "ffc2adb0-ea80-43ac-9a17-5766e943278b",
   "metadata": {},
   "outputs": [],
   "source": [
    "sns.displot(data=penguins, \n",
    "             x=\"bill_depth_mm\", \n",
    "             hue=\"species\",\n",
    "            col=\"species\")"
   ]
  },
  {
   "cell_type": "code",
   "execution_count": null,
   "id": "fda9b876-2dd0-48d3-9705-8aa8cea379af",
   "metadata": {},
   "outputs": [],
   "source": [
    "penguins[['species','island']]"
   ]
  },
  {
   "cell_type": "code",
   "execution_count": null,
   "id": "51de2101-ad46-4ac7-bb21-05fd8c806aa5",
   "metadata": {},
   "outputs": [],
   "source": [
    "penguins.groupby(['species'])['island'].value_counts().reset_index(name='counts')"
   ]
  },
  {
   "cell_type": "code",
   "execution_count": null,
   "id": "27ab44e1-379a-4d70-8a43-907b9aa1ec10",
   "metadata": {},
   "outputs": [],
   "source": [
    "penguins.groupby(['species'])['island'].value_counts().reset_index(name='counts').pivot(index='species',columns='island')"
   ]
  },
  {
   "cell_type": "code",
   "execution_count": null,
   "id": "bae81736-79ad-499a-be52-a2128b2df535",
   "metadata": {},
   "outputs": [],
   "source": [
    "tf = penguins.groupby(['species'])['island'].value_counts().reset_index(name='counts').pivot(index='species',columns='island')"
   ]
  },
  {
   "cell_type": "code",
   "execution_count": null,
   "id": "17b28b60-9817-4af2-996b-da9d9fd2369c",
   "metadata": {},
   "outputs": [],
   "source": [
    "tf.fillna(0,inplace=True)"
   ]
  },
  {
   "cell_type": "code",
   "execution_count": null,
   "id": "ddfff975-f75a-43bf-b6dc-7cb64506c059",
   "metadata": {},
   "outputs": [],
   "source": [
    "tf"
   ]
  },
  {
   "cell_type": "code",
   "execution_count": null,
   "id": "096b5fe9-234c-4d12-a4c3-85f31221a765",
   "metadata": {},
   "outputs": [],
   "source": [
    "sns.heatmap(tf)"
   ]
  },
  {
   "cell_type": "code",
   "execution_count": null,
   "id": "85510e69-4c42-4877-a0e1-52e6f27160ed",
   "metadata": {},
   "outputs": [],
   "source": [
    "sns.boxplot(data=penguins, x='species', y='flipper_length_mm')"
   ]
  },
  {
   "cell_type": "code",
   "execution_count": null,
   "id": "27654808-71b5-4c33-9f5c-df5a442a06d7",
   "metadata": {},
   "outputs": [],
   "source": [
    "sns.boxplot(data=penguins, x='island', y='flipper_length_mm')"
   ]
  },
  {
   "cell_type": "code",
   "execution_count": null,
   "id": "9fba2d73-a005-4f0f-9f8e-94d480f81fda",
   "metadata": {},
   "outputs": [],
   "source": [
    "sns.boxplot(data=penguins, y='island', x='flipper_length_mm')"
   ]
  },
  {
   "cell_type": "code",
   "execution_count": null,
   "id": "772cd4c8-9885-4951-944a-cd7a937f9292",
   "metadata": {},
   "outputs": [],
   "source": [
    "sns.boxplot(data=penguins, y='species', x='flipper_length_mm')"
   ]
  },
  {
   "cell_type": "code",
   "execution_count": null,
   "id": "43dad064-de5e-4983-9ba7-3bae1fbc4dc3",
   "metadata": {},
   "outputs": [],
   "source": [
    "g = sns.FacetGrid(penguins, row=\"species\", aspect=5, height=2)\n",
    "g.map_dataframe(sns.histplot, x=\"flipper_length_mm\", fill=True, alpha=.2)"
   ]
  },
  {
   "cell_type": "code",
   "execution_count": null,
   "id": "b6dd93fc-073d-4c84-8617-c31d46da0c8d",
   "metadata": {},
   "outputs": [],
   "source": [
    "penguins.to_csv('penguins.csv')"
   ]
  }
 ],
 "metadata": {
  "kernelspec": {
   "display_name": "Python 3 (ipykernel)",
   "language": "python",
   "name": "python3"
  },
  "language_info": {
   "codemirror_mode": {
    "name": "ipython",
    "version": 3
   },
   "file_extension": ".py",
   "mimetype": "text/x-python",
   "name": "python",
   "nbconvert_exporter": "python",
   "pygments_lexer": "ipython3",
   "version": "3.10.6"
  }
 },
 "nbformat": 4,
 "nbformat_minor": 5
}
