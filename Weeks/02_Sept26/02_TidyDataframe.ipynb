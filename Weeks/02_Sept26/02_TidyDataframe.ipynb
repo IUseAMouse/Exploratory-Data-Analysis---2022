{
 "cells": [
  {
   "cell_type": "markdown",
   "id": "c089cb4d-a004-43ae-bb70-1874634dec13",
   "metadata": {},
   "source": [
    "One advantage of using Python vs Tableau is that the data pre-processing is much easier."
   ]
  },
  {
   "cell_type": "code",
   "execution_count": null,
   "id": "2d63727f-2b2c-4983-bb90-e39312acbed4",
   "metadata": {},
   "outputs": [],
   "source": [
    "# need pandas and openpyxl"
   ]
  },
  {
   "cell_type": "code",
   "execution_count": null,
   "id": "001dc699-060a-454c-b52a-46cc0757d51e",
   "metadata": {},
   "outputs": [],
   "source": [
    "import pandas as pd"
   ]
  },
  {
   "cell_type": "code",
   "execution_count": null,
   "id": "a4b209a1-8af9-417a-8ee2-05c318b70e68",
   "metadata": {},
   "outputs": [],
   "source": [
    "a = pd.read_excel('data/TrilogyWords.xlsx')"
   ]
  },
  {
   "cell_type": "code",
   "execution_count": null,
   "id": "dd476d31-7fe5-4af0-b4f9-e74fb33d8d7d",
   "metadata": {},
   "outputs": [],
   "source": [
    "a"
   ]
  },
  {
   "cell_type": "markdown",
   "id": "699f7ded-f0fc-4919-9fd3-90b7ed9c815c",
   "metadata": {},
   "source": [
    "SO MANY NANS!!  and Unnamed Columns....\n",
    "\n",
    "What's going on?  Open up the data/TrilogyWords.xlsx file to see."
   ]
  },
  {
   "cell_type": "code",
   "execution_count": null,
   "id": "cab6152a-d5d6-4fc8-b98b-195acec33d25",
   "metadata": {},
   "outputs": [],
   "source": [
    "#pd.read_excel?"
   ]
  },
  {
   "cell_type": "code",
   "execution_count": null,
   "id": "261460eb-e5b1-4a4b-8a5e-0d5f33a2e6b6",
   "metadata": {},
   "outputs": [],
   "source": [
    "a = pd.read_excel('data/TrilogyWords.xlsx',\n",
    "                  skiprows=2,\n",
    "                  usecols=range(4),\n",
    "                  nrows=3)"
   ]
  },
  {
   "cell_type": "code",
   "execution_count": null,
   "id": "85373a6c-5b7f-46fe-8c7d-51e4abcdef99",
   "metadata": {},
   "outputs": [],
   "source": [
    "a"
   ]
  },
  {
   "cell_type": "markdown",
   "id": "976a30f6-d7d6-4bea-9dde-fb02b51db436",
   "metadata": {},
   "source": [
    "## Pandas Data Wrangling\n",
    "\n",
    "https://pandas.pydata.org/Pandas_Cheat_Sheet.pdf"
   ]
  },
  {
   "cell_type": "code",
   "execution_count": null,
   "id": "9745bb3e-2c2c-42d2-bb3e-673ecdf3b8ce",
   "metadata": {},
   "outputs": [],
   "source": [
    "pd.DataFrame.melt?"
   ]
  },
  {
   "cell_type": "code",
   "execution_count": null,
   "id": "fcf94002-cb89-4986-9241-13bf8e73a6ce",
   "metadata": {
    "tags": []
   },
   "outputs": [],
   "source": [
    "a.melt(id_vars=['Unnamed: 0'], \n",
    "       value_vars=['Lord of the Rings', 'Chronicles of Narnia', 'Dark Tower'])"
   ]
  },
  {
   "cell_type": "code",
   "execution_count": null,
   "id": "d572cee8-bcb6-48b4-96ed-c86bf5e1ed35",
   "metadata": {},
   "outputs": [],
   "source": [
    "a = a.melt(id_vars=['Unnamed: 0'],\n",
    "           value_vars=['Lord of the Rings', 'Chronicles of Narnia', 'Dark Tower'])"
   ]
  },
  {
   "cell_type": "code",
   "execution_count": null,
   "id": "8c774f86-87eb-4dfe-af4c-492f95631c1e",
   "metadata": {},
   "outputs": [],
   "source": [
    "a"
   ]
  },
  {
   "cell_type": "markdown",
   "id": "38f9bf64-1ad3-47b4-ad0a-418a0f636802",
   "metadata": {},
   "source": [
    "We can further rename the columns (and again re-assign back into \"a\")"
   ]
  },
  {
   "cell_type": "code",
   "execution_count": null,
   "id": "1eafefde-544c-4bdf-86c1-4a0a1f432be1",
   "metadata": {},
   "outputs": [],
   "source": [
    "a = a.rename(columns={'Unnamed: 0':'BookNum',\n",
    "                  'variable':'TrilogyName',\n",
    "                  'value':'Wordcount'})"
   ]
  },
  {
   "cell_type": "code",
   "execution_count": null,
   "id": "24aed896-ec9e-4f8d-9b75-86ce37aefabb",
   "metadata": {},
   "outputs": [],
   "source": [
    "a"
   ]
  },
  {
   "cell_type": "markdown",
   "id": "7e86a708-3163-42c9-85e0-f86ac2c9387f",
   "metadata": {},
   "source": [
    "### Once we're done, we can make a new spreadsheet for importing to Tableau"
   ]
  },
  {
   "cell_type": "code",
   "execution_count": null,
   "id": "9f38bd64-5af7-410d-b439-5bc1e088e31a",
   "metadata": {},
   "outputs": [],
   "source": [
    "a = pd.read_excel('data/TrilogyWords.xlsx',\n",
    "                  skiprows=2,\n",
    "                  usecols=range(4),\n",
    "                  nrows=3)\n",
    "\n",
    "a = a.melt(id_vars=['Unnamed: 0'],\n",
    "           value_vars=['Lord of the Rings', 'Chronicles of Narnia', 'Dark Tower'])\n",
    "\n",
    "a = a.rename(columns={'Unnamed: 0':'BookNum',\n",
    "                      'variable':'TrilogyName',\n",
    "                      'value':'Wordcount'})\n",
    "\n",
    "a.to_excel('mysheet.xlsx')"
   ]
  },
  {
   "cell_type": "markdown",
   "id": "a822e28b-38e3-479f-b6f0-27e7a116d38d",
   "metadata": {},
   "source": [
    "## Exercise"
   ]
  },
  {
   "cell_type": "markdown",
   "id": "3a659bf6-4e56-4c72-a7bf-323db31f4786",
   "metadata": {},
   "source": [
    "Import the data from 'data/piechart.xlsx' into a dataframe"
   ]
  },
  {
   "cell_type": "code",
   "execution_count": null,
   "id": "72f79251-fecd-4b41-9dd3-3199afe49901",
   "metadata": {},
   "outputs": [],
   "source": []
  },
  {
   "cell_type": "markdown",
   "id": "ca96a5f2-a9df-4434-8e16-e4599cdcaae7",
   "metadata": {},
   "source": [
    "How many NaNs are there?"
   ]
  },
  {
   "cell_type": "code",
   "execution_count": null,
   "id": "ec788f83-0c11-42a1-87de-ddc74f914d47",
   "metadata": {},
   "outputs": [],
   "source": []
  },
  {
   "cell_type": "markdown",
   "id": "c698580b-8367-49f4-9f6a-1e2c8052b3b8",
   "metadata": {},
   "source": [
    "Choose one method to deal with the NaN values so no NaNs are left."
   ]
  },
  {
   "cell_type": "code",
   "execution_count": null,
   "id": "9caa7bab-ec55-4dc8-bbc8-54a13788be43",
   "metadata": {},
   "outputs": [],
   "source": []
  },
  {
   "cell_type": "markdown",
   "id": "a111b6e3-cb30-45af-96b3-aa88cc89e5be",
   "metadata": {},
   "source": [
    "Change the column names"
   ]
  },
  {
   "cell_type": "code",
   "execution_count": null,
   "id": "6cef67f7-d79d-48f9-bd44-a415fc3d2de7",
   "metadata": {},
   "outputs": [],
   "source": []
  },
  {
   "cell_type": "markdown",
   "id": "3f1f2e23-22f6-4f34-8931-17acaad5c2e5",
   "metadata": {},
   "source": [
    "Output the dataframe to a new spreadsheet file."
   ]
  },
  {
   "cell_type": "code",
   "execution_count": null,
   "id": "6ef0f78f-a09d-4f52-acff-c5f12f1b7d05",
   "metadata": {},
   "outputs": [],
   "source": []
  }
 ],
 "metadata": {
  "kernelspec": {
   "display_name": "Python 3 (ipykernel)",
   "language": "python",
   "name": "python3"
  },
  "language_info": {
   "codemirror_mode": {
    "name": "ipython",
    "version": 3
   },
   "file_extension": ".py",
   "mimetype": "text/x-python",
   "name": "python",
   "nbconvert_exporter": "python",
   "pygments_lexer": "ipython3",
   "version": "3.10.6"
  }
 },
 "nbformat": 4,
 "nbformat_minor": 5
}
